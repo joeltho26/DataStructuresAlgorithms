{
 "cells": [
  {
   "cell_type": "code",
   "execution_count": 2,
   "metadata": {},
   "outputs": [
    {
     "name": "stdout",
     "output_type": "stream",
     "text": [
      "abcbaaforcaababcad\n",
      "forbcbaabcaababcad\n",
      "abcbaabcaababcafor\n",
      "aab\n",
      "aab\n",
      "abcbyescyesabcad\n",
      "aab\n",
      "abcbyescaababcad\n"
     ]
    }
   ],
   "source": [
    "def modify_at(string,index,value):\n",
    "    return string[:index] + value + string[index+1:]\n",
    "\n",
    "def modify_at_begin(string,value):\n",
    "    return value + string[1:]\n",
    "\n",
    "def modify_at_end(string,value):\n",
    "    return string[:-1] + value\n",
    "\n",
    "def modify_by_value(string,value_to_find,value_to_replace,times=None):\n",
    "    count = 0\n",
    "    size = len(value_to_find)\n",
    "    for i in range(len(string)-size):\n",
    "        if not times:\n",
    "            if string[i:i+size] == value_to_find:\n",
    "                print(string[i:i+size])\n",
    "                string = string[:i] + value_to_replace + string[i+size:]\n",
    "        if times:\n",
    "            if count < times:\n",
    "                if string[i:i+size] == value_to_find:\n",
    "                    count += 1\n",
    "                    print(string[i:i+size])\n",
    "                    string = string[:i] + value_to_replace + string[i+size:]\n",
    "    return string     \n",
    "\n",
    "if __name__ == \"__main__\":\n",
    "    a = \"abcbaabcaababcad\"\n",
    "    modified_value = \"for\"\n",
    "    print(modify_at(a,6,modified_value))\n",
    "    print(modify_at_begin(a,modified_value))\n",
    "    print(modify_at_end(a,modified_value))\n",
    "    \n",
    "    value_to_modify = \"aab\"\n",
    "    modified_value = \"yes\"\n",
    "    print(modify_by_value(a,value_to_modify,modified_value))\n",
    "    print(modify_by_value(a,value_to_modify,modified_value,1))"
   ]
  },
  {
   "cell_type": "code",
   "execution_count": null,
   "metadata": {},
   "outputs": [],
   "source": []
  }
 ],
 "metadata": {
  "kernelspec": {
   "display_name": "base",
   "language": "python",
   "name": "python3"
  },
  "language_info": {
   "codemirror_mode": {
    "name": "ipython",
    "version": 3
   },
   "file_extension": ".py",
   "mimetype": "text/x-python",
   "name": "python",
   "nbconvert_exporter": "python",
   "pygments_lexer": "ipython3",
   "version": "3.1.-1"
  }
 },
 "nbformat": 4,
 "nbformat_minor": 2
}
