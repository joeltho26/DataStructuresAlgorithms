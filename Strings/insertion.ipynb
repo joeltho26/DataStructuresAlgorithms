{
 "cells": [
  {
   "cell_type": "code",
   "execution_count": 3,
   "metadata": {},
   "outputs": [
    {
     "name": "stdout",
     "output_type": "stream",
     "text": [
      "abcbaabckgfaababcad\n",
      "kgfabcbaabcaababcad\n",
      "abcbaabcaababcadkgf\n"
     ]
    }
   ],
   "source": [
    "def insertion_at(string,index,value):\n",
    "    return string[:index] + value + string[index:]\n",
    "\n",
    "def insertion_at_beginning(string,value):\n",
    "    return value + string\n",
    "\n",
    "def insertion_at_end(string,value):\n",
    "    return string + value\n",
    "\n",
    "if __name__ == \"__main__\":\n",
    "    a = \"abcbaabcaababcad\"\n",
    "    value = \"kgf\"\n",
    "    index = 8\n",
    "    print(insertion_at(a,index,value))\n",
    "    print(insertion_at_beginning(a,value))\n",
    "    print(insertion_at_end(a,value))"
   ]
  },
  {
   "cell_type": "code",
   "execution_count": null,
   "metadata": {},
   "outputs": [],
   "source": []
  }
 ],
 "metadata": {
  "kernelspec": {
   "display_name": "base",
   "language": "python",
   "name": "python3"
  },
  "language_info": {
   "codemirror_mode": {
    "name": "ipython",
    "version": 3
   },
   "file_extension": ".py",
   "mimetype": "text/x-python",
   "name": "python",
   "nbconvert_exporter": "python",
   "pygments_lexer": "ipython3",
   "version": "3.11.5"
  }
 },
 "nbformat": 4,
 "nbformat_minor": 2
}
