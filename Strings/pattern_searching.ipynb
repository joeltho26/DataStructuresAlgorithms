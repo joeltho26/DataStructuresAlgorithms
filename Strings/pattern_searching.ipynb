{
 "cells": [
  {
   "cell_type": "markdown",
   "metadata": {},
   "source": [
    "##### Naive algorithm for Pattern Searching:"
   ]
  },
  {
   "cell_type": "code",
   "execution_count": 8,
   "metadata": {},
   "outputs": [
    {
     "name": "stdout",
     "output_type": "stream",
     "text": [
      "[10]\n",
      "[0, 9, 12]\n"
     ]
    }
   ],
   "source": [
    "def naive_algo(string,pattern):\n",
    "    size = len(string)\n",
    "    index_list = []\n",
    "    pattern_size = len(pattern)\n",
    "    for i in range(size-pattern_size+1):\n",
    "        if string[i:i+pattern_size] == pattern:\n",
    "            index_list.append(i)\n",
    "    return index_list\n",
    "\n",
    "if __name__ == \"__main__\":\n",
    "    str1 = \"THIS IS A TEST TEXT\"\n",
    "    pattern = \"TEST\"\n",
    "    print(naive_algo(str1,pattern))\n",
    "    \n",
    "    str1 = \"AABAACAADAABAABA\"\n",
    "    pattern = \"AABA\"\n",
    "    print(naive_algo(str1,pattern))"
   ]
  },
  {
   "cell_type": "code",
   "execution_count": null,
   "metadata": {},
   "outputs": [],
   "source": []
  }
 ],
 "metadata": {
  "kernelspec": {
   "display_name": "base",
   "language": "python",
   "name": "python3"
  },
  "language_info": {
   "codemirror_mode": {
    "name": "ipython",
    "version": 3
   },
   "file_extension": ".py",
   "mimetype": "text/x-python",
   "name": "python",
   "nbconvert_exporter": "python",
   "pygments_lexer": "ipython3",
   "version": "3.11.5"
  }
 },
 "nbformat": 4,
 "nbformat_minor": 2
}
