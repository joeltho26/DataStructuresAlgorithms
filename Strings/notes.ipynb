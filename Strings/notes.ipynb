{
 "cells": [
  {
   "cell_type": "markdown",
   "metadata": {},
   "source": [
    "#### String:\n",
    "\n",
    "String can be defined as a sequence of characters, stored in contiguous memory locations, terminated by a special character called the null character ‘\\0’.\n",
    "\n",
    "- Characteristics of String:\n",
    "    - Ordered\n",
    "    - Indexable\n",
    "    - Comparable\n",
    "\n",
    "- Applications:\n",
    "    - Text Processing\n",
    "    - Pattern Matching\n",
    "    - Data Compression (to reduce the amount of storage required to store them eg: String compression algorithms, such as Huffman coding and run-length encoding)\n",
    "\n",
    "- Advantages:\n",
    "    - Widely Supported\n",
    "        - fundamental data type in most programming languages\n",
    "    - Efficient Manipulation\n",
    "        - Many algorithms and data structures have been developed to efficiently manipulate strings, such as string matching algorithms, string compression algorithms, and data structures like tries and suffix arrays.\n",
    "    - Ability to Model Real-World Data\n",
    "    - Text Mining and Natural Language Processing\n",
    "\n",
    "- Disadvantages:\n",
    "    - Slow Concatenation\n",
    "    - Immutable\n",
    "    - Encoding Issues\n"
   ]
  },
  {
   "cell_type": "markdown",
   "metadata": {},
   "source": [
    "##### Basic string operations:\n",
    "- Accessing characters by index in a string.\n",
    "- Inserting character into a String.\n",
    "- Modifying character in String\n",
    "- Deletion of Character in String\n",
    "- Concatenating strings (combining multiple strings into one).\n",
    "- Finding the length of a string\n",
    "- Comparing strings for equality or lexicographical order"
   ]
  },
  {
   "cell_type": "markdown",
   "metadata": {},
   "source": []
  }
 ],
 "metadata": {
  "language_info": {
   "name": "python"
  }
 },
 "nbformat": 4,
 "nbformat_minor": 2
}
