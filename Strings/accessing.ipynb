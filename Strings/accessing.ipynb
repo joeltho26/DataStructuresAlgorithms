{
 "cells": [
  {
   "cell_type": "code",
   "execution_count": 3,
   "metadata": {},
   "outputs": [
    {
     "name": "stdout",
     "output_type": "stream",
     "text": [
      "b\n",
      "bca\n",
      "d\n",
      "cad\n",
      "a\n",
      "abc\n"
     ]
    }
   ],
   "source": [
    "def access_at(string,index,character_count=None):\n",
    "    if not character_count:\n",
    "        return string[index]\n",
    "    \n",
    "    if character_count:\n",
    "        return string[index:index+character_count]\n",
    "\n",
    "def access_first(string,character_count=None):\n",
    "    if not character_count:\n",
    "        return string[-1]\n",
    "\n",
    "    if character_count:\n",
    "        return string[-character_count:]\n",
    "    \n",
    "def access_last(string,character_count=None):\n",
    "    if not character_count:\n",
    "        return string[0]\n",
    "    \n",
    "    if character_count:\n",
    "        return string[:character_count]\n",
    "\n",
    "if __name__ == \"__main__\":\n",
    "    a = \"abcbaabcaababcad\"\n",
    "    index = 6\n",
    "    print(access_at(a,index))\n",
    "    character_count = 3\n",
    "    print(access_at(a,index,character_count))\n",
    "    \n",
    "    print(access_first(a))\n",
    "    character_count = 3\n",
    "    print(access_first(a,character_count))\n",
    "    \n",
    "    print(access_last(a))\n",
    "    character_count = 3\n",
    "    print(access_last(a,character_count))"
   ]
  },
  {
   "cell_type": "code",
   "execution_count": null,
   "metadata": {},
   "outputs": [],
   "source": []
  }
 ],
 "metadata": {
  "kernelspec": {
   "display_name": "base",
   "language": "python",
   "name": "python3"
  },
  "language_info": {
   "codemirror_mode": {
    "name": "ipython",
    "version": 3
   },
   "file_extension": ".py",
   "mimetype": "text/x-python",
   "name": "python",
   "nbconvert_exporter": "python",
   "pygments_lexer": "ipython3",
   "version": "3.11.5"
  }
 },
 "nbformat": 4,
 "nbformat_minor": 2
}
