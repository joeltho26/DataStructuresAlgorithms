{
 "cells": [
  {
   "cell_type": "markdown",
   "metadata": {},
   "source": [
    "##### Get Substring:"
   ]
  },
  {
   "cell_type": "code",
   "execution_count": 34,
   "metadata": {},
   "outputs": [
    {
     "name": "stdout",
     "output_type": "stream",
     "text": [
      "substring length exceeds the overall string length\n"
     ]
    }
   ],
   "source": [
    "def get_substring(string,pos,length):\n",
    "    limit = len(string) - pos\n",
    "    if length < limit:\n",
    "        return string[pos:pos+length]\n",
    "    else:\n",
    "        return \"substring length exceeds the overall string length\"\n",
    "\n",
    "if __name__ == \"__main__\":\n",
    "    a = \"abcbaabcaababcad\"\n",
    "    print(get_substring(a,5,20))"
   ]
  },
  {
   "cell_type": "markdown",
   "metadata": {},
   "source": [
    "##### Get count of given substring from a string:"
   ]
  },
  {
   "cell_type": "code",
   "execution_count": 8,
   "metadata": {},
   "outputs": [
    {
     "name": "stdout",
     "output_type": "stream",
     "text": [
      "2\n",
      "4\n",
      "0\n"
     ]
    }
   ],
   "source": [
    "def count_substring(string,substring):\n",
    "    size = len(substring)\n",
    "    count = 0\n",
    "    for i in range(len(string)-size):\n",
    "        if string[i:i+size] == substring:\n",
    "            count += 1\n",
    "    return count\n",
    "    \n",
    "if __name__ == \"__main__\":\n",
    "    a = \"abcbaabcaababcad\"\n",
    "    b = \"aab\"\n",
    "    print(count_substring(a,b))\n",
    "    \n",
    "    b = \"ab\"\n",
    "    print(count_substring(a,b))\n",
    "    \n",
    "    b = \"abcd\"\n",
    "    print(count_substring(a,b))"
   ]
  },
  {
   "cell_type": "markdown",
   "metadata": {},
   "source": [
    "##### Print all substrings & count of substrings of a given string:"
   ]
  },
  {
   "cell_type": "code",
   "execution_count": 39,
   "metadata": {},
   "outputs": [
    {
     "name": "stdout",
     "output_type": "stream",
     "text": [
      "a,ab,abc,abcd,b,bc,bcd,c,cd,d,\n",
      "count of substrings from abcd: 10\n",
      "\n"
     ]
    }
   ],
   "source": [
    "def print_all_susbtring(string):\n",
    "    # count = 0\n",
    "    # size = len(string)\n",
    "    # for i in range(size):\n",
    "    #     for j in range(i+1,size+1):\n",
    "    #         count += 1\n",
    "    #         print(string[i:j], end=\",\")   \n",
    "    # print()\n",
    "    # print(f\"count of substrings from {string}: {count}\")\n",
    "    # print()\n",
    "    \n",
    "    size = len(string)\n",
    "    count = 0\n",
    "    for i in range(size):\n",
    "        st = \"\"\n",
    "        for j in range(i,size):\n",
    "            st += string[j]\n",
    "            count += 1\n",
    "            print(st, end=\",\")\n",
    "    print()\n",
    "    print(f\"count of substrings from {string}: {count}\")\n",
    "    print()\n",
    "    \n",
    "if __name__ == \"__main__\":\n",
    "    a = \"abcd\"\n",
    "    print_all_susbtring(a)\n",
    "    \n",
    "    # a = \"abc\"\n",
    "    # print_all_susbtring(a)"
   ]
  },
  {
   "cell_type": "markdown",
   "metadata": {},
   "source": [
    "##### Number of substrings of one string present in other:"
   ]
  },
  {
   "cell_type": "code",
   "execution_count": 1,
   "metadata": {},
   "outputs": [
    {
     "name": "stdout",
     "output_type": "stream",
     "text": [
      "count: 6\n",
      "Substring: ['a', 'aa', 'aab', 'a', 'ab', 'b']\n",
      "count: 3\n",
      "Substring: ['a', 'c', 'd']\n"
     ]
    }
   ],
   "source": [
    "def number_of_substring_of_s1_in_s2(a,b):\n",
    "    size = len(a)\n",
    "    count = 0\n",
    "    substring = []\n",
    "    for i in range(size):\n",
    "        for j in range(i+1,size+1):\n",
    "            if a[i:j] in b:\n",
    "                count += 1\n",
    "                substring.append(a[i:j])\n",
    "    print(f\"count: {count}\")\n",
    "    print(f\"Substring: {substring}\")\n",
    "            \n",
    "\n",
    "if __name__ == \"__main__\":\n",
    "    a = \"aab\"\n",
    "    b = \"aaaab\"\n",
    "    number_of_substring_of_s1_in_s2(a,b)\n",
    "    \n",
    "    a = \"abcd\"\n",
    "    b = \"swalencud\"\n",
    "    number_of_substring_of_s1_in_s2(a,b)"
   ]
  },
  {
   "cell_type": "markdown",
   "metadata": {},
   "source": [
    "##### Count of palindromic sub-string of a string in its sorted form:"
   ]
  },
  {
   "cell_type": "code",
   "execution_count": 45,
   "metadata": {},
   "outputs": [
    {
     "name": "stdout",
     "output_type": "stream",
     "text": [
      "Count: 6\n",
      "Substring: ['a', 'c', 'b', 'bb', 'b', 'd']\n",
      "Count: 13\n",
      "Substring: ['a', 'abba', 'b', 'bb', 'b', 'bab', 'a', 'b', 'bdb', 'd', 'dbd', 'b', 'd']\n",
      "Count: 26\n",
      "Substring: ['a', 'ana', 'anana', 'ananana', 'n', 'nan', 'nanan', 'nananan', 'a', 'ana', 'anana', 'n', 'nan', 'nanan', 'a', 'ana', 'n', 'nan', 'a', 'n', 'd', 'dd', 'ddd', 'd', 'dd', 'd']\n"
     ]
    }
   ],
   "source": [
    "def count_of__palindrome_substring_of_sorted_string(a):\n",
    "    size = len(a)\n",
    "    count = 0\n",
    "    substring = []\n",
    "    for i in range(size):\n",
    "        for j in range(i+1,size+1):\n",
    "            st = a[i:j]\n",
    "            rev_st = st[::-1]\n",
    "            if st == rev_st:\n",
    "                count += 1\n",
    "                substring.append(st)\n",
    "    print(f\"Count: {count}\")\n",
    "    print(f\"Substring: {substring}\")\n",
    "\n",
    "if __name__ == \"__main__\":\n",
    "    a = \"acbbd\"\n",
    "    count_of__palindrome_substring_of_sorted_string(a)\n",
    "    \n",
    "    a = \"abbabdbd\"\n",
    "    count_of__palindrome_substring_of_sorted_string(a)\n",
    "    \n",
    "    a=\"ananananddd\"\n",
    "    count_of__palindrome_substring_of_sorted_string(a)"
   ]
  },
  {
   "cell_type": "markdown",
   "metadata": {},
   "source": [
    "##### Check if a string contains a palindromic sub-string of even length:"
   ]
  },
  {
   "cell_type": "code",
   "execution_count": 48,
   "metadata": {},
   "outputs": [
    {
     "name": "stdout",
     "output_type": "stream",
     "text": [
      "Count: 5\n",
      "Substring: ['aa', 'ss', 'ssss', 'ss', 'ss']\n",
      "No palindrome substring of even length\n"
     ]
    }
   ],
   "source": [
    "def check_palindrome_substring_even_length(a):\n",
    "    size = len(a)\n",
    "    substring = []\n",
    "    count = 0\n",
    "    for i in range(size):\n",
    "        for j in range(i+1,size+1):\n",
    "            st = a[i:j]\n",
    "            rev_st = st[::-1]\n",
    "            if st == rev_st and len(st)%2==0:\n",
    "                substring.append(st)\n",
    "                count += 1\n",
    "    if count and substring:\n",
    "        print(f\"Count: {count}\")\n",
    "        print(f\"Substring: {substring}\")\n",
    "    else:\n",
    "        print(\"No palindrome substring of even length\")\n",
    "\n",
    "if __name__ == \"__main__\":\n",
    "    a = \"aassss\"\n",
    "    check_palindrome_substring_even_length(a)\n",
    "    \n",
    "    a = \"gfg\"\n",
    "    check_palindrome_substring_even_length(a)"
   ]
  },
  {
   "cell_type": "markdown",
   "metadata": {},
   "source": [
    "##### Longest sub string of 0’s in a binary string which is repeated K times:"
   ]
  },
  {
   "cell_type": "code",
   "execution_count": 64,
   "metadata": {},
   "outputs": [
    {
     "name": "stdout",
     "output_type": "stream",
     "text": [
      "4\n",
      "4\n"
     ]
    }
   ],
   "source": [
    "def longest_substring_binary_string_K_times(a,k):\n",
    "    string = a * k\n",
    "    max_length = 0\n",
    "    count = 0\n",
    "    size = len(string)\n",
    "    for i in range(size):\n",
    "        if int(string[i]) == 0:\n",
    "            count += 1\n",
    "            if count > max_length:\n",
    "                max_length = count\n",
    "        else:\n",
    "            count = 0\n",
    "    print(max_length)\n",
    "\n",
    "if __name__ == \"__main__\":\n",
    "    a = \"100001\"\n",
    "    k = 3\n",
    "    longest_substring_binary_string_K_times(a,k)\n",
    "    \n",
    "    a = \"010001000\"\n",
    "    k = 4\n",
    "    longest_substring_binary_string_K_times(a,k)"
   ]
  },
  {
   "cell_type": "markdown",
   "metadata": {},
   "source": [
    "##### Find the longest substring with k unique characters in a given string:"
   ]
  },
  {
   "cell_type": "code",
   "execution_count": 78,
   "metadata": {},
   "outputs": [
    {
     "name": "stdout",
     "output_type": "stream",
     "text": [
      "7\n"
     ]
    }
   ],
   "source": [
    "def longestKSubstr(string,k):\n",
    "    size = len(string)\n",
    "    max_length = 0\n",
    "    for i in range(size):\n",
    "        for j in range(i+1, size+1):\n",
    "            distinct = set(string[i:j])\n",
    "            if len(string[i:j]) > max_length and len(data) == k:\n",
    "                max_length = len(string[i:j])\n",
    "                \n",
    "    print()\n",
    "    return max_length\n",
    "if __name__ == \"__main__\":\n",
    "    a = \"aabacbebebe\"\n",
    "    k = 3\n",
    "    print(longestKSubstr(a,k))\n",
    "    "
   ]
  },
  {
   "cell_type": "markdown",
   "metadata": {},
   "source": [
    "##### Shortest Palindromic Substring:"
   ]
  },
  {
   "cell_type": "code",
   "execution_count": 3,
   "metadata": {},
   "outputs": [
    {
     "name": "stdout",
     "output_type": "stream",
     "text": [
      "y\n",
      "a\n"
     ]
    }
   ],
   "source": [
    "def palindrome(string):\n",
    "    rev_st = string[::-1]\n",
    "    if string == rev_st:\n",
    "        return True\n",
    "    return False\n",
    "\n",
    "def substring(str):\n",
    "    size = len(str)\n",
    "    substring = []\n",
    "    shortest = \"\"\n",
    "    for i in range(size):\n",
    "        substring.append(str[i])\n",
    "        if palindrome(str[i]):\n",
    "            if shortest:\n",
    "                shortest = min(str[i],shortest)\n",
    "            else:\n",
    "                shortest = str[i]\n",
    "        for j in range(i+1,size+1):\n",
    "            substring.append(str[i:j])\n",
    "            if palindrome(str[i]):\n",
    "                shortest = min(str[i],shortest)\n",
    "            \n",
    "    return shortest\n",
    "    \n",
    "if __name__ == \"__main__\":\n",
    "    a = \"zyzz\"\n",
    "    print(substring(a))\n",
    "    \n",
    "    a = \"abab\"\n",
    "    print(substring(a))"
   ]
  },
  {
   "cell_type": "markdown",
   "metadata": {},
   "source": [
    "##### Count of K-size substrings having palindromic permutations:"
   ]
  },
  {
   "cell_type": "code",
   "execution_count": 31,
   "metadata": {},
   "outputs": [
    {
     "name": "stdout",
     "output_type": "stream",
     "text": [
      "(['abb', 'bba', 'aca'], 3)\n",
      "(['a', 'a', 'a', 'a'], 4)\n"
     ]
    }
   ],
   "source": [
    "from itertools import permutations\n",
    "def palindrome(string):\n",
    "    rev_st = string[::-1]\n",
    "    if string == rev_st:\n",
    "        return True\n",
    "    return False\n",
    "\n",
    "def substring(str,k):\n",
    "    size = len(str)\n",
    "    substring = []\n",
    "    count = 0\n",
    "    substring2 = []\n",
    "    for i in range(size):\n",
    "        if len(str[i]) == k:\n",
    "            substring.append(str[i])\n",
    "        for j in range(i+1,size+1):\n",
    "            if k <= 1:\n",
    "                break\n",
    "            if len(str[i:j]) == k:\n",
    "                substring.append(str[i:j])\n",
    "    \n",
    "    for i in range(len(substring)):\n",
    "        perm = list(permutations(substring[i]))\n",
    "        for j in range(len(perm)):\n",
    "            str = \"\".join(perm[j])\n",
    "            if palindrome(str):\n",
    "                count += 1\n",
    "                substring2.append(substring[i]) \n",
    "                break\n",
    "    return (substring2,count)  \n",
    "                \n",
    "        \n",
    "    \n",
    "if __name__ == \"__main__\":\n",
    "    a = \"abbaca\"\n",
    "    k = 3\n",
    "    print(substring(a,k))\n",
    "    \n",
    "    a = \"aaaa\"\n",
    "    k = 1\n",
    "    print(substring(a,k))"
   ]
  },
  {
   "cell_type": "code",
   "execution_count": null,
   "metadata": {},
   "outputs": [],
   "source": []
  }
 ],
 "metadata": {
  "kernelspec": {
   "display_name": "base",
   "language": "python",
   "name": "python3"
  },
  "language_info": {
   "codemirror_mode": {
    "name": "ipython",
    "version": 3
   },
   "file_extension": ".py",
   "mimetype": "text/x-python",
   "name": "python",
   "nbconvert_exporter": "python",
   "pygments_lexer": "ipython3",
   "version": "3.11.5"
  }
 },
 "nbformat": 4,
 "nbformat_minor": 2
}
