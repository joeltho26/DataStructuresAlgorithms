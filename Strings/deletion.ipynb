{
 "cells": [
  {
   "cell_type": "code",
   "execution_count": 13,
   "metadata": {},
   "outputs": [
    {
     "name": "stdout",
     "output_type": "stream",
     "text": [
      "abcbaabcaababcad\n",
      "abcbaacaababcad\n",
      "abcbaaababcad\n",
      "bcbaabcaababcad\n",
      "baabcaababcad\n",
      "abcbaabcaababca\n",
      "abcbaabcaabab\n",
      "abcbcabcad\n",
      "abcbcaababcad\n"
     ]
    }
   ],
   "source": [
    "def delete_at(string,index,character_count=None):\n",
    "    if not character_count:\n",
    "        return string[:index] + string[index+1:]\n",
    "    \n",
    "    if character_count:\n",
    "        return string[:index] + string[index+character_count:]\n",
    "\n",
    "def delete_at_begin(string,character_count=None):\n",
    "    if not character_count:\n",
    "        return string[1:]\n",
    "    \n",
    "    if character_count:\n",
    "        return string[character_count:]\n",
    "\n",
    "def delete_at_end(string,character_count=None):\n",
    "    if not character_count:\n",
    "        return string[:-1]\n",
    "    \n",
    "    if character_count:\n",
    "        return string[:-character_count]\n",
    "\n",
    "def delete_by_value(string,value_to_delete,times=None):\n",
    "    size = len(value_to_delete)\n",
    "    count = 0\n",
    "    for i in range(len(string)-size):\n",
    "        if not times:\n",
    "            if string[i:i+size] == value_to_delete:\n",
    "                string = string[:i] + string[i+size:]\n",
    "        if times:\n",
    "            if count < times:\n",
    "                if string[i:i+size] == value_to_delete:\n",
    "                    count += 1\n",
    "                    string = string[:i] + string[i+size:]\n",
    "        \n",
    "    return string\n",
    "\n",
    "if __name__ == \"__main__\":\n",
    "    a = \"abcbaabcaababcad\"\n",
    "    print(a)\n",
    "    modified_value = \"for\"\n",
    "    print(delete_at(a,6))\n",
    "    character_count = 3\n",
    "    print(delete_at(a,6,character_count))\n",
    "    \n",
    "    print(delete_at_begin(a))\n",
    "    character_count = 3\n",
    "    print(delete_at_begin(a,character_count))\n",
    "    \n",
    "    print(delete_at_end(a))\n",
    "    character_count = 3\n",
    "    print(delete_at_end(a,character_count))\n",
    "    \n",
    "    value_to_delete = \"aab\"\n",
    "    print(delete_by_value(a,value_to_delete))\n",
    "    print(delete_by_value(a,value_to_delete,1))"
   ]
  },
  {
   "cell_type": "code",
   "execution_count": null,
   "metadata": {},
   "outputs": [],
   "source": []
  }
 ],
 "metadata": {
  "kernelspec": {
   "display_name": "base",
   "language": "python",
   "name": "python3"
  },
  "language_info": {
   "codemirror_mode": {
    "name": "ipython",
    "version": 3
   },
   "file_extension": ".py",
   "mimetype": "text/x-python",
   "name": "python",
   "nbconvert_exporter": "python",
   "pygments_lexer": "ipython3",
   "version": "3.11.5"
  }
 },
 "nbformat": 4,
 "nbformat_minor": 2
}
