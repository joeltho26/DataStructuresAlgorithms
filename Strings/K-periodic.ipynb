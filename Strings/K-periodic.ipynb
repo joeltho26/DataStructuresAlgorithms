{
 "cells": [
  {
   "cell_type": "code",
   "execution_count": 2,
   "metadata": {},
   "outputs": [
    {
     "name": "stdout",
     "output_type": "stream",
     "text": [
      "String geeksgeeks is 5-periodic: geeks\n",
      "String geeksforgeeks is not 3-periodic\n"
     ]
    }
   ],
   "source": [
    "def k_periodic(a,k):\n",
    "    size = len(a)\n",
    "    for i in range(0,size-k,k):\n",
    "        if a[i:i+k] == a[i+k:i+(k*k)]:\n",
    "            continue\n",
    "        else:\n",
    "            print(f\"String {a} is not {k}-periodic\")\n",
    "            return\n",
    "    string = a[0:k]\n",
    "    print(f\"String {a} is {k}-periodic: {string}\")\n",
    "            \n",
    "        \n",
    "if __name__ == \"__main__\":\n",
    "    a = \"geeksgeeks\"\n",
    "    k=5\n",
    "    k_periodic(a,k)\n",
    "    \n",
    "    a = \"geeksforgeeks\"\n",
    "    k=3\n",
    "    k_periodic(a,k)"
   ]
  },
  {
   "cell_type": "code",
   "execution_count": null,
   "metadata": {},
   "outputs": [],
   "source": []
  }
 ],
 "metadata": {
  "kernelspec": {
   "display_name": "base",
   "language": "python",
   "name": "python3"
  },
  "language_info": {
   "codemirror_mode": {
    "name": "ipython",
    "version": 3
   },
   "file_extension": ".py",
   "mimetype": "text/x-python",
   "name": "python",
   "nbconvert_exporter": "python",
   "pygments_lexer": "ipython3",
   "version": "3.11.5"
  }
 },
 "nbformat": 4,
 "nbformat_minor": 2
}
