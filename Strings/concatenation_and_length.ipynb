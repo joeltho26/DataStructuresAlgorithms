{
 "cells": [
  {
   "cell_type": "code",
   "execution_count": 1,
   "metadata": {},
   "outputs": [
    {
     "name": "stdout",
     "output_type": "stream",
     "text": [
      "abcbaabcaababcadffe\n",
      "16\n",
      "16\n"
     ]
    }
   ],
   "source": [
    "def concatentation(string1,string2):\n",
    "    return string1+string2\n",
    "\n",
    "def length(string):\n",
    "    return len(string)\n",
    "\n",
    "def length_using_loop(string):\n",
    "    count = 0\n",
    "    for i in string:\n",
    "        count += 1\n",
    "    return count\n",
    "\n",
    "if __name__ == \"__main__\":\n",
    "    a = \"abcbaabcaababcad\"\n",
    "    b = \"ffe\"\n",
    "    print(concatentation(a,b))\n",
    "    print(length(a))\n",
    "    print(length_using_loop(a))"
   ]
  },
  {
   "cell_type": "code",
   "execution_count": null,
   "metadata": {},
   "outputs": [],
   "source": []
  }
 ],
 "metadata": {
  "kernelspec": {
   "display_name": "base",
   "language": "python",
   "name": "python3"
  },
  "language_info": {
   "codemirror_mode": {
    "name": "ipython",
    "version": 3
   },
   "file_extension": ".py",
   "mimetype": "text/x-python",
   "name": "python",
   "nbconvert_exporter": "python",
   "pygments_lexer": "ipython3",
   "version": "3.11.5"
  }
 },
 "nbformat": 4,
 "nbformat_minor": 2
}
