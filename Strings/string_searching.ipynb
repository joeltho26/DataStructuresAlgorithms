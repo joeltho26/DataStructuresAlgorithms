{
 "cells": [
  {
   "cell_type": "markdown",
   "metadata": {},
   "source": [
    "##### Check if a string is substring of another:"
   ]
  },
  {
   "cell_type": "code",
   "execution_count": 6,
   "metadata": {},
   "outputs": [
    {
     "name": "stdout",
     "output_type": "stream",
     "text": [
      "5\n",
      "-1\n"
     ]
    }
   ],
   "source": [
    "def substring(string1,string2):\n",
    "    size = len(string2)\n",
    "    for i in range(size):\n",
    "        for j in range(i+1,size+1):\n",
    "            if string2[i:j] == string1:\n",
    "                index = string2.find(string1)\n",
    "                return index\n",
    "    return -1\n",
    "\n",
    "if __name__ == \"__main__\":\n",
    "    S1 = \"for\"\n",
    "    S2= \"geeksforgeeks\"\n",
    "    print(substring(S1,S2))\n",
    "    \n",
    "    S1 = \"practise\"\n",
    "    S2= \"geeksforgeeks\"\n",
    "    print(substring(S1,S2))\n"
   ]
  },
  {
   "cell_type": "markdown",
   "metadata": {},
   "source": [
    "##### Print all occurrences of a string as a substring in another string:"
   ]
  },
  {
   "cell_type": "code",
   "execution_count": 51,
   "metadata": {},
   "outputs": [
    {
     "name": "stdout",
     "output_type": "stream",
     "text": [
      "0 8\n",
      "None\n"
     ]
    }
   ],
   "source": [
    "def substring(string1,string2):\n",
    "    size = len(string1)\n",
    "    output = None\n",
    "    count = 0\n",
    "    for i in range(size):\n",
    "        for j in range(i+1,size+1):\n",
    "            if string1[i:j] == string2:\n",
    "                index = string1.find(string2,count)\n",
    "                count += 1\n",
    "                if output:\n",
    "                    output += \" \" + str(index)\n",
    "                else:\n",
    "                    output = str(index)\n",
    "\n",
    "    return output\n",
    "if __name__ == \"__main__\":\n",
    "    S1 = \"GeeksforGeeks\"\n",
    "    S2= \"Geeks\"\n",
    "    print(substring(S1,S2))\n",
    "    \n",
    "    S1 = \"GFG\"\n",
    "    S2= \"g\"\n",
    "    print(substring(S1,S2))\n"
   ]
  },
  {
   "cell_type": "code",
   "execution_count": null,
   "metadata": {},
   "outputs": [],
   "source": []
  }
 ],
 "metadata": {
  "kernelspec": {
   "display_name": "base",
   "language": "python",
   "name": "python3"
  },
  "language_info": {
   "codemirror_mode": {
    "name": "ipython",
    "version": 3
   },
   "file_extension": ".py",
   "mimetype": "text/x-python",
   "name": "python",
   "nbconvert_exporter": "python",
   "pygments_lexer": "ipython3",
   "version": "3.11.5"
  }
 },
 "nbformat": 4,
 "nbformat_minor": 2
}
