{
 "cells": [
  {
   "cell_type": "code",
   "execution_count": 2,
   "metadata": {},
   "outputs": [
    {
     "name": "stdout",
     "output_type": "stream",
     "text": [
      "True\n",
      "False\n"
     ]
    }
   ],
   "source": [
    "def palindrome(string):\n",
    "    reverse_string = string[::-1]\n",
    "    if reverse_string.lower() == string.lower():\n",
    "        return True\n",
    "    else:\n",
    "        return False\n",
    "    \n",
    "    # size = len(string)\n",
    "    # st = \"\"\n",
    "    # for i in range(size):\n",
    "    #     st = string[i] + st\n",
    "        \n",
    "    # if st.lower() == string.lower():\n",
    "    #     print(\"Given string is a palindrome\")\n",
    "    # else:\n",
    "    #     print(\"Given string is not a palindrome\")\n",
    "    \n",
    "if __name__ == \"__main__\":\n",
    "    string = \"Malayalam\"\n",
    "    print(palindrome(string))\n",
    "    string = \"Tamil\"\n",
    "    print(palindrome(string))\n",
    "    \n",
    "    \n",
    "    "
   ]
  },
  {
   "cell_type": "markdown",
   "metadata": {},
   "source": [
    "##### Find the count of palindromic sub-string of a string in its sorted form:"
   ]
  },
  {
   "cell_type": "code",
   "execution_count": null,
   "metadata": {},
   "outputs": [],
   "source": [
    "def count_of_palindromic_substring_of_string(string):\n",
    "    count = 0\n",
    "    size = len(string)\n",
    "    for i in range(size):\n",
    "        for j in range(i+1,size+1):\n",
    "            print(string[i:j])\n",
    "            if string[i:j] == string[-j:-i]:\n",
    "                count += 1\n",
    "                # print(string[i:j], end=\",\")  \n",
    "             \n",
    "    print()\n",
    "    print(f\"count of substrings from {string}: {count}\")\n",
    "    print()\n",
    "    \n",
    "if __name__ == \"__main__\":\n",
    "    a = \"acbbd\"\n",
    "    b = \"abbabdbd\"\n",
    "    count_of_palindromic_substring_of_string(a)\n",
    "    # count_of_palindromic_substring_of_string(b)"
   ]
  }
 ],
 "metadata": {
  "kernelspec": {
   "display_name": "base",
   "language": "python",
   "name": "python3"
  },
  "language_info": {
   "codemirror_mode": {
    "name": "ipython",
    "version": 3
   },
   "file_extension": ".py",
   "mimetype": "text/x-python",
   "name": "python",
   "nbconvert_exporter": "python",
   "pygments_lexer": "ipython3",
   "version": "3.11.5"
  }
 },
 "nbformat": 4,
 "nbformat_minor": 2
}
