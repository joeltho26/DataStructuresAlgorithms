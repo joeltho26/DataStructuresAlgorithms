{
 "cells": [
  {
   "cell_type": "markdown",
   "metadata": {},
   "source": [
    "#### Hashing:\n",
    "Hashing refers to the process of generating a fixed-size output from an input of variable size using the mathematical formulas known as hash functions. This technique determines an index or location for the storage of an item in a data structure.\n",
    "\n",
    "+ Components of Hashing\n",
    "    - Key\n",
    "    - Hash Function\n",
    "    - Hash Table\n",
    "\n",
    "--------------\n",
    "\n",
    "+ Types of hashing:\n",
    "    - Trivial\n",
    "    - Double\n",
    "    - Chained\n",
    "    - Closed\n",
    "\n",
    "--------------\n",
    "\n",
    "Eg: Log File: \n",
    "1) Method 1:\n",
    "    - Implement dictionary\n",
    "        - Unordered list\n",
    "    - Insertion: O(1) & Deletion: O(n) (search and delete)\n",
    "\n",
    "2) Method 2:\n",
    "    - Implement Bucket Array\n",
    "    - Range of elements is required before\n",
    "    - Say element k will be stored in Array[k], eg: k=5 => Array[5]\n",
    "    - Keys must be integers\n",
    "    - Insertion: O(1) & Deletion: O(1)\n",
    "\n",
    "3) Method 3:\n",
    "    - Implement Hash Table\n",
    "        - Hash Function: input key (strings) => output integers i.e. the index of the bucket array called compression map\n",
    "        - Bucket Array\n"
   ]
  },
  {
   "cell_type": "markdown",
   "metadata": {},
   "source": [
    "#### Hash Codes:\n",
    "A Good Hash code:\n",
    "- minimize collision\n",
    "- h(key1) = h(key2), given key1 == key2\n",
    "- h(key1) != h(key2), given key1 != key2\n",
    "\n",
    "\n",
    "+ Memory Address:\n",
    "    - h(key) == memory address of key, eg: h(\"abc\") == 5000 == memory address of \"abc\".\n",
    "    - Disadvantage:\n",
    "        - if exactly same data is present and having 2 different h(key) output like \"abc\" in 5000 & 5010. It fails uniformity \n",
    "+ Integer Cast:\n",
    "    - converts keys to integer using type casting\n",
    "    - Disadvantage:\n",
    "        - loss of data & occur collision i.e. type cast float -> int: 3.6,3.8,3.2 all converted to 3.\n",
    "+ Component Sum:\n",
    "    - eg: 32 bits key => 32 bits + 32 bits and the output to be 32 bits hash code (break 32 bits into tokens)\n",
    "    - to bring the output of 32 bits from 64 bits is to ignore the overflow\n",
    "    - eg: string example,\n",
    "        - h(\"post\") -> ascii(p) + ascii(0) + ascii(s) + ascii(t)\n",
    "        - Disadvantage: h(\"post\") == h(\"stop\") == h(\"pots\") will all be same value\n",
    "\n",
    "+ Polynomial accumulation:\n",
    "    - eg: string example,\n",
    "        - h(\"post\") -> ascii(p)*(a^0) + ascii(0)*(a^1) + ascii(s)*(a^2) + ascii(t)*(a^3)\n",
    "        - h(key,a)\n",
    "        - Advantage: values like \"stop\" & \"post\" will have different hash values.\n",
    "        - sum = (sum*a) + arr[i] for i in range(arr):\n",
    "            - i=0,sum=0, hash = p\n",
    "            - i=1,sum=p, hash= pa + o\n",
    "            - i=2,sum=pa + o, hash=pa^2 + oa + s\n",
    "            - i=3,sum=pa^2 + oa + s, hash=pa^3 + oa^2 + sa + t"
   ]
  },
  {
   "cell_type": "markdown",
   "metadata": {},
   "source": [
    "#### Compression Map:\n",
    "- converts a integer from [-infinity to +infinity] to a range [0 to N-1]\n",
    "- N => range of array\n",
    "\n",
    "1) Division:\n",
    "    - cmp(y) => y % N\n",
    "    - collision will still occur.\n",
    "\n",
    "2) Multiply Add Divide:\n",
    "    - cmp(y) => ((ay+b)%p)%N\n",
    "        - N -> prime integer\n",
    "        - a & b -> non zero constants\n",
    "        - p -> prime integer < N"
   ]
  },
  {
   "cell_type": "markdown",
   "metadata": {},
   "source": [
    "#### Rehashing\n",
    "\n",
    "- Load Factor(λ): \n",
    "    - n => no of entries\n",
    "    - N => no of buckets\n",
    "        - n/N < 1, good condition:\n",
    "            - continue with hashing operations\n",
    "        - n/N >= 1, not good condition:\n",
    "            - Rehashing:\n",
    "                - increase the number of buckets N' => 2N+1\n",
    "                - rehash from x%N to x%N'"
   ]
  },
  {
   "cell_type": "markdown",
   "metadata": {},
   "source": [
    "##### Bloom Filter:\n",
    "- Phase 1 (inserting) & Phase 2 (Querying)\n",
    "- Does an element belong to a set especially to prove if the value is not in a set. Difficult to prove the value is present in set since we get FALSE POSITIVES results.\n",
    "- Size of bloom filter M, \n",
    "\n",
    "Eg: M=5\n",
    "- h1(x) => x % 5\n",
    "- h2(x) => (2x+3) % 5\n",
    "\n",
    "Phase 1 (insertion):\n",
    "- x -> 9,  h1(9) = 4 & h2(9) = 1,   => | 0 | 1 | 0 | 0 | 1 | \n",
    "- x -> 11,  h1(11) = 1 & h2(11) = 0,  => | 1 | 1 | 0 | 0 | 1 |, if overlap and if 1 already present then leave it that way.\n",
    "\n",
    "Phase 2 (querying):\n",
    "- x -> 15, h1(15) = 0 & h2(15) = 3,  => | 1 | 1 | 0 | 0 | 1 |, if both the pos 0 & 3 is not 1 then 15 is not present in set\n",
    "- x -> 16, h1(16) = 1 & h2(16) = 0, => | 1 | 1 | 0 | 0 | 1 |, if both the pos 0 & 3 is 1, its probably the value is present in set (False Positive)\n"
   ]
  },
  {
   "cell_type": "markdown",
   "metadata": {},
   "source": [
    "#### Trivial Hashing / Index Mapping\n",
    "- This approach commonly employs the identity hash function, which translates any input data toward itself. In this instance, the data key is utilized as an index within the hash table while the corresponding value is saved at that position.\n",
    "\n",
    "    - h(1) = 1 index of hash table\n",
    "    - h(2) = 2 index of hash table\n",
    "\n",
    "Allowing negative values by using abs() function while hashing"
   ]
  },
  {
   "cell_type": "markdown",
   "metadata": {},
   "source": [
    "#### Collisions\n",
    "-   Since a hash function gets us a small number for a key which is a big integer or string, there is a possibility that two keys result in the same value. The situation where a newly inserted key maps to an already occupied slot in the hash table is called collision and must be handled using some collision handling technique\n",
    "\n",
    "---------------\n",
    "\n",
    "2 methods to handle collision:\n",
    "+ Separate Chaining \n",
    "+ Open Addressing\n",
    "\n"
   ]
  },
  {
   "cell_type": "markdown",
   "metadata": {},
   "source": [
    "| Separate Chaining | Open Addressing |\n",
    "| --- | --- |\n",
    "Chaining is Simpler to implement. | Open Addressing requires more computation. |\n",
    "In chaining, Hash table never fills up, we can always add more elements to chain. | In open addressing, table may become full.\n",
    "Chaining is Less sensitive to the hash function or load factors. | Open addressing requires extra care to avoid clustering and load factor. |\n",
    "Chaining is mostly used when it is unknown how many and how frequently keys may be inserted or deleted. | Open addressing is used when the frequency and number of keys is known. |\n",
    "Cache performance of chaining is not good as keys are stored using linked list. | Open addressing provides better cache performance as everything is stored in the same table. |\n",
    "Wastage of Space (Some Parts of hash table in chaining are never used). | In Open addressing, a slot can be used even if an input doesn’t map to it. |\n",
    "Chaining uses extra space for links. | No links in Open addressing |"
   ]
  },
  {
   "cell_type": "markdown",
   "metadata": {},
   "source": []
  }
 ],
 "metadata": {
  "language_info": {
   "name": "python"
  }
 },
 "nbformat": 4,
 "nbformat_minor": 2
}
