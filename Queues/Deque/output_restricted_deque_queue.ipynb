{
 "cells": [
  {
   "cell_type": "code",
   "execution_count": 1,
   "metadata": {},
   "outputs": [
    {
     "name": "stdout",
     "output_type": "stream",
     "text": [
      "25-->15-->5-->10-->20\n",
      "5\n",
      "True\n",
      "False\n",
      "20\n",
      "10\n",
      "25-->15-->5-->10\n"
     ]
    }
   ],
   "source": [
    "from collections import deque\n",
    "class Queue:\n",
    "    def __init__(self,size):\n",
    "        self.size = size\n",
    "        self.container = deque()\n",
    "    \n",
    "    def enqueue(self,data):\n",
    "        if self.is_full():\n",
    "            print(\"Queue is full\")\n",
    "            return\n",
    "        \n",
    "        self.container.appendleft(data)\n",
    "        \n",
    "    def enqueue_right(self,data):\n",
    "        if self.is_full():\n",
    "            print(\"Queue is full\")\n",
    "            return\n",
    "        \n",
    "        self.container.append(data)\n",
    "    \n",
    "    def dequeue(self):\n",
    "        if self.is_empty():\n",
    "            print(\"Queue is empty\")\n",
    "            return\n",
    "        \n",
    "        return self.container.pop()\n",
    "    \n",
    "    def peek(self):\n",
    "        return self.container[-1]\n",
    "    \n",
    "    def get_size(self):\n",
    "        return len(self.container)\n",
    "    \n",
    "    def is_empty(self):\n",
    "        if self.get_size() == 0:\n",
    "            return True\n",
    "        return False\n",
    "    \n",
    "    def is_full(self):\n",
    "        if self.get_size() == self.size:\n",
    "            return True\n",
    "        return False\n",
    "    \n",
    "    def display(self):\n",
    "        for i in range(len(self.container)):\n",
    "            if i == len(self.container) - 1:\n",
    "                print(self.container[i])\n",
    "            if i != len(self.container) - 1:\n",
    "                print(self.container[i],end=\"-->\")\n",
    "    \n",
    "if __name__ == \"__main__\":\n",
    "    q = Queue(5)\n",
    "    q.enqueue(5)\n",
    "    q.enqueue_right(10)\n",
    "    q.enqueue(15)\n",
    "    q.enqueue_right(20)\n",
    "    q.enqueue(25)\n",
    "    q.display()\n",
    "    print(q.get_size())\n",
    "    print(q.is_full())\n",
    "    print(q.is_empty())\n",
    "    print(q.dequeue())\n",
    "    print(q.peek())\n",
    "    q.display()\n",
    "        "
   ]
  },
  {
   "cell_type": "code",
   "execution_count": null,
   "metadata": {},
   "outputs": [],
   "source": []
  }
 ],
 "metadata": {
  "kernelspec": {
   "display_name": "base",
   "language": "python",
   "name": "python3"
  },
  "language_info": {
   "codemirror_mode": {
    "name": "ipython",
    "version": 3
   },
   "file_extension": ".py",
   "mimetype": "text/x-python",
   "name": "python",
   "nbconvert_exporter": "python",
   "pygments_lexer": "ipython3",
   "version": "3.11.5"
  }
 },
 "nbformat": 4,
 "nbformat_minor": 2
}
