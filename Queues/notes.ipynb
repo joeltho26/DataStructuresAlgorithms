{
 "cells": [
  {
   "cell_type": "markdown",
   "metadata": {},
   "source": [
    "#### Queue:\n",
    "\n",
    "Queue Data Structure is a linear data structure that follows FIFO (First In First Out) Principle, so the first element inserted is the first to be popped out."
   ]
  },
  {
   "cell_type": "markdown",
   "metadata": {},
   "source": [
    "##### Types of Queue\n",
    "1) Simple Queue\n",
    "2) Double Ended Queue\n",
    "    - insertion and deletion operations, both can be performed from both ends\n",
    "    - Input Restricted Queue: insertion only one end but deletion both ends\n",
    "    - Output Restricted Queue: deletion only one end but insertion both ends\n",
    "3) Circular Queue\n",
    "4) Priority Queue\n",
    "    - queue where the elements are accessed based on the priority assigned to them\n",
    "    - <b>Ascending Priority Queue</b>: the elements are arranged in increasing order of their priority values. Element with smallest priority value is popped first\n",
    "    - <b>Descending Priority Queue</b>: the elements are arranged in decreasing order of their priority values. Element with largest priority is popper first."
   ]
  },
  {
   "cell_type": "markdown",
   "metadata": {},
   "source": [
    "##### Operation of Queue:\n",
    "1) Enqueue\n",
    "2) Dequeue\n",
    "3) IsEmpty\n",
    "4) Size\n",
    "5) Front\n",
    "6) Rear\n",
    "6) Display\n",
    "7) isFull"
   ]
  },
  {
   "cell_type": "markdown",
   "metadata": {},
   "source": [
    "#### Priority Queue:\n",
    "A priority queue is a type of queue that arranges elements based on their priority values. Elements with higher priority values are typically retrieved before elements with lower priority values.\n",
    "\n",
    "- Types of Priority Queue:\n",
    "\n",
    "    - 1) Ascending Order Priority Queue\n",
    "    - 2) Descending Order Priority Queue\n",
    "\n",
    "\n",
    "<ins> Application </ins>:\n",
    "- Dijkstra’s algorithm for finding the shortest path in a graph and the A* search algorithm for pathfinding\n"
   ]
  },
  {
   "cell_type": "markdown",
   "metadata": {},
   "source": []
  }
 ],
 "metadata": {
  "language_info": {
   "name": "python"
  }
 },
 "nbformat": 4,
 "nbformat_minor": 2
}
