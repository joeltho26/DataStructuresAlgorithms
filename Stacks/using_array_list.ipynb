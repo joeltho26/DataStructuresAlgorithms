{
 "cells": [
  {
   "cell_type": "code",
   "execution_count": 2,
   "metadata": {},
   "outputs": [
    {
     "name": "stdout",
     "output_type": "stream",
     "text": [
      "5<--10<--15<--20<--25\n",
      "5\n",
      "True\n",
      "False\n",
      "25\n",
      "20\n",
      "5<--10<--15<--20\n"
     ]
    }
   ],
   "source": [
    "class Stack:\n",
    "    def __init__(self,size=None):\n",
    "        self.size = size\n",
    "        self.container = []\n",
    "        \n",
    "    def push(self,data):\n",
    "        if self.is_full():\n",
    "            print(\"The Stack is full!\")\n",
    "            return\n",
    "        self.container.append(data)\n",
    "        \n",
    "    def pop(self):\n",
    "        return self.container.pop()\n",
    "    \n",
    "    def is_empty(self):\n",
    "        if self.get_size() == 0:\n",
    "            return True\n",
    "        return False\n",
    "    \n",
    "    def peek(self):\n",
    "        if self.is_empty():\n",
    "            print(\"The Stack is empty!\")\n",
    "            return\n",
    "        return self.container[-1]\n",
    "    \n",
    "    def get_size(self):\n",
    "        return len(self.container)\n",
    "    \n",
    "    def display(self):\n",
    "        lstr = \"\"\n",
    "        for i in range(len(self.container)):\n",
    "            if i != len(self.container) - 1:\n",
    "                lstr += str(self.container[i]) + \"<--\"\n",
    "            if i == len(self.container) - 1:\n",
    "                lstr += str(self.container[i])\n",
    "        print(lstr)\n",
    "        \n",
    "    def is_full(self):\n",
    "        if self.get_size() == self.size:\n",
    "            return True\n",
    "        return False\n",
    "    \n",
    "if __name__ == \"__main__\":\n",
    "    s = Stack(5)\n",
    "    s.push(5)\n",
    "    s.push(10)\n",
    "    s.push(15)\n",
    "    s.push(20)\n",
    "    s.push(25)\n",
    "    s.display()\n",
    "    print(s.get_size())\n",
    "    print(s.is_full())\n",
    "    print(s.is_empty())\n",
    "    print(s.pop())\n",
    "    print(s.peek())\n",
    "    s.display()\n",
    "    "
   ]
  },
  {
   "cell_type": "code",
   "execution_count": null,
   "metadata": {},
   "outputs": [],
   "source": []
  }
 ],
 "metadata": {
  "kernelspec": {
   "display_name": "base",
   "language": "python",
   "name": "python3"
  },
  "language_info": {
   "codemirror_mode": {
    "name": "ipython",
    "version": 3
   },
   "file_extension": ".py",
   "mimetype": "text/x-python",
   "name": "python",
   "nbconvert_exporter": "python",
   "pygments_lexer": "ipython3",
   "version": "3.11.5"
  }
 },
 "nbformat": 4,
 "nbformat_minor": 2
}
