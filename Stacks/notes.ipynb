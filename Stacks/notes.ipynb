{
 "cells": [
  {
   "cell_type": "markdown",
   "metadata": {},
   "source": [
    "#### Stack:\n",
    "\n",
    "Stack Data Structure is a linear data structure that follows LIFO (Last In First Out) Principle , so the last element inserted is the first to be popped out.\n",
    "\n",
    "- <ins>Application:</ins>\n",
    "    - Function calls\n",
    "    - Recursion\n",
    "    - Memory management\n",
    "\n",
    "- <ins>Advantages:</ins>\n",
    "    - Simplicity\n",
    "    - Efficiency, push and pop => O(1)\n",
    "    - Limited memory usage\n",
    "    - LIFO\n",
    "\n",
    "- <ins>Disadvantages:</ins>\n",
    "    - Limited access (Not suitable for random access)\n",
    "    - potential overflow"
   ]
  },
  {
   "cell_type": "markdown",
   "metadata": {},
   "source": [
    "#### Implementation:\n",
    "- Arrays\n",
    "- Linked List"
   ]
  },
  {
   "cell_type": "markdown",
   "metadata": {},
   "source": [
    "#### Stack Operations:\n",
    "- Push\n",
    "- Pop\n",
    "- IsEmpty\n",
    "- Display\n",
    "- Peek\n",
    "- Size\n",
    "- IsFull"
   ]
  },
  {
   "cell_type": "markdown",
   "metadata": {},
   "source": [
    "#### Monotonic Stack:\n",
    "A monotonic stack is a special data structure used in algorithmic problem-solving. Monotonic Stack maintaining elements in either increasing or decreasing order.\n",
    "\n",
    "+ y = 2x +5, it’s a monotonically increasing function.\n",
    "+ y = -(2x), it’s a monotonically decreasing function.\n",
    "\n",
    "Types of Monotonic Stack:\n",
    "- Monotonic Increasing Stack\n",
    "- Monotonic Decreasing Stack"
   ]
  },
  {
   "cell_type": "markdown",
   "metadata": {},
   "source": [
    "Monotonic Increasing Stack:\n",
    "-   Initialize an empty stack.\n",
    "-   Iterate through the elements and for each element:\n",
    "-   while stack is not empty AND top of stack is more than the current element\n",
    "-   pop element from the stack\n",
    "-   Push the current element onto the stack.\n",
    "-   At the end of the iteration, the stack will contain the monotonic increasing order of elements."
   ]
  },
  {
   "cell_type": "markdown",
   "metadata": {},
   "source": [
    "Monotonic Decreasing Stack:\n",
    "-   Start with an empty stack.\n",
    "-   Iterate through the elements of the input array.\n",
    "-   While stack is not empty AND top of stack is less than the current element:\n",
    "-   pop element from the stack\n",
    "-   Push the current element onto the stack.\n",
    "-   After iterating through all the elements, the stack will contain the elements in monotonic decreasing order."
   ]
  },
  {
   "cell_type": "markdown",
   "metadata": {},
   "source": []
  }
 ],
 "metadata": {
  "language_info": {
   "name": "python"
  }
 },
 "nbformat": 4,
 "nbformat_minor": 2
}
