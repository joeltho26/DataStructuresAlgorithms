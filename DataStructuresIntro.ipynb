{
 "cells": [
  {
   "cell_type": "markdown",
   "metadata": {},
   "source": [
    "# Data Structures Concept\n",
    "### Big O Notation:\n",
    "- Time complexity\n",
    "- Space complexity\n",
    "\n",
    "Eg: time complexity represented as, t = a*n + b (since linear represented by straight line equation)\n",
    "- b = intercept\n",
    "- a = slope\n",
    "- n = number of elements\n",
    "\n",
    "Always consider the fastest growing term \"n\"\n",
    "\n",
    "Another example:\n",
    "- t = a*n^2 + b*n + c, we only consider the n^2 from the equation and disregard the rest as n^2 is the fastest growing term.\n",
    "\n",
    "\n",
    "\n",
    "\n"
   ]
  },
  {
   "cell_type": "markdown",
   "metadata": {},
   "source": [
    "### Types of Data structures:\n",
    "- Array\n",
    "- Linked List\n",
    "- Trees\n",
    "- Graph\n",
    "- Hash Table\n",
    "- Stack\n",
    "- Queue\n",
    "- Heap\n",
    "- Matrix\n",
    "- String\n"
   ]
  },
  {
   "cell_type": "markdown",
   "metadata": {},
   "source": [
    "### Other Algorithms\n",
    "\n",
    "- Searching\n",
    "- Sorting\n",
    "- Pattern Searching\n",
    "- Greedy\n",
    "- Divide & Conquer\n",
    "- Backtracking\n",
    "- Dynamic Programming\n",
    "- Recursion\n",
    "- Graph\n",
    "- Branch & Bound"
   ]
  },
  {
   "cell_type": "markdown",
   "metadata": {},
   "source": [
    "### Big 0 notation complexity performance\n",
    "\n",
    "- Very Bad:\n",
    "    - O(n!), O(n^2), O(2^n)\n",
    "\n",
    "- Bad:\n",
    "    - O(n log n)\n",
    "\n",
    "- Not Bad:\n",
    "    - O(n)\n",
    "\n",
    "- Better:\n",
    "    - O(log n), O(1)"
   ]
  },
  {
   "cell_type": "markdown",
   "metadata": {},
   "source": [
    "A linear data structure can be an array, a stack, a linked list, or a queue. Non-linear data structures include trees and graphs. Levels. The linear data structure consists of a single level. It has no hierarchy."
   ]
  },
  {
   "cell_type": "markdown",
   "metadata": {},
   "source": []
  }
 ],
 "metadata": {
  "language_info": {
   "name": "python"
  }
 },
 "nbformat": 4,
 "nbformat_minor": 2
}
