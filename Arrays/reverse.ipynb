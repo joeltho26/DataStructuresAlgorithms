{
 "cells": [
  {
   "cell_type": "code",
   "execution_count": 2,
   "metadata": {},
   "outputs": [
    {
     "name": "stdout",
     "output_type": "stream",
     "text": [
      "['Mosambi', 'Watermelon', 'Grape', 'Blueberry', 'Orange', 'Lemon', 'Guava', 'Banana']\n",
      "['Banana', 'Guava', 'Lemon', 'Orange', 'Blueberry', 'Grape', 'Watermelon', 'Mosambi']\n"
     ]
    }
   ],
   "source": [
    "class Array:\n",
    "    def __init__(self,size=None):\n",
    "        self.arr = []\n",
    "        self.size = size\n",
    "\n",
    "    def reverse_list(self):\n",
    "        if self.is_empty():\n",
    "            print(\"The Array list is empty!\")\n",
    "            return\n",
    "        \n",
    "        self.arr.reverse()\n",
    "                \n",
    "    def get_length(self):\n",
    "        return len(self.arr)\n",
    "   \n",
    "    def is_empty(self):\n",
    "        if self.get_length() == 0:\n",
    "            return True\n",
    "        return False             \n",
    "    \n",
    "if __name__ == \"__main__\":\n",
    "    arr = Array(10)\n",
    "    arr.arr.extend(['Mosambi', 'Watermelon', 'Grape', 'Blueberry', 'Orange', 'Lemon', 'Guava', 'Banana'])\n",
    "    print(arr.arr)\n",
    "    arr.reverse_list()\n",
    "    print(arr.arr)"
   ]
  },
  {
   "cell_type": "code",
   "execution_count": null,
   "metadata": {},
   "outputs": [],
   "source": []
  }
 ],
 "metadata": {
  "kernelspec": {
   "display_name": "base",
   "language": "python",
   "name": "python3"
  },
  "language_info": {
   "codemirror_mode": {
    "name": "ipython",
    "version": 3
   },
   "file_extension": ".py",
   "mimetype": "text/x-python",
   "name": "python",
   "nbconvert_exporter": "python",
   "pygments_lexer": "ipython3",
   "version": "3.1.-1"
  }
 },
 "nbformat": 4,
 "nbformat_minor": 2
}
