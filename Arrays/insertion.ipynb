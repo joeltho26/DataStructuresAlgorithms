{
 "cells": [
  {
   "cell_type": "markdown",
   "metadata": {},
   "source": [
    "##### Insertion Operations:\n"
   ]
  },
  {
   "cell_type": "code",
   "execution_count": 1,
   "metadata": {},
   "outputs": [
    {
     "name": "stdout",
     "output_type": "stream",
     "text": [
      "Grape\n",
      "8\n",
      "False\n",
      "['Mosambi', 'Watermelon', 'Grape', 'Blueberry', 'Orange', 'Lemon', 'Guava', 'Banana']\n"
     ]
    }
   ],
   "source": [
    "class Array:\n",
    "    def __init__(self,size):\n",
    "        self.size = size\n",
    "        self.arr = []\n",
    "\n",
    "    def insert_at_beginning(self,data):\n",
    "        if self.is_full():\n",
    "            print(\"The array list is full!\")\n",
    "            return\n",
    "        \n",
    "        self.arr.insert(0,data)    \n",
    "\n",
    "    def insert_at(self,index,data):\n",
    "        if self.is_full():\n",
    "            print(\"The array list is full!\")\n",
    "            return\n",
    "        \n",
    "        self.arr.insert(index,data)\n",
    "\n",
    "    def insert_at_end(self,data):\n",
    "        if self.is_full():\n",
    "            print(\"The array list is full!\")\n",
    "            return\n",
    "        \n",
    "        self.arr.append(data)\n",
    "\n",
    "    def insert_after_value(self,value,data):\n",
    "        if self.is_full():\n",
    "            print(\"The array list is full!\")\n",
    "            return\n",
    "        \n",
    "        for i in range(len(self.arr)):\n",
    "            if self.arr[i] == value:\n",
    "                print(self.arr[i])\n",
    "                self.arr.insert(i+1,data)\n",
    "                break\n",
    "        \n",
    "    def insert_before_value(self,value,data):\n",
    "        if self.is_full():\n",
    "            print(\"The array list is full!\")\n",
    "            return\n",
    "        \n",
    "        for i in range(len(self.arr)):\n",
    "            if self.arr[i] == value:\n",
    "                self.arr.insert(i,data)\n",
    "                break\n",
    "            \n",
    "    def insert_value_list(self,data_list):\n",
    "        if self.is_full():\n",
    "            print(\"The array list is full!\")\n",
    "            return\n",
    "        \n",
    "        self.arr.extend(data_list)\n",
    "    \n",
    "    def get_length(self):\n",
    "        return len(self.arr)\n",
    "    \n",
    "    def is_empty(self):\n",
    "        if self.get_length() == 0:\n",
    "            return True\n",
    "        return False\n",
    "    \n",
    "    def is_full(self):\n",
    "        if self.get_length() == self.size:\n",
    "            return True\n",
    "        return False\n",
    "\n",
    "if __name__ == \"__main__\":\n",
    "    arr = Array(10)\n",
    "    arr.insert_at_beginning(\"Orange\")\n",
    "    arr.insert_at_beginning(\"Watermelon\")\n",
    "    arr.insert_at_beginning(\"Mosambi\")\n",
    "    arr.insert_at_end(\"Lemon\")\n",
    "    arr.insert_at(2,\"Grape\")\n",
    "    arr.insert_after_value(\"Grape\",\"Blueberry\")\n",
    "    arr.insert_before_value(\"Berry\",\"Mango\")\n",
    "    arr.insert_value_list([\"Guava\",\"Banana\"])\n",
    "    print(arr.get_length())\n",
    "    print(arr.is_empty())\n",
    "    print(arr.arr)"
   ]
  },
  {
   "cell_type": "code",
   "execution_count": null,
   "metadata": {},
   "outputs": [],
   "source": []
  }
 ],
 "metadata": {
  "kernelspec": {
   "display_name": "base",
   "language": "python",
   "name": "python3"
  },
  "language_info": {
   "codemirror_mode": {
    "name": "ipython",
    "version": 3
   },
   "file_extension": ".py",
   "mimetype": "text/x-python",
   "name": "python",
   "nbconvert_exporter": "python",
   "pygments_lexer": "ipython3",
   "version": "3.11.5"
  }
 },
 "nbformat": 4,
 "nbformat_minor": 2
}
