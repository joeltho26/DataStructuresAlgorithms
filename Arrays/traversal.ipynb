{
 "cells": [
  {
   "cell_type": "code",
   "execution_count": 28,
   "metadata": {},
   "outputs": [
    {
     "name": "stdout",
     "output_type": "stream",
     "text": [
      "Print Forward:\n",
      "8-->17-->94-->37-->25\n",
      "\n",
      "\n",
      "Print Backward:\n",
      "25-->37-->94-->17-->8\n",
      "\n",
      "\n",
      "Print Alternate:\n",
      "8-->94-->25\n",
      "\n",
      "\n",
      "Print Alternate:\n",
      "25-->94-->8\n",
      "\n",
      "\n"
     ]
    }
   ],
   "source": [
    "def print_elements(arr):\n",
    "    count = 0\n",
    "    size = len(arr)\n",
    "    print(\"Print Forward:\")\n",
    "    for ele in arr:\n",
    "        if count < size - 1:\n",
    "            print(ele, end=\"-->\")\n",
    "        else:\n",
    "            print(ele)\n",
    "        count += 1\n",
    "    print(\"\\n\")\n",
    "        \n",
    "def print_backwards(arr):\n",
    "    count = 0\n",
    "    size = len(arr)\n",
    "    print(\"Print Backward:\")\n",
    "    size = len(arr)\n",
    "    for idx in range(size-1,-1,-1):\n",
    "        if count < size - 1:\n",
    "            print(arr[idx], end=\"-->\")\n",
    "        else:\n",
    "            print(arr[idx])\n",
    "        count += 1\n",
    "    print(\"\\n\")\n",
    "    \n",
    "def print_alternative(arr,step):\n",
    "    count = 0\n",
    "    size = len(arr)\n",
    "    print(\"Print Alternate:\")\n",
    "    size = len(arr)\n",
    "    for idx in range(0,size,step):\n",
    "        if count < size - step:\n",
    "            print(arr[idx], end=\"-->\")\n",
    "        else:\n",
    "            print(arr[idx])\n",
    "        count += step\n",
    "    print(\"\\n\")   \n",
    "    \n",
    "def print_alternative_backwards(arr,step):\n",
    "    count = 0\n",
    "    size = len(arr)\n",
    "    print(\"Print Alternate:\")\n",
    "    size = len(arr)\n",
    "    for idx in range(size-1,-1,step):\n",
    "        if count < size - abs(step):\n",
    "            print(arr[idx], end=\"-->\")\n",
    "        else:\n",
    "            print(arr[idx])\n",
    "        count += abs(step)\n",
    "    print(\"\\n\")   \n",
    "        \n",
    "if __name__ == \"__main__\":\n",
    "    arr = [8,17,94,37,25]\n",
    "    print_elements(arr)\n",
    "    print_backwards(arr)\n",
    "    print_alternative(arr,2)\n",
    "    print_alternative_backwards(arr,-2)\n",
    "    "
   ]
  },
  {
   "cell_type": "code",
   "execution_count": null,
   "metadata": {},
   "outputs": [],
   "source": []
  }
 ],
 "metadata": {
  "kernelspec": {
   "display_name": "base",
   "language": "python",
   "name": "python3"
  },
  "language_info": {
   "codemirror_mode": {
    "name": "ipython",
    "version": 3
   },
   "file_extension": ".py",
   "mimetype": "text/x-python",
   "name": "python",
   "nbconvert_exporter": "python",
   "pygments_lexer": "ipython3",
   "version": "3.11.5"
  }
 },
 "nbformat": 4,
 "nbformat_minor": 2
}
