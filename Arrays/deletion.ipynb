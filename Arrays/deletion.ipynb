{
 "cells": [
  {
   "cell_type": "code",
   "execution_count": 1,
   "metadata": {},
   "outputs": [
    {
     "name": "stdout",
     "output_type": "stream",
     "text": [
      "['Mosambi', 'Watermelon', 'Grape', 'Blueberry', 'Orange', 'Lemon', 'Guava', 'Banana']\n",
      "Orange: not found in the array list\n",
      "['Grape', 'Blueberry', 'Lemon']\n"
     ]
    }
   ],
   "source": [
    "class Array:\n",
    "    def __init__(self,size=None):\n",
    "        self.size = size\n",
    "        self.arr = []\n",
    "\n",
    "    def delete_at_beginning(self):\n",
    "        if self.is_empty():\n",
    "            print(\"The Array List is empty!\")\n",
    "            return\n",
    "        \n",
    "        return self.arr.pop(0)\n",
    "    \n",
    "    def delete_at(self,index):\n",
    "        if self.is_empty():\n",
    "            print(\"The Array List is empty!\")\n",
    "            return\n",
    "        \n",
    "        return self.arr.pop(index)\n",
    "    \n",
    "    def delete_at_end(self):\n",
    "        if self.is_empty():\n",
    "            print(\"The Array List is empty!\")\n",
    "            return\n",
    "        \n",
    "        last_index = len(self.arr) - 1\n",
    "        return self.arr.pop(last_index)\n",
    "    \n",
    "    def delete_by_value(self,value):\n",
    "        if self.is_empty():\n",
    "            print(\"The Array List is empty!\")\n",
    "            return\n",
    "        \n",
    "        return self.arr.remove(value)\n",
    "    \n",
    "    def delete_value_list(self,data_list):\n",
    "        if self.is_empty():\n",
    "            print(\"The Array List is empty!\")\n",
    "            return\n",
    "        \n",
    "        for data in data_list:\n",
    "            if data in self.arr:\n",
    "                self.arr.remove(data)\n",
    "            else:\n",
    "                print(f\"{data}: not found in the array list\")\n",
    "                \n",
    "    def get_length(self):\n",
    "        return len(self.arr)\n",
    "   \n",
    "    def is_empty(self):\n",
    "        if self.get_length() == 0:\n",
    "            return True\n",
    "        return False             \n",
    "    \n",
    "if __name__ == \"__main__\":\n",
    "    arr = Array(10)\n",
    "    arr.arr.extend(['Mosambi', 'Watermelon', 'Grape', 'Blueberry', 'Orange', 'Lemon', 'Guava', 'Banana'])\n",
    "    print(arr.arr)\n",
    "    arr.delete_at_beginning()\n",
    "    arr.delete_at(3)\n",
    "    arr.delete_at_end()\n",
    "    arr.delete_by_value(\"Guava\")\n",
    "    arr.delete_value_list([\"Orange\",\"Watermelon\"])\n",
    "    print(arr.arr)"
   ]
  },
  {
   "cell_type": "code",
   "execution_count": null,
   "metadata": {},
   "outputs": [],
   "source": []
  }
 ],
 "metadata": {
  "kernelspec": {
   "display_name": "base",
   "language": "python",
   "name": "python3"
  },
  "language_info": {
   "codemirror_mode": {
    "name": "ipython",
    "version": 3
   },
   "file_extension": ".py",
   "mimetype": "text/x-python",
   "name": "python",
   "nbconvert_exporter": "python",
   "pygments_lexer": "ipython3",
   "version": "3.11.5"
  }
 },
 "nbformat": 4,
 "nbformat_minor": 2
}
