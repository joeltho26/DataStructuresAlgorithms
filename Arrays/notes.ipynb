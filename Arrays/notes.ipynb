{
 "cells": [
  {
   "cell_type": "markdown",
   "metadata": {},
   "source": [
    "### Array Data Structures:\n",
    "\n",
    "https://www.geeksforgeeks.org/array-data-structure-guide/?ref=shm\n",
    "\n",
    "Array is a linear data structure where all elements are arranged sequentially. It is a collection of elements of same data type stored at contiguous memory locations. \n",
    "\n",
    "- Static & Dynamic Arrays\n",
    "- Bits = 1 or 0\n",
    "- Bytes = 8 bits\n",
    "- Integer = 4 Bytes (00000000 00000000 00000000 00000000)\n",
    "\n",
    "-------------------------\n",
    "\n",
    "Arrays/Languages:           \n",
    "- JAVA  \n",
    "    - Static: Native Array (int[]) \n",
    "    - Dynamic: ArrayList(<Integer>) \n",
    "\n",
    "- Python\n",
    "    - Dynamic: Native Array (arr=[]) like lists                \n",
    "    - Static: N/A                                     \n",
    "\n",
    "- C++ \n",
    "    - Dynamic: std::vector\n",
    "    - Static: Native Array (int[])\n",
    "\n",
    "-------------------------\n",
    "\n",
    "- <ins>Advantages:</ins>\n",
    "    - Efficient access to elements\n",
    "    - Fast data retrieval\n",
    "    - Memory efficiency\n",
    "    - Versatility\n",
    "    - Easy to implement\n",
    "\n",
    "- <ins>Disadvantages:</ins>\n",
    "    - Fixed size\n",
    "    - Memory allocation issues\n",
    "    - Insertion and deletion issues\n",
    "    - Wasted space\n",
    "    - Limited data type support\n",
    "\n",
    "- <ins>Application:</ins>\n",
    "    - Storing and accessing data, sorting, searching, matrices, stacks and queues, graphs, dynamic programming.\n",
    "    - Signal Processing (speech recognition, image processing, and radar systems)\n",
    "    - Multimedia Applications (audio & video processing, store the pixel or audio samples)\n",
    "    - Data Mining (represent datasets)\n",
    "\n",
    "---------------------------\n",
    "\n",
    "Basic Array Operations:\n",
    "- Accessing (Traversal)\n",
    "- Searching\n",
    "- Sorting\n",
    "- Insertion\n",
    "- Deletion\n",
    "- Reverse"
   ]
  },
  {
   "cell_type": "markdown",
   "metadata": {},
   "source": [
    "### Examples of Arrays in Python:\n",
    "\n",
    "- Only Dynamic arrays are present in python and not static arrays\n",
    "- suppose while creating a list in python, an initial memory size is created of (10 bytes just an example since it varies with python versions and operating systems)\n",
    "- When something is added to a list, one of two things can happen:\n",
    "    - The extra item fits in spare space.\n",
    "    - Extra space is needed, so a new list is made, and the contents copied across, and the extra thing added.\n",
    "\n",
    "eg: \n",
    "- initially memory (RAM) = 10 bytes is allocated to a list and new items can be added to the list\n",
    "- Once the 10 bytes memory is full, the list memory size is extended by (initial memory + 2 * initial memory => 30 bytes)\n",
    "- the new memory space is allocated (30 bytes) and the values from old memory (10 bytes) space is copied.\n",
    "- Post copying all contents, the initially created 10 bytes memory space is cleared and made available for other tasks."
   ]
  },
  {
   "cell_type": "markdown",
   "metadata": {},
   "source": []
  }
 ],
 "metadata": {
  "kernelspec": {
   "display_name": "Python 3",
   "language": "python",
   "name": "python3"
  },
  "language_info": {
   "codemirror_mode": {
    "name": "ipython",
    "version": 3
   },
   "file_extension": ".py",
   "mimetype": "text/x-python",
   "name": "python",
   "nbconvert_exporter": "python",
   "pygments_lexer": "ipython3",
   "version": "3.11.5"
  }
 },
 "nbformat": 4,
 "nbformat_minor": 2
}
