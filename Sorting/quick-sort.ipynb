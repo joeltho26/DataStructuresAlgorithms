{
 "cells": [
  {
   "cell_type": "code",
   "execution_count": 4,
   "metadata": {},
   "outputs": [
    {
     "name": "stdout",
     "output_type": "stream",
     "text": [
      "[10, 12, 25, 45, 77, 81, 96]\n"
     ]
    }
   ],
   "source": [
    "def partition(arr,low,high):\n",
    "    i = low - 1\n",
    "    pivot = arr[high]\n",
    "    for j in range(low,high):\n",
    "        if arr[j] <= pivot:\n",
    "            i += 1\n",
    "            arr[i], arr[j] = arr[j], arr[i]\n",
    "    arr[i+1], arr[high] = arr[high], arr[i+1]\n",
    "    return i + 1\n",
    "\n",
    "def quick_sort(arr,low,high):\n",
    "    if low < high:\n",
    "        pivot_index = partition(arr,low,high)\n",
    "        quick_sort(arr,low,pivot_index-1)\n",
    "        quick_sort(arr,pivot_index+1,high)\n",
    "        \n",
    "if __name__ == \"__main__\":\n",
    "    arr = [45,96,12,25,10,77,81]\n",
    "    quick_sort(arr,0,len(arr)-1)\n",
    "    print(arr)\n",
    "        "
   ]
  },
  {
   "cell_type": "code",
   "execution_count": null,
   "metadata": {},
   "outputs": [],
   "source": []
  }
 ],
 "metadata": {
  "kernelspec": {
   "display_name": "base",
   "language": "python",
   "name": "python3"
  },
  "language_info": {
   "codemirror_mode": {
    "name": "ipython",
    "version": 3
   },
   "file_extension": ".py",
   "mimetype": "text/x-python",
   "name": "python",
   "nbconvert_exporter": "python",
   "pygments_lexer": "ipython3",
   "version": "3.11.5"
  }
 },
 "nbformat": 4,
 "nbformat_minor": 2
}
