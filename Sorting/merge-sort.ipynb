{
 "cells": [
  {
   "cell_type": "code",
   "execution_count": 1,
   "metadata": {},
   "outputs": [
    {
     "name": "stdout",
     "output_type": "stream",
     "text": [
      "[-13, -10, 3, 6, 7, 15, 23.5, 55]\n"
     ]
    }
   ],
   "source": [
    "def merge_sort(arr):\n",
    "    if len(arr) <= 1:\n",
    "        return arr\n",
    "    \n",
    "    mid_index = len(arr) // 2\n",
    "    left = arr[:mid_index]\n",
    "    right = arr[mid_index:]\n",
    "    \n",
    "    sorted_left = merge_sort(left)\n",
    "    sorted_right = merge_sort(right)\n",
    "    return merge(sorted_left,sorted_right)\n",
    "\n",
    "def merge(left,right):\n",
    "    results = []\n",
    "    i = j = 0\n",
    "    while i < len(left) and j < len(right):\n",
    "        if left[i] < right[j]:\n",
    "            results.append(left[i])\n",
    "            i += 1\n",
    "        else:\n",
    "            results.append(right[i])\n",
    "            j += 1\n",
    "\n",
    "    results.extend(left[i:])\n",
    "    results.extend(right[j:])\n",
    "    return results\n",
    "if __name__ == \"__main__\":\n",
    "    arr = [3, 7, 6, -10, 15, 23.5, 55, -13]\n",
    "    result = merge_sort(arr)\n",
    "    print(result)"
   ]
  },
  {
   "cell_type": "code",
   "execution_count": null,
   "metadata": {},
   "outputs": [],
   "source": []
  }
 ],
 "metadata": {
  "kernelspec": {
   "display_name": "base",
   "language": "python",
   "name": "python3"
  },
  "language_info": {
   "codemirror_mode": {
    "name": "ipython",
    "version": 3
   },
   "file_extension": ".py",
   "mimetype": "text/x-python",
   "name": "python",
   "nbconvert_exporter": "python",
   "pygments_lexer": "ipython3",
   "version": "3.11.5"
  }
 },
 "nbformat": 4,
 "nbformat_minor": 2
}
