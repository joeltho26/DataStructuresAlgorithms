{
 "cells": [
  {
   "cell_type": "code",
   "execution_count": 1,
   "metadata": {},
   "outputs": [
    {
     "name": "stdout",
     "output_type": "stream",
     "text": [
      "[2, 24, 45, 66, 75, 90, 170, 802]\n"
     ]
    }
   ],
   "source": [
    "#cannot handle negative values & floating point numbers\n",
    "def counting_sort(arr):\n",
    "    max_val = max(arr)\n",
    "    count = [0] * (max_val + 1)\n",
    "    \n",
    "    while arr:\n",
    "        value = arr.pop(0)\n",
    "        count[value] += 1\n",
    "        \n",
    "    for i in range(len(count)):\n",
    "        while count[i]:\n",
    "            arr.append(i)\n",
    "            count[i] -= 1\n",
    "    \n",
    "    return arr\n",
    "\n",
    "if __name__ == \"__main__\":\n",
    "    arr = [170, 45, 75, 90, 802, 24, 2, 66]\n",
    "    counting_sort(arr)\n",
    "    print(arr)"
   ]
  },
  {
   "cell_type": "code",
   "execution_count": null,
   "metadata": {},
   "outputs": [],
   "source": []
  },
  {
   "cell_type": "code",
   "execution_count": null,
   "metadata": {},
   "outputs": [],
   "source": []
  }
 ],
 "metadata": {
  "kernelspec": {
   "display_name": "base",
   "language": "python",
   "name": "python3"
  },
  "language_info": {
   "codemirror_mode": {
    "name": "ipython",
    "version": 3
   },
   "file_extension": ".py",
   "mimetype": "text/x-python",
   "name": "python",
   "nbconvert_exporter": "python",
   "pygments_lexer": "ipython3",
   "version": "3.11.5"
  }
 },
 "nbformat": 4,
 "nbformat_minor": 2
}
