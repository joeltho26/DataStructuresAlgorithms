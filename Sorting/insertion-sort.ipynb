{
 "cells": [
  {
   "cell_type": "code",
   "execution_count": 2,
   "metadata": {},
   "outputs": [
    {
     "name": "stdout",
     "output_type": "stream",
     "text": [
      "[5, 11, 12, 22, 25, 34, 64, 90]\n"
     ]
    }
   ],
   "source": [
    "def insertion_sort(arr):\n",
    "    size = len(arr)\n",
    "    for i in range(1,size):\n",
    "        insert_index = i\n",
    "        current_value = arr[i]\n",
    "        for j in range(i-1,-1,-1):\n",
    "            if arr[j] > current_value:\n",
    "                arr[j+1] = arr[j]\n",
    "                insert_index = j\n",
    "        arr[insert_index] = current_value\n",
    "        \n",
    "if __name__ == \"__main__\":\n",
    "    my_array = [64, 34, 25, 12, 22, 11, 90, 5]\n",
    "    insertion_sort(my_array)\n",
    "    print(my_array)"
   ]
  },
  {
   "cell_type": "code",
   "execution_count": null,
   "metadata": {},
   "outputs": [],
   "source": []
  }
 ],
 "metadata": {
  "kernelspec": {
   "display_name": "base",
   "language": "python",
   "name": "python3"
  },
  "language_info": {
   "codemirror_mode": {
    "name": "ipython",
    "version": 3
   },
   "file_extension": ".py",
   "mimetype": "text/x-python",
   "name": "python",
   "nbconvert_exporter": "python",
   "pygments_lexer": "ipython3",
   "version": "3.11.5"
  }
 },
 "nbformat": 4,
 "nbformat_minor": 2
}
