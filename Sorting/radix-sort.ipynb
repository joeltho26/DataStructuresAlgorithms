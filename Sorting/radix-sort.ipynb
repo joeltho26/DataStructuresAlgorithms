{
 "cells": [
  {
   "cell_type": "code",
   "execution_count": 1,
   "metadata": {},
   "outputs": [
    {
     "name": "stdout",
     "output_type": "stream",
     "text": [
      "[2, 24, 45, 66, 71, 75, 90, 100, 144, 170, 543, 802]\n"
     ]
    }
   ],
   "source": [
    "#radix sort doesn't handle negative integers & floating point numbers\n",
    "def radix_sort(arr):\n",
    "    radix_array = [[] for i in range(10)]\n",
    "    max_val = max(arr)\n",
    "    exp = 1\n",
    "    \n",
    "    while max_val // exp > 0:\n",
    "        while arr:\n",
    "            val = arr.pop()\n",
    "            radix_index = (val // exp) % 10\n",
    "            radix_array[radix_index].append(val)\n",
    "            \n",
    "        for bucket in radix_array:\n",
    "            while bucket:\n",
    "                val = bucket.pop()\n",
    "                arr.append(val)\n",
    "        exp *= 10\n",
    "        \n",
    "if __name__ == \"__main__\":\n",
    "    arr = [170, 45, 75, 90, 802, 24, 2, 66, 71, 144, 543, 100]\n",
    "    radix_sort(arr)\n",
    "    print(arr)"
   ]
  },
  {
   "cell_type": "code",
   "execution_count": null,
   "metadata": {},
   "outputs": [],
   "source": []
  }
 ],
 "metadata": {
  "kernelspec": {
   "display_name": "base",
   "language": "python",
   "name": "python3"
  },
  "language_info": {
   "codemirror_mode": {
    "name": "ipython",
    "version": 3
   },
   "file_extension": ".py",
   "mimetype": "text/x-python",
   "name": "python",
   "nbconvert_exporter": "python",
   "pygments_lexer": "ipython3",
   "version": "3.11.5"
  }
 },
 "nbformat": 4,
 "nbformat_minor": 2
}
