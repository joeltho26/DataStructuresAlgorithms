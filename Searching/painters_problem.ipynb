{
 "cells": [
  {
   "cell_type": "code",
   "execution_count": 1,
   "metadata": {},
   "outputs": [
    {
     "name": "stdout",
     "output_type": "stream",
     "text": [
      "17\n"
     ]
    }
   ],
   "source": [
    "def numberOfPainters(arr, n, maxLen):\n",
    "\ttotal = 0\n",
    "\tnumPainters = 1\n",
    "\tfor i in arr:\n",
    "\t\ttotal += i\n",
    "\t\tif (total > maxLen):\n",
    "\t\t\ttotal = i\n",
    "\t\t\tnumPainters += 1\n",
    "\treturn numPainters\n",
    "\n",
    "def partition(arr, n, k):\n",
    "\tlo = max(arr)\n",
    "\thi = sum(arr)\n",
    "\twhile (lo < hi):\n",
    "\t\tmid = lo + (hi - lo) // 2\n",
    "\t\trequiredPainters = numberOfPainters(arr, n, mid)\n",
    "\t\tif (requiredPainters <= k):\n",
    "\t\t\thi = mid\n",
    "\t\telse:\n",
    "\t\t\tlo = mid + 1\n",
    "\treturn lo\n",
    "\n",
    "arr = [1, 2, 3, 4, 5, 6, 7, 8, 9]\n",
    "n = len(arr)\n",
    "k = 3\n",
    "print(int(partition(arr, n, k)))\n"
   ]
  }
 ],
 "metadata": {
  "kernelspec": {
   "display_name": "base",
   "language": "python",
   "name": "python3"
  },
  "language_info": {
   "codemirror_mode": {
    "name": "ipython",
    "version": 3
   },
   "file_extension": ".py",
   "mimetype": "text/x-python",
   "name": "python",
   "nbconvert_exporter": "python",
   "pygments_lexer": "ipython3",
   "version": "3.11.5"
  }
 },
 "nbformat": 4,
 "nbformat_minor": 2
}
