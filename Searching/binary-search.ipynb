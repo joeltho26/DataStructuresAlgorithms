{
 "cells": [
  {
   "cell_type": "code",
   "execution_count": 3,
   "metadata": {},
   "outputs": [
    {
     "name": "stdout",
     "output_type": "stream",
     "text": [
      "The value 36 is at index: 2\n",
      "Value 99 not found!\n"
     ]
    }
   ],
   "source": [
    "class Array:\n",
    "    def __init__(self):\n",
    "        self.arr = []\n",
    "        \n",
    "    def binary_search(self,value_to_find):\n",
    "        left_index = 0\n",
    "        right_index = len(self.arr) - 1\n",
    "        while left_index <= right_index:\n",
    "            middle_index = (left_index + right_index) // 2\n",
    "            middle_value = self.arr[middle_index]\n",
    "            \n",
    "            if middle_value == value_to_find:\n",
    "                print(f\"The value {middle_value} is at index: {middle_index}\")\n",
    "                return\n",
    "            \n",
    "            if value_to_find > self.arr[middle_index]:\n",
    "                left_index = middle_index + 1\n",
    "            elif value_to_find < self.arr[middle_index]:\n",
    "                right_index = middle_index - 1\n",
    "        print(f\"Value {value_to_find} not found!\")\n",
    "        return\n",
    "            \n",
    "if __name__ == \"__main__\":\n",
    "    arr = Array()\n",
    "    arr.arr.extend([10,24,36,64,82,93])\n",
    "    value_to_find = 36\n",
    "    arr.binary_search(value_to_find)\n",
    "    \n",
    "    value_to_find = 99\n",
    "    arr.binary_search(value_to_find)"
   ]
  },
  {
   "cell_type": "code",
   "execution_count": null,
   "metadata": {},
   "outputs": [],
   "source": []
  }
 ],
 "metadata": {
  "kernelspec": {
   "display_name": "base",
   "language": "python",
   "name": "python3"
  },
  "language_info": {
   "codemirror_mode": {
    "name": "ipython",
    "version": 3
   },
   "file_extension": ".py",
   "mimetype": "text/x-python",
   "name": "python",
   "nbconvert_exporter": "python",
   "pygments_lexer": "ipython3",
   "version": "3.11.5"
  }
 },
 "nbformat": 4,
 "nbformat_minor": 2
}
