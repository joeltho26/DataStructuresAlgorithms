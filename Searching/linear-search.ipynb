{
 "cells": [
  {
   "cell_type": "code",
   "execution_count": 1,
   "metadata": {},
   "outputs": [
    {
     "name": "stdout",
     "output_type": "stream",
     "text": [
      "Value 36 is at index: 2\n",
      "Value not found!\n"
     ]
    }
   ],
   "source": [
    "class Array:\n",
    "    def __init__(self):\n",
    "        self.arr = []\n",
    "        \n",
    "    def linear_search(self,value_to_find):\n",
    "        for i in range(len(self.arr)):\n",
    "            if self.arr[i] == value_to_find:\n",
    "                print(f\"Value {self.arr[i]} is at index: {i}\")\n",
    "                return\n",
    "        print(\"Value not found!\")\n",
    "        return\n",
    "\n",
    "if __name__ == \"__main__\":\n",
    "    arr = Array()\n",
    "    arr.arr.extend([10,24,36,64,82,93])\n",
    "    value_to_find = 36\n",
    "    arr.linear_search(value_to_find)\n",
    "    \n",
    "    value_to_find = 99\n",
    "    arr.linear_search(value_to_find)"
   ]
  },
  {
   "cell_type": "code",
   "execution_count": null,
   "metadata": {},
   "outputs": [],
   "source": []
  }
 ],
 "metadata": {
  "kernelspec": {
   "display_name": "base",
   "language": "python",
   "name": "python3"
  },
  "language_info": {
   "codemirror_mode": {
    "name": "ipython",
    "version": 3
   },
   "file_extension": ".py",
   "mimetype": "text/x-python",
   "name": "python",
   "nbconvert_exporter": "python",
   "pygments_lexer": "ipython3",
   "version": "3.11.5"
  }
 },
 "nbformat": 4,
 "nbformat_minor": 2
}
