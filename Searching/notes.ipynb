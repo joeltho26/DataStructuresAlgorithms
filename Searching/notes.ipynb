{
 "cells": [
  {
   "cell_type": "markdown",
   "metadata": {},
   "source": [
    "#### Linear Search"
   ]
  },
  {
   "cell_type": "code",
   "execution_count": 1,
   "metadata": {},
   "outputs": [
    {
     "name": "stdout",
     "output_type": "stream",
     "text": [
      "True\n"
     ]
    }
   ],
   "source": [
    "def linear_search(arr,value):\n",
    "    for i in range(len(arr)):\n",
    "        if arr[i] == value:\n",
    "            return True\n",
    "    return False\n",
    "\n",
    "if __name__ == \"__main__\":\n",
    "    arr = [1, 2, 3, 4, 5]\n",
    "    value = 3\n",
    "    print(linear_search(arr, value))"
   ]
  },
  {
   "cell_type": "markdown",
   "metadata": {},
   "source": [
    "#### Binary Search"
   ]
  },
  {
   "cell_type": "code",
   "execution_count": 2,
   "metadata": {},
   "outputs": [
    {
     "name": "stdout",
     "output_type": "stream",
     "text": [
      "True\n",
      "True\n"
     ]
    }
   ],
   "source": [
    "def binary_search(arr,value):\n",
    "    left = 0\n",
    "    right = len(arr) - 1\n",
    "    middle = (left + right) // 2\n",
    "    \n",
    "    while right >= left:\n",
    "        if arr[middle] == value:\n",
    "            return True\n",
    "        \n",
    "        if value < arr[middle]:\n",
    "            right = middle - 1\n",
    "        elif value > arr[middle]:\n",
    "            left = middle + 1\n",
    "        middle = (left + right) // 2\n",
    "        \n",
    "    return False\n",
    "    \n",
    "def binary_search_recursive(arr,value,left,right):\n",
    "    middle = (left+right)// 2\n",
    "    \n",
    "    if left > right:\n",
    "        return False\n",
    "    elif right == -1 or right == 0:\n",
    "        return False\n",
    "    elif left == -1:\n",
    "        return False\n",
    "    \n",
    "    if arr[middle] == value:\n",
    "        return True\n",
    "    \n",
    "    if value < arr[middle]:\n",
    "        right = middle - 1\n",
    "    elif value > arr[middle]:\n",
    "        left = middle + 1\n",
    "    \n",
    "    return binary_search_recursive(arr,value,left,right)\n",
    "\n",
    "if __name__ == \"__main__\":\n",
    "    arr = [1, 2, 3, 4, 5]\n",
    "    value = 3\n",
    "    print(binary_search(arr, value))\n",
    "    print(binary_search_recursive(arr, value, 0,len(arr)-1))"
   ]
  },
  {
   "cell_type": "code",
   "execution_count": null,
   "metadata": {},
   "outputs": [],
   "source": []
  }
 ],
 "metadata": {
  "kernelspec": {
   "display_name": "Python 3",
   "language": "python",
   "name": "python3"
  },
  "language_info": {
   "codemirror_mode": {
    "name": "ipython",
    "version": 3
   },
   "file_extension": ".py",
   "mimetype": "text/x-python",
   "name": "python",
   "nbconvert_exporter": "python",
   "pygments_lexer": "ipython3",
   "version": "3.11.6"
  }
 },
 "nbformat": 4,
 "nbformat_minor": 2
}
