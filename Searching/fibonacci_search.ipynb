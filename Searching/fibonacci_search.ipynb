{
 "cells": [
  {
   "cell_type": "code",
   "execution_count": null,
   "metadata": {},
   "outputs": [],
   "source": [
    "def fibonacci_search(arr, x, n): \n",
    "\tfibMMm2 = 0 \n",
    "\tfibMMm1 = 1 \n",
    "\tfibM = fibMMm2 + fibMMm1\n",
    "\twhile (fibM < n): \n",
    "\t\tfibMMm2 = fibMMm1 \n",
    "\t\tfibMMm1 = fibM \n",
    "\t\tfibM = fibMMm2 + fibMMm1 \n",
    "  \n",
    "\toffset = -1\n",
    "\twhile (fibM > 1): \n",
    "\t\ti = min(offset+fibMMm2, n-1) \n",
    "\t\tif (arr[i] < x): \n",
    "\t\t\tfibM = fibMMm1 \n",
    "\t\t\tfibMMm1 = fibMMm2 \n",
    "\t\t\tfibMMm2 = fibM - fibMMm1 \n",
    "\t\t\toffset = i \n",
    "\t\telif (arr[i] > x): \n",
    "\t\t\tfibM = fibMMm2 \n",
    "\t\t\tfibMMm1 = fibMMm1 - fibMMm2 \n",
    "\t\t\tfibMMm2 = fibM - fibMMm1 \n",
    "\t\telse: \n",
    "\t\t\treturn i \n",
    "\n",
    "\tif(fibMMm1 and arr[n-1] == x): \n",
    "\t\treturn n-1\n",
    "\treturn -1\n",
    "\n",
    "if __name__ == \"__main__\":\n",
    "    arr = [10, 22, 35, 40, 45, 50, 80, 82, 85, 90, 100,235] \n",
    "    n = len(arr) \n",
    "    x = 235\n",
    "    ind = fibonacci_search(arr, x, n) \n",
    "    if ind>=0: \n",
    "        print(\"Found at index:\",ind) \n",
    "    else: \n",
    "        print(x,\"isn't present in the array\"); \n",
    "\n"
   ]
  }
 ],
 "metadata": {
  "language_info": {
   "name": "python"
  }
 },
 "nbformat": 4,
 "nbformat_minor": 2
}
