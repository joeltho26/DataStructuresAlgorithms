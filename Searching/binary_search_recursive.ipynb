{
 "cells": [
  {
   "cell_type": "code",
   "execution_count": 10,
   "metadata": {},
   "outputs": [
    {
     "name": "stdout",
     "output_type": "stream",
     "text": [
      "The value 64 is at index 3\n",
      "The value 99 is not found!\n"
     ]
    }
   ],
   "source": [
    "def binary_search_recursive(array_list,value_to_find,left_index,right_index):\n",
    "    if left_index < 0 or right_index < 0 or right_index < left_index:\n",
    "        print(f\"The value {value_to_find} is not found!\")\n",
    "        return\n",
    "    \n",
    "    middle_index = (left_index + right_index) // 2\n",
    "    middle_value = array_list[middle_index]s\n",
    "    if middle_value == value_to_find:\n",
    "        print(f\"The value {middle_value} is at index {middle_index}\")\n",
    "        return\n",
    "    \n",
    "    if value_to_find > middle_value:\n",
    "        left_index = middle_index + 1\n",
    "    elif value_to_find < middle_value:\n",
    "        right_index = middle_index - 1\n",
    "        \n",
    "    return binary_search_recursive(array_list,value_to_find,left_index,right_index)\n",
    "       \n",
    "            \n",
    "if __name__ == \"__main__\":\n",
    "    array_list = [10,24,36,64,82,93]\n",
    "    value_to_find = 64\n",
    "    left_index = 0\n",
    "    right_index = len(array_list) - 1\n",
    "    binary_search_recursive(array_list,value_to_find,left_index=left_index,right_index=right_index)\n",
    "    \n",
    "    value_to_find = 99\n",
    "    binary_search_recursive(array_list,value_to_find,left_index=left_index,right_index=right_index)\n",
    "    "
   ]
  },
  {
   "cell_type": "code",
   "execution_count": null,
   "metadata": {},
   "outputs": [],
   "source": []
  }
 ],
 "metadata": {
  "kernelspec": {
   "display_name": "base",
   "language": "python",
   "name": "python3"
  },
  "language_info": {
   "codemirror_mode": {
    "name": "ipython",
    "version": 3
   },
   "file_extension": ".py",
   "mimetype": "text/x-python",
   "name": "python",
   "nbconvert_exporter": "python",
   "pygments_lexer": "ipython3",
   "version": "3.11.5"
  }
 },
 "nbformat": 4,
 "nbformat_minor": 2
}
