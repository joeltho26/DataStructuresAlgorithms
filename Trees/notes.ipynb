{
 "cells": [
  {
   "cell_type": "markdown",
   "metadata": {},
   "source": [
    "#### Tree:\n",
    "Generic trees are a collection of nodes where each node is a data structure that consists of records and a list of references to its children(duplicate references are not allowed). Unlike the linked list, each node stores the address of multiple nodes. Every node stores address of its children and the very first node’s address will be stored in a separate pointer called root.\n",
    "\n",
    "The Generic trees are the N-ary trees which have the following properties: \n",
    "1. Many children at every node.\n",
    "2. The number of nodes for each node is not known in advance.\n",
    "\n",
    "Advantages:\n",
    "1) Memory efficient\n",
    "2) Treated as binary trees\n",
    "3) Each node is of fixed size ,so no auxiliary array or vector is required.\n",
    "4) Many algorithms can be expressed more easily because it is just a binary tree."
   ]
  },
  {
   "cell_type": "markdown",
   "metadata": {},
   "source": [
    "##### Binary Tree:\n",
    "- Binary Tree is a non-linear data structure where each node has at most two children\n",
    "\n",
    "Binary tree is a tree data structure(non-linear) in which each node can have at most two children which are referred to as the left child and the right child. \n",
    "\n",
    "The topmost node in a binary tree is called the root, and the bottom-most nodes are called leaves. A binary tree can be visualized as a hierarchical structure with the root at the top and the leaves at the bottom.\n",
    "\n",
    "- Data\n",
    "- Pointer to the left child\n",
    "- Pointer to the right child"
   ]
  },
  {
   "cell_type": "markdown",
   "metadata": {},
   "source": [
    "Types of Binary Tree:\n",
    "\n",
    "- On the basis of Number of Children\n",
    "    - Full Binary Tree\n",
    "    - Degenerate Binary Tree\n",
    "    - Skewed Binary Trees\n",
    "\n",
    "- On the basis of Completion of Levels\n",
    "    - Complete Binary Tree\n",
    "    - Perfect Binary Tree\n",
    "    - Balanced Binary Tree\n",
    "    \n",
    "- On the basis of Node Values:\n",
    "    - Binary Search Tree\n",
    "    - AVL Tree\n",
    "    - Red Black Tree\n",
    "    - B Tree\n",
    "    - B+ Tree\n",
    "    - Segment Tree"
   ]
  },
  {
   "cell_type": "markdown",
   "metadata": {},
   "source": [
    "Operation of Binary Tree:\n",
    "- Insertion\n",
    "- Deletion\n",
    "- Search\n",
    "- Traversal\n",
    "    - DFS\n",
    "        - preorder, postorder, inorder\n",
    "    - BFS\n",
    "        - levelorder\n"
   ]
  },
  {
   "cell_type": "markdown",
   "metadata": {},
   "source": [
    "Traversal:\n",
    "- Morris traversal for Preorder\n",
    "- Level-order-traversal-in-spiral-form\n",
    "- Diagonal Traversal\n",
    "- Boundary Traversal\n",
    "\n",
    "Advantages:\n",
    "- Efficient Search: \n",
    "    - Binary trees are efficient when searching for a specific element, as each node has at most two child nodes, allowing for binary search algorithms to be used.\n",
    "\n",
    "- Memory Efficient: \n",
    "    - Binary trees require lesser memory as compared to other tree data structures, therefore they are memory-efficient.\n",
    "\n",
    "- Binary trees are relatively easy to implement and understand as each node has at most two children, left child and right child.\n",
    "\n",
    "\n",
    "Disadvantages:\n",
    "- Limited structure:\n",
    "    - Binary trees are limited to two child nodes per node, which can limit their usefulness in certain applications. For example, if a tree requires more than two child nodes per node, a different tree structure may be more suitable.\n",
    "\n",
    "- Unbalanced trees: \n",
    "    - Unbalanced binary trees, where one subtree is significantly larger than the other, can lead to inefficient search operations. This can occur if the tree is not properly balanced or if data is inserted in a non-random order.\n",
    "\n",
    "- Space inefficiency: \n",
    "    - Binary trees can be space inefficient when compared to other data structures. This is because each node requires two child pointers, which can be a significant amount of memory overhead for large trees.\n",
    "\n",
    "- Slow performance in worst-case scenarios: \n",
    "    - In the worst-case scenario, a binary tree can become degenerate or skewed, meaning that each node has only one child. In this case, search operations can degrade to O(n) time complexity, where n is the number of nodes in the tree.\n",
    "\n",
    "Application:\n",
    "- Binary Tree can be used to represent hierarchical data.\n",
    "- Huffman Coding trees are used in data compression algorithms.\n",
    "- Priority Queue is another application of binary tree that is used for searching maximum or minimum in O(1) time complexity.\n",
    "\n",
    "Types of Trees:\n",
    "\n",
    "- BST: Binary Search Tree\n",
    "- AVL: Self Balancing Binary Tree\n",
    "- B- Tree\n",
    "- B+ Tree\n",
    "- Red Black Tree"
   ]
  },
  {
   "cell_type": "markdown",
   "metadata": {},
   "source": [
    "##### Red Black Tree:\n",
    "Red Black Trees are a type of balanced binary search tree that use a set of rules to maintain balance, ensuring logarithmic time complexity for operations like insertion, deletion, and searching, regardless of the initial shape of the tree. Red Black Trees are self-balancing, using a simple color-coding scheme to adjust the tree after each modification.\n",
    "\n",
    "Properties:\n",
    "1. Every node has a color.\n",
    "2. The root is black.\n",
    "3. Every leaf is a special node called NIL (with no key)\n",
    "4. NIL is black.\n",
    "5. If a node is red, then it's children are black [ie no 2 red trees in a row]\n",
    "6. Every path from root to leaf has the same number of black nodes.\n",
    "\n",
    "The AVL trees are more balanced compared to Red-Black Trees, but they may cause more rotations during insertion and deletion. So, if your application involves frequent insertions and deletions, then Red-Black trees should be preferred. And if the insertions and deletions are less frequent and search is a more frequent operation, then AVL tree should be preferred over the Red-Black Tree."
   ]
  },
  {
   "cell_type": "markdown",
   "metadata": {},
   "source": [
    "General Tree Operation:\n",
    "\n",
    "- Depth of N-Array\n",
    "- Diameter of N-Array\n",
    "- Traversal: preorder, postorder, inorder, zigzag order, level order\n",
    "- sum of all elements in N-Array\n",
    "- Insertion of element"
   ]
  },
  {
   "cell_type": "markdown",
   "metadata": {},
   "source": []
  }
 ],
 "metadata": {
  "language_info": {
   "name": "python"
  }
 },
 "nbformat": 4,
 "nbformat_minor": 2
}
