{
 "cells": [
  {
   "cell_type": "code",
   "execution_count": 1,
   "metadata": {},
   "outputs": [
    {
     "name": "stdout",
     "output_type": "stream",
     "text": [
      "Found\n",
      "Found\n",
      "Not Found!\n",
      "Deleted\n",
      "Not Deleted!\n"
     ]
    }
   ],
   "source": [
    "class TrieNode:\n",
    "    def __init__(self):\n",
    "        self.word_count = 0\n",
    "        self.child_node = [None] * 26\n",
    "        \n",
    "def insert_key(root,key):\n",
    "    current_node = root\n",
    "    for c in key:\n",
    "        if not current_node.child_node[ord(c)-ord(\"a\")]:\n",
    "            new_node = TrieNode()\n",
    "            current_node.child_node[ord(c)-ord(\"a\")] = new_node\n",
    "        current_node = current_node.child_node[ord(c)-ord(\"a\")]\n",
    "    current_node.word_count += 1\n",
    "    \n",
    "def search_key(root,key):\n",
    "    current_node = root\n",
    "    for c in key:\n",
    "        if not current_node.child_node[ord(c)-ord(\"a\")]:\n",
    "            return False\n",
    "        current_node = current_node.child_node[ord(c)-ord(\"a\")]\n",
    "    return current_node.word_count > 0\n",
    "\n",
    "def delete_key(root,key):\n",
    "    current_node = root\n",
    "    last_branch_node = None\n",
    "    last_branch_char = \"a\"\n",
    "    for c in key:\n",
    "        if not current_node.child_node[ord[c]-ord[\"a\"]]:\n",
    "            return False\n",
    "        else:\n",
    "            count = 0\n",
    "            for i in range(26):\n",
    "                if current_node.child_node[i]:\n",
    "                    count += 1\n",
    "                    \n",
    "            if count > 1:\n",
    "                last_branch_node = current_node\n",
    "                last_branch_char = c\n",
    "            current_node = current_node.child_node[ord(c)-ord(\"a\")]\n",
    "                    \n",
    "    count = 0\n",
    "    if i in range(26):\n",
    "        if current_node.child_node[i]:\n",
    "            count += 1   \n",
    "            \n",
    "    if count > 0:\n",
    "        current_node.word_count -= 1\n",
    "        return True \n",
    "    \n",
    "    if last_branch_node:\n",
    "        current_node.child_node[ord(last_branch_char)-ord(\"a\")] = None\n",
    "        return True\n",
    "    else:\n",
    "        current_node.child_node[ord(key[0])-ord(\"a\")] = None\n",
    "        return True\n",
    "\n",
    "if __name__ == \"__main__\":\n",
    "    root = TrieNode()\n",
    "    input = [\"and\", \"ant\", \"do\", \"geek\", \"dad\", \"ball\"]\n",
    "    for i in range(len(input)):\n",
    "        insert_key(root,input[i])\n",
    "        \n",
    "    search_query_strings = [\"do\", \"geek\", \"bat\"]\n",
    "    for i in range(len(search_query_strings)):\n",
    "        if search_key(root,search_query_strings[i]):\n",
    "            print(\"Found\")\n",
    "        else:\n",
    "            print(\"Not Found!\")\n",
    "    \n",
    "    delete_query_strings = [\"geek\", \"tea\"]\n",
    "    for i in range(len(delete_query_strings)):\n",
    "        if search_key(root,delete_query_strings[i]):\n",
    "            print(\"Deleted\")\n",
    "        else:\n",
    "            print(\"Not Deleted!\")"
   ]
  },
  {
   "cell_type": "code",
   "execution_count": null,
   "metadata": {},
   "outputs": [],
   "source": []
  }
 ],
 "metadata": {
  "kernelspec": {
   "display_name": "base",
   "language": "python",
   "name": "python3"
  },
  "language_info": {
   "codemirror_mode": {
    "name": "ipython",
    "version": 3
   },
   "file_extension": ".py",
   "mimetype": "text/x-python",
   "name": "python",
   "nbconvert_exporter": "python",
   "pygments_lexer": "ipython3",
   "version": "3.11.5"
  }
 },
 "nbformat": 4,
 "nbformat_minor": 2
}
