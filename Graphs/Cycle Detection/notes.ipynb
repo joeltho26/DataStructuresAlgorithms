{
 "cells": [
  {
   "cell_type": "markdown",
   "metadata": {},
   "source": [
    "##### Cycles Detection:\n",
    "\n",
    "- A cycle in a Graph is a path that starts and ends at the same vertex, where no edges are repeated. It is similar to walking through a maze and ending up exactly where you started.\n",
    "\n",
    "- A cycle can be defined slightly different depending on the situation. A self-loop for example, where an edge goes from and to the same vertex, might or might not be considered a cycle, depending on the problem you are trying to solve."
   ]
  },
  {
   "cell_type": "markdown",
   "metadata": {},
   "source": [
    "The two most common ways to detect cycles are:\n",
    "\n",
    "- Depth First Search (DFS): DFS traversal explores the Graph and marks vertices as visited. A cycle is detected when the current vertex has an adjacent vertex that has already been visited.\n",
    "\n",
    "- Union-Find: This works by initially defining each vertex as a group, or a subset. Then these groups are joined for every edge. Whenever a new edge is explored, a cycle is detected if two vertices already belong to the same group."
   ]
  },
  {
   "cell_type": "markdown",
   "metadata": {},
   "source": [
    "##### DFS Cycle Detection for Undirected Graphs:\n",
    "\n",
    "- Start DFS traversal on each unvisited vertex (in case the Graph is not connected).\n",
    "- During DFS, mark vertices as visited, and run DFS on the adjacent vertices (recursively).\n",
    "- If an adjacent vertex is already visited and is not the parent of the current vertex, a cycle is detected, and True is returned.\n",
    "- If DFS traversal is done on all vertices and no cycles are detected, False is returned."
   ]
  },
  {
   "cell_type": "markdown",
   "metadata": {},
   "source": [
    "##### Union-Find Cycle Detection:\n",
    "\n",
    "- Union-Find cycle detection works by first putting each node in its own subset (like a bag or container). Then, for every edge, the subsets belonging to each vertex are merged. For an edge, if the vertices already belong to the same subset, it means that we have found a cycle.\n",
    "\n",
    "- Union-Find cycle detection is only applicable for Graphs that are undirected.\n",
    "- Union-Find cycle detection is implemented using the adjacency matrix representation"
   ]
  },
  {
   "cell_type": "markdown",
   "metadata": {},
   "source": []
  }
 ],
 "metadata": {
  "language_info": {
   "name": "python"
  }
 },
 "nbformat": 4,
 "nbformat_minor": 2
}
