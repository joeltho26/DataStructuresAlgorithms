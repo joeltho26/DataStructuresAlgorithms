{
 "cells": [
  {
   "cell_type": "markdown",
   "metadata": {},
   "source": [
    "#### Union & Find Algorithm:\n",
    "\n",
    "##### What is a Disjoint set data structure?\n",
    "\n",
    "Two sets are called disjoint sets if they don’t have any element in common, the intersection of sets is a null set.\n",
    "\n",
    "A data structure that stores non overlapping or disjoint subset of elements is called disjoint set data structure. The disjoint set data structure supports following operations:\n",
    "\n",
    "- Adding new sets to the disjoint set.\n",
    "\n",
    "- Merging disjoint sets to a single disjoint set using Union operation.\n",
    "\n",
    "- Finding representative of a disjoint set using Find operation.\n",
    "\n",
    "- Check if two sets are disjoint or not. \n"
   ]
  },
  {
   "cell_type": "markdown",
   "metadata": {},
   "source": [
    "Consider a situation with a number of persons and the following tasks to be performed on them:\n",
    "\n",
    "- Add a new friendship relation, i.e. a person x becomes the friend of another person y i.e adding new element to a set.\n",
    "\n",
    "- Find whether individual x is a friend of individual y (direct or indirect friend)"
   ]
  },
  {
   "cell_type": "code",
   "execution_count": 1,
   "metadata": {},
   "outputs": [
    {
     "data": {
      "text/plain": [
       "'\\nWe are given 10 individuals say, a, b, c, d, e, f, g, h, i, j\\n\\nFollowing are relationships to be added:\\na <-> b  \\nb <-> d\\nc <-> f\\nc <-> i\\nj <-> e\\ng <-> j\\n\\nGiven queries like whether a is a friend of d or not. We basically need to create following 4 groups and maintain a quickly accessible connection among group items:\\nG1 = {a, b, d}\\nG2 = {c, f, i}\\nG3 = {e, g, j}\\nG4 = {h}\\n'"
      ]
     },
     "execution_count": 1,
     "metadata": {},
     "output_type": "execute_result"
    }
   ],
   "source": [
    "\"\"\"\n",
    "We are given 10 individuals say, a, b, c, d, e, f, g, h, i, j\n",
    "\n",
    "Following are relationships to be added:\n",
    "a <-> b  \n",
    "b <-> d\n",
    "c <-> f\n",
    "c <-> i\n",
    "j <-> e\n",
    "g <-> j\n",
    "\n",
    "Given queries like whether a is a friend of d or not. We basically need to create following 4 groups and maintain a quickly accessible connection among group items:\n",
    "G1 = {a, b, d}\n",
    "G2 = {c, f, i}\n",
    "G3 = {e, g, j}\n",
    "G4 = {h}\n",
    "\"\"\""
   ]
  },
  {
   "cell_type": "markdown",
   "metadata": {},
   "source": [
    "Find whether x and y belong to the same group or not, i.e. to find if x and y are direct/indirect friends.\n",
    "\n",
    "Partitioning the individuals into different sets according to the groups in which they fall. This method is known as a Disjoint set Union which maintains a collection of Disjoint sets and each set is represented by one of its members.\n",
    "\n",
    "To answer the above question two key points to be considered are:\n",
    "\n",
    "##### How to Resolve sets? \n",
    "\n",
    "Initially, all elements belong to different sets. After working on the given relations, we select a member as a representative. There can be many ways to select a representative, a simple one is to select with the biggest index.\n",
    "\n",
    "##### Check if 2 persons are in the same group? \n",
    "\n",
    "If representatives of two individuals are the same, then they’ll become friends."
   ]
  },
  {
   "cell_type": "markdown",
   "metadata": {},
   "source": [
    "Data Structures used are: \n",
    "\n",
    "Array: \n",
    "\n",
    "An array of integers is called Parent[]. If we are dealing with N items, i’th element of the array represents the i’th item. More precisely, the i’th element of the Parent[] array is the parent of the i’th item. These relationships create one or more virtual trees.\n",
    "\n",
    "Tree: \n",
    "\n",
    "It is a Disjoint set. If two elements are in the same tree, then they are in the same Disjoint set. The root node (or the topmost node) of each tree is called the representative of the set. There is always a single unique representative of each set. A simple rule to identify a representative is if ‘i’ is the representative of a set, then Parent[i] = i. If i is not the representative of his set, then it can be found by traveling up the tree until we find the representative."
   ]
  },
  {
   "cell_type": "markdown",
   "metadata": {},
   "source": [
    "Operations on Disjoint Set Data Structures:\n",
    "\n",
    "- Find\n",
    "\n",
    "- Union"
   ]
  },
  {
   "cell_type": "markdown",
   "metadata": {},
   "source": [
    "1. Find:\n",
    "\n",
    "Can be implemented by recursively traversing the parent array until we hit a node that is the parent of itself."
   ]
  },
  {
   "cell_type": "code",
   "execution_count": 2,
   "metadata": {},
   "outputs": [
    {
     "data": {
      "text/plain": [
       "'\\ndef find(i): \\n\\tif (parent[i] == i): \\n\\t\\treturn i \\n\\telse: \\n\\t\\treturn find(parent[i]) \\n'"
      ]
     },
     "execution_count": 2,
     "metadata": {},
     "output_type": "execute_result"
    }
   ],
   "source": [
    "\"\"\"\n",
    "def find(i): \n",
    "\tif (parent[i] == i): \n",
    "\t\treturn i \n",
    "\telse: \n",
    "\t\treturn find(parent[i]) \n",
    "\"\"\""
   ]
  },
  {
   "cell_type": "markdown",
   "metadata": {},
   "source": [
    "##### Time complexity: \n",
    "\n",
    "This approach is inefficient and can take O(n) time in worst case."
   ]
  },
  {
   "cell_type": "markdown",
   "metadata": {},
   "source": [
    "2. Union: \n",
    "\n",
    "It takes two elements as input and finds the representatives of their sets using the Find operation, and finally puts either one of the trees (representing the set) under the root node of the other tree."
   ]
  },
  {
   "cell_type": "code",
   "execution_count": null,
   "metadata": {},
   "outputs": [],
   "source": [
    "\"\"\"\n",
    "def union(parent, rank, i, j): \n",
    "\tirep = find(parent, i) \n",
    "\tjrep = find(parent, j) \n",
    "\tparent[irep] = jrep \n",
    "    \"\"\""
   ]
  },
  {
   "cell_type": "markdown",
   "metadata": {},
   "source": [
    "##### Time complexity: \n",
    "\n",
    "This approach is inefficient and could lead to tree of length O(n) in worst case."
   ]
  },
  {
   "cell_type": "markdown",
   "metadata": {},
   "source": [
    "##### Optimizations (Union by Rank/Size and Path Compression):\n",
    "\n",
    "The efficiency depends heavily on which tree get attached to the other. There are 2 ways in which it can be done. First is Union by Rank, which considers height of the tree as the factor and Second is Union by Size, which considers size of the tree as the factor while attaching one tree to the other . This method along with Path Compression gives complexity of nearly constant time."
   ]
  },
  {
   "cell_type": "markdown",
   "metadata": {},
   "source": [
    "##### Path Compression (Modifications to Find()):\n",
    "\n",
    "It speeds up the data structure by compressing the height of the trees. It can be achieved by inserting a small caching mechanism into the Find operation. Take a look at the code for more details:"
   ]
  },
  {
   "cell_type": "code",
   "execution_count": null,
   "metadata": {},
   "outputs": [],
   "source": [
    "\"\"\"\n",
    "def find(i): \n",
    "\tif Parent[i] == i: \n",
    "\t\treturn i \n",
    "\telse: \n",
    "\t\tresult = find(Parent[i]) \n",
    "\t\tParent[i] = result \n",
    "\t\treturn result \n",
    "\"\"\""
   ]
  },
  {
   "cell_type": "markdown",
   "metadata": {},
   "source": [
    "##### Time Complexity:\n",
    " \n",
    "O(log n) on average per call.\n",
    "\n"
   ]
  },
  {
   "cell_type": "markdown",
   "metadata": {},
   "source": [
    "##### Union by Rank:\n",
    "\n",
    "First of all, we need a new array of integers called rank[]. The size of this array is the same as the parent array Parent[]. If i is a representative of a set, rank[i] is the height of the tree representing the set. \n",
    "\n",
    "Now recall that in the Union operation, it doesn’t matter which of the two trees is moved under the other. Now what we want to do is minimize the height of the resulting tree. If we are uniting two trees (or sets), let’s call them left and right, then it all depends on the rank of left and the rank of right. \n",
    "\n",
    "- If the rank of left is less than the rank of right, then it’s best to move left under right, because that won’t change the rank of right (while moving right under left would increase the height). In the same way, if the rank of right is less than the rank of left, then we should move right under left.\n",
    "\n",
    "- If the ranks are equal, it doesn’t matter which tree goes under the other, but the rank of the result will always be one greater than the rank of the trees.\n"
   ]
  },
  {
   "cell_type": "code",
   "execution_count": 3,
   "metadata": {},
   "outputs": [
    {
     "name": "stdout",
     "output_type": "stream",
     "text": [
      "Element 0 belongs to the set with representative 3\n",
      "Element 1 belongs to the set with representative 3\n",
      "Element 2 belongs to the set with representative 3\n",
      "Element 3 belongs to the set with representative 3\n",
      "Element 4 belongs to the set with representative 4\n"
     ]
    }
   ],
   "source": [
    "class DisjointSet: \n",
    "\tdef __init__(self, size): \n",
    "\t\tself.parent = [i for i in range(size)] \n",
    "\t\tself.rank = [0] * size \n",
    "\n",
    "\tdef find(self, i): \n",
    "\t\tif self.parent[i] != i: \n",
    "\t\t\tself.parent[i] = self.find(self.parent[i])\n",
    "\t\treturn self.parent[i] \n",
    "\n",
    "\tdef union_by_rank(self, i, j): \n",
    "\t\tirep = self.find(i) \n",
    "\t\tjrep = self.find(j) \n",
    "\t\tif irep == jrep: \n",
    "\t\t\treturn\n",
    "\n",
    "\t\tirank = self.rank[irep] \n",
    "\t\tjrank = self.rank[jrep] \n",
    "\t\tif irank < jrank: \n",
    "\t\t\tself.parent[irep] = jrep \n",
    "\t\telif jrank < irank: \n",
    "\t\t\tself.parent[jrep] = irep \n",
    "\t\telse: \n",
    "\t\t\tself.parent[irep] = jrep \n",
    "\t\t\tself.rank[jrep] += 1\n",
    "\n",
    "\tdef main(self): \n",
    "\t\tsize = 5\n",
    "\t\tds = DisjointSet(size) \n",
    "\t\tds.union_by_rank(0, 1) \n",
    "\t\tds.union_by_rank(2, 3) \n",
    "\t\tds.union_by_rank(1, 3) \n",
    "\t\tfor i in range(size): \n",
    "\t\t\tprint(f\"Element {i} belongs to the set with representative {ds.find(i)}\") \n",
    "\n",
    "ds = DisjointSet(size=5) \n",
    "ds.main() \n"
   ]
  },
  {
   "cell_type": "markdown",
   "metadata": {},
   "source": [
    "##### Union by Size:\n",
    "\n",
    "Again, we need a new array of integers called size[]. The size of this array is the same as the parent array Parent[]. If i is a representative of a set, size[i] is the number of the elements in the tree representing the set. \n",
    "\n",
    "Now we are uniting two trees (or sets), let’s call them left and right, then in this case it all depends on the size of left and the size of right tree (or set).\n",
    "\n",
    "- If the size of left is less than the size of right, then it’s best to move left under right and increase size of right by size of left. In the same way, if the size of right is less than the size of left, then we should move right under left. and increase size of left by size of right.\n",
    "\n",
    "- If the sizes are equal, it doesn’t matter which tree goes under the other."
   ]
  },
  {
   "cell_type": "code",
   "execution_count": 4,
   "metadata": {},
   "outputs": [
    {
     "name": "stdout",
     "output_type": "stream",
     "text": [
      "Element 0: Representative = 0\n",
      "Element 1: Representative = 0\n",
      "Element 2: Representative = 2\n",
      "Element 3: Representative = 2\n",
      "Element 4: Representative = 0\n"
     ]
    }
   ],
   "source": [
    "class UnionFind: \n",
    "\tdef __init__(self, n): \n",
    "\t\tself.Parent = list(range(n)) \n",
    "\t\tself.Size = [1] * n \n",
    "\n",
    "\tdef find(self, i): \n",
    "\t\tif self.Parent[i] != i: \n",
    "\t\t\tself.Parent[i] = self.find(self.Parent[i]) \n",
    "\t\treturn self.Parent[i] \n",
    "\n",
    "\tdef unionBySize(self, i, j): \n",
    "\t\tirep = self.find(i) \n",
    "\t\tjrep = self.find(j) \n",
    "\t\tif irep == jrep: \n",
    "\t\t\treturn\n",
    "\n",
    "\t\tisize = self.Size[irep] \n",
    "\t\tjsize = self.Size[jrep] \n",
    "\t\tif isize < jsize: \n",
    "\t\t\tself.Parent[irep] = jrep \n",
    "\t\t\tself.Size[jrep] += self.Size[irep] \n",
    "\t\telse: \n",
    "\t\t\tself.Parent[jrep] = irep \n",
    "\t\t\tself.Size[irep] += self.Size[jrep] \n",
    "\n",
    "n = 5\n",
    "unionFind = UnionFind(n) \n",
    "unionFind.unionBySize(0, 1) \n",
    "unionFind.unionBySize(2, 3) \n",
    "unionFind.unionBySize(0, 4) \n",
    "for i in range(n): \n",
    "\tprint(\"Element {}: Representative = {}\".format(i, unionFind.find(i))) "
   ]
  },
  {
   "cell_type": "markdown",
   "metadata": {},
   "source": [
    "##### Time complexity: \n",
    "\n",
    "O(log n) without Path Compression.\n",
    "\n"
   ]
  },
  {
   "cell_type": "markdown",
   "metadata": {},
   "source": [
    "##### Below is the complete implementation of disjoint set with path compression and union by rank.\n"
   ]
  },
  {
   "cell_type": "code",
   "execution_count": 5,
   "metadata": {},
   "outputs": [
    {
     "name": "stdout",
     "output_type": "stream",
     "text": [
      "Yes\n",
      "No\n"
     ]
    }
   ],
   "source": [
    "class DisjSet: \n",
    "\tdef __init__(self, n): \n",
    "\t\tself.rank = [1] * n \n",
    "\t\tself.parent = [i for i in range(n)] \n",
    "\n",
    "\tdef find(self, x): \n",
    "\t\tif (self.parent[x] != x): \n",
    "\t\t\tself.parent[x] = self.find(self.parent[x]) \n",
    "\n",
    "\t\treturn self.parent[x] \n",
    "\n",
    "\tdef Union(self, x, y): \n",
    "\t\txset = self.find(x) \n",
    "\t\tyset = self.find(y) \n",
    "\t\tif xset == yset: \n",
    "\t\t\treturn\n",
    "\t\tif self.rank[xset] < self.rank[yset]: \n",
    "\t\t\tself.parent[xset] = yset \n",
    "\n",
    "\t\telif self.rank[xset] > self.rank[yset]: \n",
    "\t\t\tself.parent[yset] = xset \n",
    "\t\telse: \n",
    "\t\t\tself.parent[yset] = xset \n",
    "\t\t\tself.rank[xset] = self.rank[xset] + 1\n",
    "\n",
    "obj = DisjSet(5) \n",
    "obj.Union(0, 2) \n",
    "obj.Union(4, 2) \n",
    "obj.Union(3, 1) \n",
    "if obj.find(4) == obj.find(0): \n",
    "\tprint('Yes') \n",
    "else: \n",
    "\tprint('No') \n",
    "if obj.find(1) == obj.find(0): \n",
    "\tprint('Yes') \n",
    "else: \n",
    "\tprint('No') \n"
   ]
  },
  {
   "cell_type": "markdown",
   "metadata": {},
   "source": [
    "##### Time complexity: \n",
    "\n",
    "O(n) for creating n single item sets . The two techniques -path compression with the union by rank/size, the time complexity will reach nearly constant time. It turns out, that the final amortized time complexity is O(α(n)), where α(n) is the inverse Ackermann function, which grows very steadily (it does not even exceed for n<10600  approximately).\n",
    "\n",
    "##### Space complexity: \n",
    "\n",
    "O(n) because we need to store n elements in the Disjoint Set Data Structure."
   ]
  },
  {
   "cell_type": "markdown",
   "metadata": {},
   "source": [
    "#### Union By Rank and Path Compression in Union-Find Algorithm\n",
    "\n",
    "\n",
    "We introduced union find algorithm and used it to detect cycles in a graph. We used the following union() and find() operations for subsets."
   ]
  },
  {
   "cell_type": "code",
   "execution_count": 6,
   "metadata": {},
   "outputs": [],
   "source": [
    "def find(parent, i):\n",
    "\tif (parent[i] == -1):\n",
    "\t\treturn i\n",
    "\t\n",
    "\treturn find(parent, parent[i])\n",
    "\n",
    "def Union(parent, x, y):\n",
    "\txset = find(parent, x)\n",
    "\tyset = find(parent, y)\n",
    "\tparent[xset] = yset"
   ]
  },
  {
   "cell_type": "markdown",
   "metadata": {},
   "source": [
    "The above union() and find() are naive and the worst case time complexity is linear. The trees created to represent subsets can be skewed and can become like a linked list. Following is an example worst case scenario. "
   ]
  },
  {
   "cell_type": "markdown",
   "metadata": {},
   "source": [
    "    Let there be 4 elements 0, 1, 2, 3\n",
    "\n",
    "    Initially, all elements are single element subsets.\n",
    "    0 1 2 3 \n",
    "\n",
    "    Do Union(0, 1)\n",
    "    1   2   3  \n",
    "    /\n",
    "    0\n",
    "\n",
    "    Do Union(1, 2)\n",
    "        2   3   \n",
    "        /\n",
    "    1\n",
    "    /\n",
    "    0\n",
    "\n",
    "    Do Union(2, 3)\n",
    "            3    \n",
    "            /\n",
    "        2\n",
    "        /\n",
    "    1\n",
    "    /\n",
    "    0"
   ]
  },
  {
   "cell_type": "markdown",
   "metadata": {},
   "source": [
    "The above operations can be optimized to O(Log n) in the worst case. The idea is to always attach a smaller depth tree under the root of the deeper tree. This technique is called union by rank. The term rank is preferred instead of height because if the path compression technique (we have discussed it below) is used, then the rank is not always equal to height. Also, the size (in place of height) of trees can also be used as rank. Using size as rank also yields worst-case time complexity as O(Logn)."
   ]
  },
  {
   "cell_type": "markdown",
   "metadata": {},
   "source": [
    "    Let us see the above example with union by rank\n",
    "    Initially, all elements are single element subsets.\n",
    "    0 1 2 3 \n",
    "\n",
    "    Do Union(0, 1)\n",
    "    1   2   3  \n",
    "    /\n",
    "    0\n",
    "\n",
    "    Do Union(1, 2)\n",
    "    1    3\n",
    "    /  \\\n",
    "    0    2\n",
    "\n",
    "    Do Union(2, 3)\n",
    "        1    \n",
    "    /  |  \\\n",
    "    0   2   3"
   ]
  },
  {
   "cell_type": "markdown",
   "metadata": {},
   "source": [
    "The second optimization to naive method is Path Compression. The idea is to flatten the tree when find() is called. When find() is called for an element x, root of the tree is returned. The find() operation traverses up from x to find root. The idea of path compression is to make the found root as parent of x so that we don’t have to traverse all intermediate nodes again. If x is root of a subtree, then path (to root) from all nodes under x also compresses."
   ]
  },
  {
   "cell_type": "markdown",
   "metadata": {},
   "source": [
    "    Let the subset {0, 1, .. 9} be represented as below and find() is called\n",
    "    for element 3.\n",
    "                9\n",
    "            /   |   \\  \n",
    "            4    5    6\n",
    "        /         /  \\\n",
    "        0         7    8\n",
    "        /        \n",
    "        3\n",
    "    / \\         \n",
    "    1   2\n",
    "    When find() is called for 3, we traverse up and find 9 as representative\n",
    "    of this subset. With path compression, we also make 3 and 0 as the child of 9 so \n",
    "    that when find() is called next time for 0, 1, 2 or 3, the path to root is reduced.\n",
    "\n",
    "            --------9-------\n",
    "        /   /    /  \\      \\\n",
    "        0   4    5    6       3 \n",
    "                    /  \\    /  \\\n",
    "                    7    8   1   2"
   ]
  },
  {
   "cell_type": "markdown",
   "metadata": {},
   "source": [
    "The two techniques -path compression with the union by rank/size, the time complexity will reach nearly constant time. It turns out, that the final amortized time complexity is O(α(n)), where α(n) is the inverse Ackermann function, which grows very steadily (it does not even exceed for n<10600  approximately).\n",
    "\n",
    "Following is union by rank and path compression-based implementation to find a cycle in a graph. "
   ]
  },
  {
   "cell_type": "code",
   "execution_count": 7,
   "metadata": {},
   "outputs": [
    {
     "name": "stdout",
     "output_type": "stream",
     "text": [
      "Graph contains cycle\n"
     ]
    }
   ],
   "source": [
    "from collections import defaultdict\n",
    "\n",
    "class Graph:\n",
    "\tdef __init__(self, num_of_v):\n",
    "\t\tself.num_of_v = num_of_v\n",
    "\t\tself.edges = defaultdict(list)\n",
    "\n",
    "\tdef add_edge(self, u, v):\n",
    "\t\tself.edges[u].append(v)\n",
    "\n",
    "class Subset:\n",
    "\tdef __init__(self, parent, rank):\n",
    "\t\tself.parent = parent\n",
    "\t\tself.rank = rank\n",
    "  \n",
    "def find(subsets, node):\n",
    "\tif subsets[node].parent != node:\n",
    "\t\tsubsets[node].parent = find(subsets, subsets[node].parent)\n",
    "\treturn subsets[node].parent\n",
    "\n",
    "def union(subsets, u, v):\n",
    "\tif subsets[u].rank > subsets[v].rank:\n",
    "\t\tsubsets[v].parent = u\n",
    "\telif subsets[v].rank > subsets[u].rank:\n",
    "\t\tsubsets[u].parent = v\n",
    "\telse:\n",
    "\t\tsubsets[v].parent = u\n",
    "\t\tsubsets[u].rank += 1\n",
    "\n",
    "def isCycle(graph):\n",
    "\tsubsets = []\n",
    "\n",
    "\tfor u in range(graph.num_of_v):\n",
    "\t\tsubsets.append(Subset(u, 0))\n",
    "\n",
    "\tfor u in graph.edges:\n",
    "\t\tu_rep = find(subsets, u)\n",
    "\n",
    "\t\tfor v in graph.edges[u]:\n",
    "\t\t\tv_rep = find(subsets, v)\n",
    "\n",
    "\t\t\tif u_rep == v_rep:\n",
    "\t\t\t\treturn True\n",
    "\t\t\telse:\n",
    "\t\t\t\tunion(subsets, u_rep, v_rep)\n",
    "\n",
    "g = Graph(3)\n",
    "g.add_edge(0, 1)\n",
    "g.add_edge(1, 2)\n",
    "g.add_edge(0, 2)\n",
    "\n",
    "if isCycle(g):\n",
    "\tprint('Graph contains cycle')\n",
    "else:\n",
    "\tprint('Graph does not contain cycle')\n",
    "\n"
   ]
  },
  {
   "cell_type": "markdown",
   "metadata": {},
   "source": [
    "#### Time complexity: \n",
    "\n",
    "O(ElogV) where E is the number of edges in the graph and V is the number of vertices. \n",
    "\n",
    "#### Space complexity: \n",
    "\n",
    "O(V), where V is the number of vertices. This is because we are using an array of subsets to store the representative elements of each vertex, and the size of this array is proportional to the number of vertices."
   ]
  },
  {
   "cell_type": "markdown",
   "metadata": {},
   "source": []
  }
 ],
 "metadata": {
  "kernelspec": {
   "display_name": "Python 3",
   "language": "python",
   "name": "python3"
  },
  "language_info": {
   "codemirror_mode": {
    "name": "ipython",
    "version": 3
   },
   "file_extension": ".py",
   "mimetype": "text/x-python",
   "name": "python",
   "nbconvert_exporter": "python",
   "pygments_lexer": "ipython3",
   "version": "3.11.6"
  }
 },
 "nbformat": 4,
 "nbformat_minor": 2
}
