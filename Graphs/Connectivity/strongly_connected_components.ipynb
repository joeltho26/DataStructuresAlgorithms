{
 "cells": [
  {
   "cell_type": "code",
   "execution_count": 1,
   "metadata": {},
   "outputs": [
    {
     "name": "stdout",
     "output_type": "stream",
     "text": [
      "Strongly Connected Components are:\n",
      "1 2 3 \n",
      "4 \n",
      "5 \n"
     ]
    }
   ],
   "source": [
    "class GFG:\n",
    "    # dfs Function to reach destination\n",
    "    def dfs(self, curr, des, adj, vis):\n",
    "        # If current node is the destination, return True\n",
    "        if curr == des:\n",
    "            return True\n",
    "        vis[curr] = 1\n",
    "        for x in adj[curr]:\n",
    "            if not vis[x]:\n",
    "                if self.dfs(x, des, adj, vis):\n",
    "                    return True\n",
    "        return False\n",
    "    \n",
    "    # To tell whether there is a path from source to destination\n",
    "    def isPath(self, src, des, adj):\n",
    "        vis = [0] * (len(adj) + 1)\n",
    "        return self.dfs(src, des, adj, vis)\n",
    "    \n",
    "    # Function to return all the strongly connected components of a graph.\n",
    "    def findSCC(self, n, a):\n",
    "        # Stores all the strongly connected components.\n",
    "        ans = []\n",
    "        \n",
    "        # Stores whether a vertex is a part of any Strongly Connected Component\n",
    "        is_scc = [0] * (n + 1)\n",
    "        \n",
    "        adj = [[] for _ in range(n + 1)]\n",
    "        \n",
    "        for i in range(len(a)):\n",
    "            adj[a[i][0]].append(a[i][1])\n",
    "        \n",
    "        # Traversing all the vertices\n",
    "        for i in range(1, n + 1):\n",
    "            if not is_scc[i]:\n",
    "                # If a vertex i is not a part of any SCC, insert it into a new SCC list\n",
    "                # and check for other vertices whether they can be part of this list.\n",
    "                scc = [i]\n",
    "                for j in range(i + 1, n + 1):\n",
    "                    # If there is a path from vertex i to vertex j and vice versa,\n",
    "                    # put vertex j into the current SCC list.\n",
    "                    if not is_scc[j] and self.isPath(i, j, adj) and self.isPath(j, i, adj):\n",
    "                        is_scc[j] = 1\n",
    "                        scc.append(j)\n",
    "                # Insert the SCC containing vertex i into the final list.\n",
    "                ans.append(scc)\n",
    "        return ans\n",
    "\n",
    "# Driver Code Starts\n",
    "if __name__ == \"__main__\":\n",
    "    obj = GFG()\n",
    "    V = 5\n",
    "    edges = [\n",
    "        [1, 3], [1, 4], [2, 1], [3, 2], [4, 5]\n",
    "    ]\n",
    "    ans = obj.findSCC(V, edges)\n",
    "    print(\"Strongly Connected Components are:\")\n",
    "    for x in ans:\n",
    "        for y in x:\n",
    "            print(y, end=\" \")\n",
    "        print()"
   ]
  }
 ],
 "metadata": {
  "kernelspec": {
   "display_name": "base",
   "language": "python",
   "name": "python3"
  },
  "language_info": {
   "codemirror_mode": {
    "name": "ipython",
    "version": 3
   },
   "file_extension": ".py",
   "mimetype": "text/x-python",
   "name": "python",
   "nbconvert_exporter": "python",
   "pygments_lexer": "ipython3",
   "version": "3.11.5"
  }
 },
 "nbformat": 4,
 "nbformat_minor": 2
}
