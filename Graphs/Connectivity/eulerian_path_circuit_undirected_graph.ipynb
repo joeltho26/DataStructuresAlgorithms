{
 "cells": [
  {
   "cell_type": "markdown",
   "metadata": {},
   "source": [
    "#### Eulerian path and circuit for undirected graph:\n",
    "\n",
    "Eulerian Path is a path in a graph that visits every edge exactly once. Eulerian Circuit is an Eulerian Path that starts and ends on the same vertex. "
   ]
  },
  {
   "cell_type": "code",
   "execution_count": null,
   "metadata": {},
   "outputs": [],
   "source": [
    "from IPython import display\n",
    "display.Image(\"/Users/joeljoseph26/Documents/Education/DSA/Graphs/Connectivity/img/BiconnectedComponent.png\")"
   ]
  },
  {
   "cell_type": "code",
   "execution_count": null,
   "metadata": {},
   "outputs": [],
   "source": [
    "from IPython import display\n",
    "display.Image(\"/Users/joeljoseph26/Documents/Education/DSA/Graphs/Connectivity/img/BiconnectedComponent.png\")"
   ]
  },
  {
   "cell_type": "code",
   "execution_count": null,
   "metadata": {},
   "outputs": [],
   "source": [
    "from IPython import display\n",
    "display.Image(\"/Users/joeljoseph26/Documents/Education/DSA/Graphs/Connectivity/img/BiconnectedComponent.png\")"
   ]
  },
  {
   "cell_type": "markdown",
   "metadata": {},
   "source": [
    "#### How to find whether a given graph is Eulerian or not? \n",
    "\n",
    "The problem is same as following question. “Is it possible to draw a given graph without lifting pencil from the paper and without tracing any of the edges more than once”.\n",
    "A graph is called Eulerian if it has an Eulerian Cycle and called Semi-Eulerian if it has an Eulerian Path. The problem seems similar to Hamiltonian Path which is NP complete problem for a general graph. Fortunately, we can find whether a given graph has a Eulerian Path or not in polynomial time. In fact, we can find it in O(V+E) time. \n",
    "Following are some interesting properties of undirected graphs with an Eulerian path and cycle. We can use these properties to find whether a graph is Eulerian or not."
   ]
  },
  {
   "cell_type": "markdown",
   "metadata": {},
   "source": [
    "#### Eulerian Cycle: \n",
    "\n",
    "An undirected graph has Eulerian cycle if following two conditions are true. \n",
    "\n",
    "- All vertices with non-zero degree are connected. We don’t care about vertices with zero degree because they don’t belong to Eulerian Cycle or Path (we only consider all edges). \n",
    "- All vertices have even degree."
   ]
  },
  {
   "cell_type": "markdown",
   "metadata": {},
   "source": [
    "#### Eulerian Path: \n",
    "\n",
    "An undirected graph has Eulerian Path if following two conditions are true. \n",
    "\n",
    "- Same as condition (a) for Eulerian Cycle.\n",
    "- If zero or two vertices have odd degree and all other vertices have even degree. Note that only one vertex with odd degree is not possible in an undirected graph (sum of all degrees is always even in an undirected graph)\n",
    "\n",
    "##### Note: \n",
    "that a graph with no edges is considered Eulerian because there are no edges to traverse.\n",
    "\n",
    "#### How does this work? \n",
    "\n",
    "In Eulerian path, each time we visit a vertex v, we walk through two unvisited edges with one end point as v. Therefore, all middle vertices in Eulerian Path must have even degree. For Eulerian Cycle, any vertex can be middle vertex, therefore all vertices must have even degree."
   ]
  },
  {
   "cell_type": "code",
   "execution_count": 1,
   "metadata": {},
   "outputs": [
    {
     "name": "stdout",
     "output_type": "stream",
     "text": [
      "graph has a Euler path\n",
      "graph has a Euler cycle\n",
      "graph is not Eulerian\n",
      "graph has a Euler cycle\n",
      "graph has a Euler cycle\n"
     ]
    }
   ],
   "source": [
    "from collections import defaultdict\n",
    "\n",
    "class Graph:\n",
    "\tdef __init__(self, vertices):\n",
    "\t\tself.V = vertices\n",
    "\t\tself.graph = defaultdict(list)\n",
    "\n",
    "\tdef addEdge(self, u, v):\n",
    "\t\tself.graph[u].append(v)\n",
    "\t\tself.graph[v].append(u)\n",
    "\n",
    "\tdef DFSUtil(self, v, visited):\n",
    "\t\tvisited[v] = True\n",
    "\t\tfor i in self.graph[v]:\n",
    "\t\t\tif visited[i] == False:\n",
    "\t\t\t\tself.DFSUtil(i, visited)\n",
    "\n",
    "\tdef isConnected(self):\n",
    "\t\tvisited = [False]*(self.V)\n",
    "\t\tfor i in range(self.V):\n",
    "\t\t\tif len(self.graph[i]) != 0:\n",
    "\t\t\t\tbreak\n",
    "\n",
    "\t\tif i == self.V-1:\n",
    "\t\t\treturn True\n",
    "\n",
    "\t\tself.DFSUtil(i, visited)\n",
    "\t\tfor i in range(self.V):\n",
    "\t\t\tif visited[i] == False and len(self.graph[i]) > 0:\n",
    "\t\t\t\treturn False\n",
    "\n",
    "\t\treturn True\n",
    "\n",
    "\tdef isEulerian(self):\n",
    "\t\tif self.isConnected() == False:\n",
    "\t\t\treturn 0\n",
    "\t\telse:\n",
    "\t\t\todd = 0\n",
    "\t\t\tfor i in range(self.V):\n",
    "\t\t\t\tif len(self.graph[i]) % 2 != 0:\n",
    "\t\t\t\t\todd += 1\n",
    "\n",
    "\t\t\tif odd == 0:\n",
    "\t\t\t\treturn 2\n",
    "\t\t\telif odd == 2:\n",
    "\t\t\t\treturn 1\n",
    "\t\t\telif odd > 2:\n",
    "\t\t\t\treturn 0\n",
    "\n",
    "\tdef test(self):\n",
    "\t\tres = self.isEulerian()\n",
    "\t\tif res == 0:\n",
    "\t\t\tprint(\"graph is not Eulerian\")\n",
    "\t\telif res == 1:\n",
    "\t\t\tprint(\"graph has a Euler path\")\n",
    "\t\telse:\n",
    "\t\t\tprint(\"graph has a Euler cycle\")\n",
    "\n",
    "g1 = Graph(5)\n",
    "g1.addEdge(1, 0)\n",
    "g1.addEdge(0, 2)\n",
    "g1.addEdge(2, 1)\n",
    "g1.addEdge(0, 3)\n",
    "g1.addEdge(3, 4)\n",
    "g1.test()\n",
    "\n",
    "g2 = Graph(5)\n",
    "g2.addEdge(1, 0)\n",
    "g2.addEdge(0, 2)\n",
    "g2.addEdge(2, 1)\n",
    "g2.addEdge(0, 3)\n",
    "g2.addEdge(3, 4)\n",
    "g2.addEdge(4, 0)\n",
    "g2.test()\n",
    "\n",
    "g3 = Graph(5)\n",
    "g3.addEdge(1, 0)\n",
    "g3.addEdge(0, 2)\n",
    "g3.addEdge(2, 1)\n",
    "g3.addEdge(0, 3)\n",
    "g3.addEdge(3, 4)\n",
    "g3.addEdge(1, 3)\n",
    "g3.test()\n",
    "\n",
    "g4 = Graph(3)\n",
    "g4.addEdge(0, 1)\n",
    "g4.addEdge(1, 2)\n",
    "g4.addEdge(2, 0)\n",
    "g4.test()\n",
    "g5 = Graph(3)\n",
    "g5.test()"
   ]
  },
  {
   "cell_type": "markdown",
   "metadata": {},
   "source": [
    "#### Time Complexity: \n",
    "\n",
    "O(V+E)\n",
    "\n",
    "#### Space Complexity: \n",
    "\n",
    "O(V+E)"
   ]
  },
  {
   "cell_type": "markdown",
   "metadata": {},
   "source": []
  }
 ],
 "metadata": {
  "kernelspec": {
   "display_name": "base",
   "language": "python",
   "name": "python3"
  },
  "language_info": {
   "codemirror_mode": {
    "name": "ipython",
    "version": 3
   },
   "file_extension": ".py",
   "mimetype": "text/x-python",
   "name": "python",
   "nbconvert_exporter": "python",
   "pygments_lexer": "ipython3",
   "version": "3.11.6"
  }
 },
 "nbformat": 4,
 "nbformat_minor": 2
}
