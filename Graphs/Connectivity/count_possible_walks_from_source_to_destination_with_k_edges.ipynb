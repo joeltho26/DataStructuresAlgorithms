{
 "cells": [
  {
   "cell_type": "code",
   "execution_count": 1,
   "metadata": {},
   "outputs": [
    {
     "name": "stdout",
     "output_type": "stream",
     "text": [
      "2\n"
     ]
    }
   ],
   "source": [
    "# Python3 program to count walks from\n",
    "# u to v with exactly k edges\n",
    "\n",
    "# Number of vertices in the graph\n",
    "V = 4\n",
    "\n",
    "# A naive recursive function to count\n",
    "# walks from u to v with k edges\n",
    "def countwalks(graph, u, v, k):\n",
    "\n",
    "\t# Base cases\n",
    "\tif (k == 0 and u == v):\n",
    "\t\treturn 1\n",
    "\tif (k == 1 and graph[u][v]):\n",
    "\t\treturn 1\n",
    "\tif (k <= 0):\n",
    "\t\treturn 0\n",
    "\t\n",
    "\t# Initialize result\n",
    "\tcount = 0\n",
    "\t\n",
    "\t# Go to all adjacents of u and recur\n",
    "\tfor i in range(0, V):\n",
    "\t\t\n",
    "\t\t# Check if is adjacent of u\n",
    "\t\tif (graph[u][i] == 1): \n",
    "\t\t\tcount += countwalks(graph, i, v, k-1)\n",
    "\t\n",
    "\treturn count\n",
    "\n",
    "# Driver Code\n",
    "\n",
    "# Let us create the graph shown in above diagram\n",
    "graph = [[0, 1, 1, 1, ],\n",
    "\t\t[0, 0, 0, 1, ],\n",
    "\t\t[0, 0, 0, 1, ],\n",
    "\t\t[0, 0, 0, 0] ]\n",
    "\n",
    "u = 0; v = 3; k = 2\n",
    "print(countwalks(graph, u, v, k))\n",
    "\n",
    "# This code is contributed by Smitha Dinesh Semwal.\n"
   ]
  }
 ],
 "metadata": {
  "kernelspec": {
   "display_name": "base",
   "language": "python",
   "name": "python3"
  },
  "language_info": {
   "codemirror_mode": {
    "name": "ipython",
    "version": 3
   },
   "file_extension": ".py",
   "mimetype": "text/x-python",
   "name": "python",
   "nbconvert_exporter": "python",
   "pygments_lexer": "ipython3",
   "version": "3.11.5"
  }
 },
 "nbformat": 4,
 "nbformat_minor": 2
}
