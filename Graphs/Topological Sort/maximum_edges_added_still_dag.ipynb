{
 "cells": [
  {
   "cell_type": "markdown",
   "metadata": {},
   "source": [
    "#### Maximum edges that can be added to DAG so that it remains DAG\n",
    "\n",
    "A DAG is given to us, we need to find maximum number of edges that can be added to this DAG, after which new graph still remain a DAG that means the reformed graph should have maximal number of edges, adding even single edge will create a cycle in graph."
   ]
  },
  {
   "cell_type": "code",
   "execution_count": 1,
   "metadata": {},
   "outputs": [
    {
     "data": {
      "image/png": "[encoded data removed]",
      "text/plain": [
       "<IPython.core.display.Image object>"
      ]
     },
     "execution_count": 1,
     "metadata": {},
     "output_type": "execute_result"
    }
   ],
   "source": [
    "from IPython import display\n",
    "display.Image(\"/Users/joeljoseph26/Documents/Education/DSA/Graphs/Topological Sort/img/DAG.png\")"
   ]
  },
  {
   "cell_type": "markdown",
   "metadata": {},
   "source": [
    "The Output for above example should be following edges in any order.\n",
    "\n",
    "4-2, 4-5, 4-3, 5-3, 5-1, 2-0, 2-1, 0-3, 0-1"
   ]
  },
  {
   "cell_type": "markdown",
   "metadata": {},
   "source": [
    "As shown in above example, we have added all the edges in one direction only to save ourselves from making a cycle. This is the trick to solve this question. We sort all our nodes in topological order and create edges from node to all nodes to the right if not there already. \n",
    "How can we say that, it is not possible to add any more edge? the reason is we have added all possible edges from left to right and if we want to add more edge we need to make that from right to left, but adding edge from right to left we surely create a cycle because its counter part left to right edge is already been added to graph and creating cycle is not what we needed. \n",
    "So solution proceeds as follows, we consider the nodes in topological order and if any edge is not there from left to right, we will create it. \n",
    "\n",
    "Below is the solution, we have printed all the edges that can be added to given DAG without making any cycle. "
   ]
  },
  {
   "cell_type": "code",
   "execution_count": 2,
   "metadata": {},
   "outputs": [
    {
     "name": "stdout",
     "output_type": "stream",
     "text": [
      "4-5 4-2 4-3 5-3 5-1 2-0 2-1 0-3 0-1 "
     ]
    }
   ],
   "source": [
    "class Graph:\n",
    "\tdef __init__(self, V):\n",
    "\t\tself.V = V\n",
    "\t\tself.adj = [[] for i in range(V)]\n",
    "\t\tself.indegree = [0 for i in range(V)]\n",
    "\n",
    "\tdef addEdge(self, v, w):\n",
    "\t\tself.adj[v].append(w)\n",
    "\t\tself.indegree[w] += 1\n",
    "\n",
    "\tdef topologicalSort(self):\n",
    "\t\ttopological = []\n",
    "\t\tq = []\n",
    "\t\tfor i in range(self.V):\n",
    "\t\t\tif (self.indegree[i] == 0):\n",
    "\t\t\t\tq.append(i)\n",
    "\n",
    "\t\twhile (len(q) != 0):\n",
    "\t\t\tt = q[0]\n",
    "\t\t\tq.pop(0)\n",
    "\t\t\ttopological.append(t)\n",
    "\t\t\tfor j in self.adj[t]:\n",
    "\t\t\t\tself.indegree[j] -= 1\n",
    "\t\t\t\tif (self.indegree[j] == 0):\n",
    "\t\t\t\t\tq.append(j)\n",
    "\n",
    "\t\treturn topological\n",
    "\n",
    "\tdef maximumEdgeAddition(self):\n",
    "\t\tvisited = [False for i in range(self.V)]\n",
    "\t\ttopo = self.topologicalSort()\n",
    "\t\tfor i in range(len(topo)):\n",
    "\t\t\tt = topo[i]\n",
    "\n",
    "\t\t\tfor j in self.adj[t]:\n",
    "\t\t\t\tvisited[j] = True\n",
    "\n",
    "\t\t\tfor j in range(i + 1, len(topo)):\n",
    "\t\t\t\tif (not visited[topo[j]]):\n",
    "\t\t\t\t\tprint(str(t) + '-' +\n",
    "\t\t\t\t\t\tstr(topo[j]), end=' ')\n",
    "\n",
    "\t\t\t\tvisited[topo[j]] = False\n",
    "\n",
    "if __name__ == '__main__':\n",
    "\tg = Graph(6)\n",
    "\tg.addEdge(5, 2)\n",
    "\tg.addEdge(5, 0)\n",
    "\tg.addEdge(4, 0)\n",
    "\tg.addEdge(4, 1)\n",
    "\tg.addEdge(2, 3)\n",
    "\tg.addEdge(3, 1)\n",
    "\tg.maximumEdgeAddition()"
   ]
  },
  {
   "cell_type": "markdown",
   "metadata": {},
   "source": [
    "#### Time complexity : O(V + E) \n",
    "\n",
    "#### Space complexity : O(V + E) "
   ]
  },
  {
   "cell_type": "markdown",
   "metadata": {},
   "source": [
    "#### Optimized approach for finding only the number of edges that can be added\n",
    "\n",
    "If we have to find only the maximum number of edges that can be added, it can be solved simply by understanding the following observation. If a DAG has n nodes, it has n nodes in it’s topological sort as well. The maximum number of edges a DAG can have can be determined by finding the maximum number of nodes that can be linked with each node. This implies the first node is connected to (n-1) nodes, the second node is connected to (n-2) nodes until the last node is not connected to any node. The reason for this decreasing pattern is because any edge from right node to the left node of the topological sort creates a cycle and it’ll no longer be a DAG. \n",
    "\n",
    "This means a DAG of n nodes can have a maximum number of\n",
    "(n-1) + (n-2) + (n-3) + . . . 3 + 2 + 1 = n*(n-1)/2 edges\n",
    "\n",
    "If the DAG already has E edges, then the maximum number of additional edges that can be added is given by (n*(n-1)/2 – E) which will be our final answer.\n",
    "\n",
    "Below is the code implementation of the optimized approach"
   ]
  },
  {
   "cell_type": "code",
   "execution_count": 3,
   "metadata": {},
   "outputs": [
    {
     "name": "stdout",
     "output_type": "stream",
     "text": [
      "Maximum number of edges that can be added to maintain DAG is 9\n"
     ]
    }
   ],
   "source": [
    "def max_edges(V,E):\n",
    "\treturn V*(V-1)//2 - E\n",
    "\n",
    "V = 6\n",
    "E = 6\n",
    "print(\"Maximum number of edges that can be added to maintain DAG is\",max_edges(V,E))\n"
   ]
  },
  {
   "cell_type": "markdown",
   "metadata": {},
   "source": [
    "\n",
    "#### Time Complexity: O(1)\n",
    "\n",
    "#### Auxiliary Space: O(1)"
   ]
  },
  {
   "cell_type": "markdown",
   "metadata": {},
   "source": []
  }
 ],
 "metadata": {
  "kernelspec": {
   "display_name": "Python 3",
   "language": "python",
   "name": "python3"
  },
  "language_info": {
   "codemirror_mode": {
    "name": "ipython",
    "version": 3
   },
   "file_extension": ".py",
   "mimetype": "text/x-python",
   "name": "python",
   "nbconvert_exporter": "python",
   "pygments_lexer": "ipython3",
   "version": "3.11.6"
  }
 },
 "nbformat": 4,
 "nbformat_minor": 2
}
