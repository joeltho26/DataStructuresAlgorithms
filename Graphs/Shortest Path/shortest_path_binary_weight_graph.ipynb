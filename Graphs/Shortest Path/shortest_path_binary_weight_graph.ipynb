{
 "cells": [
  {
   "cell_type": "markdown",
   "metadata": {},
   "source": [
    "#### 0-1 BFS (Shortest Path in a Binary Weight Graph)\n",
    "\n",
    "Given a graph where every edge has weight as either 0 or 1. A source vertex is also given in the graph. Find the shortest path from the source vertex to every other vertex. \n",
    "\n",
    "\n",
    "Input : \n",
    "\n",
    "Source Vertex = 0 and below graph Having vertices like(u,v,w):\n",
    "\n",
    "Edges: \n",
    "\n",
    "[[0,1,0], [0, 7, 1], [1,2,1], [1, 7, 1], [2, 3, 0], [2, 5, 0], [2, 8, 1], [3, 4, 1],[3, 5, 1],[4, 5, 1],[5, 6, 1],[6, 7, 1],[7, 8, 1]] \n",
    "\n",
    "Explanation : \n",
    "\n",
    "Shortest distance from 0 to 0 is 0\n",
    "\n",
    "Shortest distance from 0 to 1 is 0\n",
    "\n",
    "Shortest distance from 0 to 2 is 1\n",
    "\n",
    ".................."
   ]
  },
  {
   "cell_type": "code",
   "execution_count": 1,
   "metadata": {},
   "outputs": [
    {
     "data": {
      "image/png": "[encoded data removed]",
      "text/plain": [
       "<IPython.core.display.Image object>"
      ]
     },
     "execution_count": 1,
     "metadata": {},
     "output_type": "execute_result"
    }
   ],
   "source": [
    "from IPython import display\n",
    "display.Image(\"/Users/joeljoseph26/Documents/Education/DSA/Graphs/Shortest Path/img/task-1-300x150.png\")"
   ]
  },
  {
   "cell_type": "markdown",
   "metadata": {},
   "source": [
    "A simple way to find ne­arby nodes is called 0-1 BFS. Instead of marking visite­d nodes with a boolean array, it checks a condition at e­ach step. It uses a double-e­nded queue to store­ nodes. If an edge has a we­ight of 0, the node is inserte­d at the front of the queue­. But if the edge has a we­ight of 1, the node goes at the­ back.\n",
    "\n",
    "This method is similar to Dijkstra’s algorithm. It updates the shorte­st distance to a node based on its ne­ighboring nodes. A node is added to the­ queue only if its distance could be­ improved by the previous node­’s distance. This helps find the optimal path to re­ach nodes.\n",
    "\n",
    "This way works well in many case­s. When taking a point from the line (like­ Dijkstra’s way), it means that point has the smallest we­ight left. If there is a ne­xt point with weight 0, it is the same distance­ as the point just taken. But if the ne­xt point has weight 1, it is now the farthest away of all points still in the­ line. This is because all othe­r points either connect straight to the­ current point or connect to points already take­n."
   ]
  },
  {
   "cell_type": "code",
   "execution_count": null,
   "metadata": {},
   "outputs": [],
   "source": [
    "from sys import maxsize as INT_MAX\n",
    "from collections import deque\n",
    "\n",
    "V = 9\n",
    "class node:\n",
    "    def __init__(self, to, weight):\n",
    "        self.to = to\n",
    "        self.weight = weight\n",
    "\n",
    "edges = [0] * V\n",
    "for i in range(V):\n",
    "    edges[i] = []\n",
    "\n",
    "def zeroOneBFS(src: int):\n",
    "    dist = [0] * V\n",
    "    for i in range(V):\n",
    "        dist[i] = INT_MAX\n",
    "\n",
    "    Q = deque()\n",
    "    dist[src] = 0\n",
    "    Q.append(src)\n",
    "    while Q:\n",
    "        v = Q[0]\n",
    "        Q.popleft()\n",
    "        for i in range(len(edges[v])):\n",
    "            if (dist[edges[v][i].to] > \n",
    "                dist[v] + edges[v][i].weight):\n",
    "                dist[edges[v][i].to] = dist[v] + edges[v][i].weight\n",
    "                if edges[v][i].weight == 0:\n",
    "                    Q.appendleft(edges[v][i].to)\n",
    "                else:\n",
    "                    Q.append(edges[v][i].to)\n",
    "\n",
    "    for i in range(V):\n",
    "        print(dist[i], end = \" \")\n",
    "    print()\n",
    "\n",
    "def addEdge(u: int, v: int, wt: int):\n",
    "    edges[u].append(node(v, wt))\n",
    "    edges[u].append(node(v, wt))\n",
    "\n",
    "if __name__ == \"__main__\":\n",
    "    addEdge(0, 1, 0)\n",
    "    addEdge(0, 7, 1)\n",
    "    addEdge(1, 7, 1)\n",
    "    addEdge(1, 2, 1)\n",
    "    addEdge(2, 3, 0)\n",
    "    addEdge(2, 5, 0)\n",
    "    addEdge(2, 8, 1)\n",
    "    addEdge(3, 4, 1)\n",
    "    addEdge(3, 5, 1)\n",
    "    addEdge(4, 5, 1)\n",
    "    addEdge(5, 6, 1)\n",
    "    addEdge(6, 7, 1)\n",
    "    addEdge(7, 8, 1)\n",
    "    src = 0\n",
    "    zeroOneBFS(src)"
   ]
  },
  {
   "cell_type": "markdown",
   "metadata": {},
   "source": [
    "This problem can also be solved by Dijkstra but the time complexity will be O(E + V Log V) whereas by BFS it will be O(V+E)."
   ]
  },
  {
   "cell_type": "markdown",
   "metadata": {},
   "source": []
  }
 ],
 "metadata": {
  "kernelspec": {
   "display_name": "Python 3",
   "language": "python",
   "name": "python3"
  },
  "language_info": {
   "codemirror_mode": {
    "name": "ipython",
    "version": 3
   },
   "file_extension": ".py",
   "mimetype": "text/x-python",
   "name": "python",
   "nbconvert_exporter": "python",
   "pygments_lexer": "ipython3",
   "version": "3.11.6"
  }
 },
 "nbformat": 4,
 "nbformat_minor": 2
}
