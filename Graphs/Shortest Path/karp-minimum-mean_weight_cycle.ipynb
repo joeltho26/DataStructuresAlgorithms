{
 "cells": [
  {
   "cell_type": "markdown",
   "metadata": {},
   "source": [
    "#### Karp’s minimum mean (or average) weight cycle algorithm\n",
    "\n",
    "Given a directed and strongly connected graph with non-negative edge weights. We define the mean weight of a cycle as the summation of all the edge weights of the cycle divided by the no. of edges. Our task is to find the minimum mean weight among all the directed cycles of the graph"
   ]
  },
  {
   "cell_type": "code",
   "execution_count": 2,
   "metadata": {},
   "outputs": [
    {
     "data": {
      "image/jpeg": "[encoded data removed]",
      "text/plain": [
       "<IPython.core.display.Image object>"
      ]
     },
     "execution_count": 2,
     "metadata": {},
     "output_type": "execute_result"
    }
   ],
   "source": [
    "from IPython import display\n",
    "display.Image(\"/Users/joeljoseph26/Documents/Education/DSA/Graphs/Shortest Path/img/karps_mean_value.jpg\")"
   ]
  },
  {
   "cell_type": "markdown",
   "metadata": {},
   "source": [
    "#### Method to find the smallest mean weight value cycle efficiently \n",
    "\n",
    "Step 1: Choose first vertex as source.\n",
    "\n",
    "Step 2: Compute the shortest path to all other vertices \n",
    "        on a path consisting of k edges 0 <= k <= V \n",
    "        where V is number of vertices.\n",
    "        This is a simple dp problem which can be computed \n",
    "        by the recursive solution\n",
    "        dp[k][v] = min(dp[k][v], dp[k-1][u] + weight(u,v)\n",
    "        where v is the destination and the edge(u,v) should\n",
    "        belong to E\n",
    "\n",
    "Step 3: For each vertex calculate max(dp[n][v]-dp[k][v])/(n-k) \n",
    "         where 0<=k<=n-1\n",
    "\n",
    "Step 4: The minimum of the values calculated above is the \n",
    "        required answer."
   ]
  },
  {
   "cell_type": "code",
   "execution_count": 3,
   "metadata": {},
   "outputs": [
    {
     "name": "stdout",
     "output_type": "stream",
     "text": [
      "1.6666666666666667\n"
     ]
    }
   ],
   "source": [
    "class edge:\n",
    "\tdef __init__(self, u, w):\n",
    "\t\tself.From = u\n",
    "\t\tself.weight = w\n",
    "\n",
    "def addedge(u, v, w):\n",
    "\tedges[v].append(edge(u, w))\n",
    "\n",
    "def shortestpath(dp):\t\n",
    "\tfor i in range(V + 1):\n",
    "\t\tfor j in range(V):\n",
    "\t\t\tdp[i][j] = -1\n",
    "\n",
    "\tdp[0][0] = 0\n",
    "\tfor i in range(1, V + 1):\n",
    "\t\tfor j in range(V):\n",
    "\t\t\tfor k in range(len(edges[j])):\n",
    "\t\t\t\tif (dp[i - 1][edges[j][k].From] != -1):\n",
    "\t\t\t\t\tcurr_wt = (dp[i - 1][edges[j][k].From] +\n",
    "\t\t\t\t\t\t\t\t\t\tedges[j][k].weight) \n",
    "\t\t\t\t\tif (dp[i][j] == -1): \n",
    "\t\t\t\t\t\tdp[i][j] = curr_wt \n",
    "\t\t\t\t\telse:\n",
    "\t\t\t\t\t\tdp[i][j] = min(dp[i][j], curr_wt)\n",
    "\n",
    "def minAvgWeight():\n",
    "\tdp = [[None] * V for i in range(V + 1)]\n",
    "\tshortestpath(dp) \n",
    "\tavg = [-1] * V\n",
    "\tfor i in range(V):\n",
    "\t\tif (dp[V][i] != -1):\n",
    "\t\t\tfor j in range(V):\n",
    "\t\t\t\tif (dp[j][i] != -1): \n",
    "\t\t\t\t\tavg[i] = max(avg[i], (dp[V][i] - dp[j][i]) / (V - j))\n",
    "\n",
    "\tresult = avg[0]\n",
    "\tfor i in range(V):\n",
    "\t\tif (avg[i] != -1 and avg[i] < result): \n",
    "\t\t\tresult = avg[i] \n",
    "\treturn result\n",
    "\n",
    "V = 4\n",
    "edges = [[] for i in range(V)]\n",
    "addedge(0, 1, 1) \n",
    "addedge(0, 2, 10) \n",
    "addedge(1, 2, 3) \n",
    "addedge(2, 3, 2) \n",
    "addedge(3, 1, 0) \n",
    "addedge(3, 0, 8) \n",
    "print(minAvgWeight())"
   ]
  },
  {
   "cell_type": "markdown",
   "metadata": {},
   "source": [
    "#### Time Complexity : \n",
    "\n",
    "The time complexity of the given program is O(V^3), where V is the number of vertices in the graph. This is because the program uses a nested loop to fill up the dp table, and the size of the dp table is V^2. The outermost loop runs V times, the middle loop runs V times, and the innermost loop can run up to V times in the worst case, giving a total time complexity of O(V^3). The other parts of the program have a lower time complexity and do not contribute significantly to the overall time complexity.\n",
    "\n",
    "#### Space Complexity : \n",
    "\n",
    "The space complexity of the given  program is O(V^2), where V is the number of vertices in the graph. This is because the program creates a 2D array dp of size (V+1)xV, which requires O(V^2) space. Additionally, the program creates a vector of edges, which takes up O(E) space, where E is the number of edges in the graph. However, in this particular implementation, the number of edges is not directly stored, and it is not clear whether all edges are actually added to the vector. Therefore, the space complexity is mainly determined by the size of the dp array, which is O(V^2)."
   ]
  },
  {
   "cell_type": "markdown",
   "metadata": {},
   "source": []
  }
 ],
 "metadata": {
  "kernelspec": {
   "display_name": "base",
   "language": "python",
   "name": "python3"
  },
  "language_info": {
   "codemirror_mode": {
    "name": "ipython",
    "version": 3
   },
   "file_extension": ".py",
   "mimetype": "text/x-python",
   "name": "python",
   "nbconvert_exporter": "python",
   "pygments_lexer": "ipython3",
   "version": "3.11.6"
  }
 },
 "nbformat": 4,
 "nbformat_minor": 2
}
