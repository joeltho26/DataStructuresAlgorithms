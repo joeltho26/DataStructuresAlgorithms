{
 "cells": [
  {
   "cell_type": "markdown",
   "metadata": {},
   "source": [
    "#### Multistage Graph (Shortest Path)\n"
   ]
  },
  {
   "cell_type": "markdown",
   "metadata": {},
   "source": [
    "A Multistage graph is a directed, weighted graph in which the nodes can be divided into a set of stages such that all edges are from a stage to next stage only (In other words there is no edge between vertices of same stage and from a vertex of current stage to previous stage).\n",
    "\n",
    "The vertices of a multistage graph are divided into n number of disjoint subsets S = { S1 , S2 , S3 ……….. Sn },  where S1 is the source and Sn is the sink ( destination ). The cardinality of S1 and Sn are equal to 1. i.e., |S1| = |Sn| = 1.\n",
    "We are given a multistage graph, a source and a destination, we need to find shortest path from source to destination. By convention, we consider source at stage 1 and destination as last stage."
   ]
  },
  {
   "cell_type": "code",
   "execution_count": null,
   "metadata": {},
   "outputs": [],
   "source": []
  },
  {
   "cell_type": "markdown",
   "metadata": {},
   "source": [
    "Now there are various strategies we can apply :-\n",
    "\n",
    "- The Brute force method of finding all possible paths between Source and Destination and then finding the minimum. That’s the WORST possible strategy.\n",
    "\n",
    "- Dijkstra’s Algorithm of Single Source shortest paths. This method will find shortest paths from source to all other nodes which is not required in this case. So it will take a lot of time and it doesn’t even use the SPECIAL feature that this MULTI-STAGE graph has.\n",
    "\n",
    "- Simple Greedy Method – At each node, choose the shortest outgoing path. If we apply this approach to the example graph given above we get the solution as 1 + 4 + 18 = 23. But a quick look at the graph will show much shorter paths available than 23. So the greedy method fails !\n",
    "\n",
    "- The best option is Dynamic Programming. So we need to find Optimal Sub-structure, Recursive Equations and Overlapping Sub-problems."
   ]
  },
  {
   "cell_type": "markdown",
   "metadata": {},
   "source": [
    "Optimal Substructure and Recursive Equation :- \n",
    "We define the notation :- M(x, y) as the minimum cost to T(target node) from Stage x, Node y."
   ]
  },
  {
   "cell_type": "code",
   "execution_count": 10,
   "metadata": {},
   "outputs": [
    {
     "data": {
      "text/plain": [
       "'\\n    Shortest distance from stage 1, node 0 to \\ndestination, i.e., 7 is M(1, 0).\\n// From 0, we can go to 1 or 2 or 3 to\\n// reach 7.              \\nM(1, 0) = min(1 + M(2, 1),\\n              2 + M(2, 2),\\n              5 + M(2, 3))\\n    '"
      ]
     },
     "execution_count": 10,
     "metadata": {},
     "output_type": "execute_result"
    }
   ],
   "source": [
    "\"\"\"\n",
    "    Shortest distance from stage 1, node 0 to \n",
    "destination, i.e., 7 is M(1, 0).\n",
    "// From 0, we can go to 1 or 2 or 3 to\n",
    "// reach 7.              \n",
    "M(1, 0) = min(1 + M(2, 1),\n",
    "              2 + M(2, 2),\n",
    "              5 + M(2, 3))\n",
    "    \"\"\""
   ]
  },
  {
   "cell_type": "markdown",
   "metadata": {},
   "source": [
    "This means that our problem of 0 —> 7 is now sub-divided into 3 sub-problems :-"
   ]
  },
  {
   "cell_type": "code",
   "execution_count": 9,
   "metadata": {},
   "outputs": [
    {
     "data": {
      "text/plain": [
       "\"\\n    So if we have total 'n' stages and target\\nas T, then the stopping condition  will be :-\\nM(n-1, i) = i ---> T + M(n, T) = i ---> T\\n    \""
      ]
     },
     "execution_count": 9,
     "metadata": {},
     "output_type": "execute_result"
    }
   ],
   "source": [
    "\"\"\"\n",
    "    So if we have total 'n' stages and target\n",
    "as T, then the stopping condition  will be :-\n",
    "M(n-1, i) = i ---> T + M(n, T) = i ---> T\n",
    "    \"\"\""
   ]
  },
  {
   "cell_type": "markdown",
   "metadata": {},
   "source": [
    "#### Recursion Tree and Overlapping Sub-Problems:- \n",
    "So, the hierarchy of M(x, y) evaluations will look something like this :-"
   ]
  },
  {
   "cell_type": "code",
   "execution_count": 8,
   "metadata": {},
   "outputs": [
    {
     "data": {
      "text/plain": [
       "'    \\n    In M(i, j), i is stage number and\\nj is node number\\n                   M(1, 0)\\n           /          |         \\\\                             \\n          /           |          \\\\                            \\n       M(2, 1)      M(2, 2)        M(2, 3)\\n    /      \\\\        /     \\\\         /    M(3, 4)  M(3, 5)  M(3, 4)  M(3, 5) M(3, 6)  M(3, 6)\\n .         .       .       .          .        .\\n .         .       .       .          .        .\\n .         .       .       .          .        .\\n'"
      ]
     },
     "execution_count": 8,
     "metadata": {},
     "output_type": "execute_result"
    }
   ],
   "source": [
    "\"\"\"    \n",
    "    In M(i, j), i is stage number and\n",
    "j is node number\n",
    "                   M(1, 0)\n",
    "           /          |         \\                             \n",
    "          /           |          \\                            \n",
    "       M(2, 1)      M(2, 2)        M(2, 3)\n",
    "    /      \\        /     \\         /    \\\n",
    "M(3, 4)  M(3, 5)  M(3, 4)  M(3, 5) M(3, 6)  M(3, 6)\n",
    " .         .       .       .          .        .\n",
    " .         .       .       .          .        .\n",
    " .         .       .       .          .        .\n",
    "\"\"\""
   ]
  },
  {
   "cell_type": "markdown",
   "metadata": {},
   "source": [
    "So, here we have drawn a very small part of the Recursion Tree and we can already see Overlapping Sub-Problems. We can largely reduce the number of M(x, y) evaluations using Dynamic Programming."
   ]
  },
  {
   "cell_type": "markdown",
   "metadata": {},
   "source": [
    "#### Implementation details: \n",
    "\n",
    "The below implementation assumes that nodes are numbered from 0 to N-1 from first stage (source) to last stage (destination). We also assume that the input graph is multistage. \n",
    "\n",
    "We use top to bottom approach, and use dist[] array to store the value of overlapping sub-problem.\n",
    "\n",
    "dist[i] will store the value of minimum distance from node i to node n-1 (target node).\n",
    "\n",
    "Therefore, dist[0] will store minimum distance between from source node to target node."
   ]
  },
  {
   "cell_type": "code",
   "execution_count": 6,
   "metadata": {},
   "outputs": [
    {
     "name": "stdout",
     "output_type": "stream",
     "text": [
      "9\n"
     ]
    }
   ],
   "source": [
    "def shortestDist(graph):\n",
    "    global INF\n",
    "    dist = [0] * N \n",
    "    dist[N - 1] = 0\n",
    "    for i in range(N - 2, -1, -1):\n",
    "        dist[i] = INF \n",
    "        for j in range(N):\n",
    "            if graph[i][j] == INF:\n",
    "                continue\n",
    "\n",
    "            dist[i] = min(dist[i],graph[i][j] + dist[j])\n",
    "    return dist[0]\n",
    "\n",
    "N = 8\n",
    "INF = 999999999999\n",
    "graph = [[INF, 1, 2, 5, INF, INF, INF, INF], \n",
    "         [INF, INF, INF, INF, 4, 11, INF, INF], \n",
    "         [INF, INF, INF, INF, 9, 5, 16, INF], \n",
    "         [INF, INF, INF, INF, INF, INF, 2, INF], \n",
    "         [INF, INF, INF, INF, INF, INF, INF, 18],\n",
    "         [INF, INF, INF, INF, INF, INF, INF, 13], \n",
    "         [INF, INF, INF, INF, INF, INF, INF, 2]] \n",
    "\n",
    "print(shortestDist(graph))"
   ]
  },
  {
   "cell_type": "markdown",
   "metadata": {},
   "source": [
    "#### Time Complexity : \n",
    "\n",
    "The time complexity of the given code is O(N^2), where N is the number of nodes in the graph. This is because the code involves two nested loops that iterate over all pairs of nodes in the graph, and each iteration performs a constant amount of work (i.e., comparing and updating distances). Since the graph is represented using an adjacency matrix, accessing an element takes constant time. Therefore, the overall time complexity of the algorithm is O(N^2).\n",
    "\n",
    "#### Space Complexity : \n",
    "\n",
    "The space complexity of the given program is O(N), where N is the number of nodes in the graph. This is because the program uses an array of size N to store the shortest distance from each node to the destination node N-1."
   ]
  },
  {
   "cell_type": "markdown",
   "metadata": {},
   "source": [
    "#### Algorithm:\n",
    "\n",
    "Input: A weighted multistage graph G with s and t as source and target vertices, respectively.\n",
    "\n",
    "Output: The shortest path from s to t in G.\n",
    "\n",
    "Set d(t) = 0 and d(v) = ? for all other vertices v in G.\n",
    "\n",
    "For i = k-1 to 1:\n",
    "a. For each vertex v in stage i:\n",
    "i. Set d(v) = min(w(v, u) + d(u)) for all vertices u in stage i+1.\n",
    "\n",
    "Return d(s) as the shortest path from s to t.\n",
    "\n",
    "In the above algorithm, we start by setting the shortest path distance to the target vertex t as 0 and all other vertices as infinity. \n",
    "\n",
    "We then work backwards from the target vertex t to the source vertex s.\n",
    "\n",
    "Starting from the second-to-last stage (k-1), we loop over all the vertices in that stage and \n",
    "update their shortest path distance based on the\n",
    "shortest path distances of the vertices in the next stage (i+1). We update the shortest path distance of a vertex v in stage i as the minimum of the sum of its \n",
    "weight w(v,u) and the shortest path distance d(u) of all vertices u in stage i+1 that are reachable from v.\n",
    "\n",
    "After we have processed all stages and all vertices, the final shortest path distance d(s) will contain the shortest path from s to t."
   ]
  },
  {
   "cell_type": "code",
   "execution_count": 5,
   "metadata": {},
   "outputs": [
    {
     "name": "stdout",
     "output_type": "stream",
     "text": [
      "Shortest path distance from vertex 0 to vertex 12: inf\n"
     ]
    }
   ],
   "source": [
    "from math import inf\n",
    "\n",
    "def multistage_shortest_path(graph, source, target, k):\n",
    "    d = [inf] * (len(graph))\n",
    "    d[target] = 0\n",
    "\n",
    "    for i in range(k-1, 0, -1):\n",
    "        for v in range(len(graph)):\n",
    "            if graph[v][0] != i:\n",
    "                continue\n",
    "            \n",
    "            for u in graph[v][1]:\n",
    "                d[v] = min(d[v], graph[v][1][u] + d[u])\n",
    "\n",
    "    return d[source]\n",
    "\n",
    "graph = [\n",
    "    (0, {}),\n",
    "    (1, {3: 2, 4: 9}),\n",
    "    (1, {3: 6, 4: 3}),\n",
    "    (2, {4: 1}),\n",
    "    (2, {5: 4}),\n",
    "    (3, {5: 7}),\n",
    "    (3, {6: 2}),\n",
    "    (4, {5: 1, 6: 5}),\n",
    "    (4, {6: 6}),\n",
    "    (5, {}),\n",
    "    (5, {}),\n",
    "    (6, {}),\n",
    "    (6, {}),\n",
    "]\n",
    "\n",
    "shortest_path_distance = multistage_shortest_path(graph, 0, 12, 7)\n",
    "print(\"Shortest path distance from vertex 0 to vertex 12:\", shortest_path_distance)\n",
    "\n",
    "#output: 2147483647"
   ]
  },
  {
   "cell_type": "markdown",
   "metadata": {},
   "source": [
    "In the above code, the graph variable represents a multistage graph with 13 vertices and 7 stages. Each tuple in the graph list contains a vertex’s stage number and a dictionary of its adjacent vertices and their weights.\n",
    "\n",
    "We call the multistage_shortest_path function with the graph variable, the source vertex index (0), the target vertex index (12), and the number of stages (7). The function returns the shortest path distance from the source to the target vertex, which is printed to the console."
   ]
  },
  {
   "cell_type": "markdown",
   "metadata": {},
   "source": [
    "#### Time and Auxiliary Space\n",
    "\n",
    "The time complexity of the multistage graph shortest path algorithm depends on the number of vertices and the number of stages in the graph. The outer loop iterates over the stages, which takes O(k) time. The inner loop iterates over the vertices in each stage, and for each vertex, it examines its adjacent vertices. Since the graph is represented as an adjacency list, this takes O(E) time, where E is the number of edges in the graph. Therefore, the total time complexity of the algorithm is O(kE).\n",
    "\n",
    "The space complexity of the algorithm is O(V), where V is the number of vertices in the graph. This is because we store the shortest path distances for each vertex in a list of size V. Additionally, we store the graph as an adjacency list, which also requires O(V) space."
   ]
  },
  {
   "cell_type": "markdown",
   "metadata": {},
   "source": []
  }
 ],
 "metadata": {
  "kernelspec": {
   "display_name": "Python 3",
   "language": "python",
   "name": "python3"
  },
  "language_info": {
   "codemirror_mode": {
    "name": "ipython",
    "version": 3
   },
   "file_extension": ".py",
   "mimetype": "text/x-python",
   "name": "python",
   "nbconvert_exporter": "python",
   "pygments_lexer": "ipython3",
   "version": "3.11.6"
  }
 },
 "nbformat": 4,
 "nbformat_minor": 2
}
