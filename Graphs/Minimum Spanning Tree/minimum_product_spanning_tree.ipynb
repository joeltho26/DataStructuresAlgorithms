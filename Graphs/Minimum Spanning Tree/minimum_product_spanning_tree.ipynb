{
 "cells": [
  {
   "cell_type": "markdown",
   "metadata": {},
   "source": [
    "#### Minimum Product Spanning Tree:\n",
    "\n",
    "Given a connected and undirected graph, a spanning tree of that graph is a subgraph that is a tree and connects all the vertices together. A single graph can have many different spanning trees. A minimum product spanning tree for a weighted, connected, and undirected graph is a spanning tree with a weight product less than or equal to the weight product of every other spanning tree. The weight product of a spanning tree is the product of weights corresponding to each edge of the spanning tree. All weights of the given graph will be positive for simplicity."
   ]
  },
  {
   "cell_type": "code",
   "execution_count": 4,
   "metadata": {},
   "outputs": [
    {
     "data": {
      "image/png": "[encoded data removed]",
      "text/plain": [
       "<IPython.core.display.Image object>"
      ]
     },
     "execution_count": 4,
     "metadata": {},
     "output_type": "execute_result"
    }
   ],
   "source": [
    "from IPython import display\n",
    "display.Image(\"/Users/joeljoseph26/Documents/Education/DSA/Graphs/Minimum Spanning Tree/img/mps1.png\")"
   ]
  },
  {
   "cell_type": "markdown",
   "metadata": {},
   "source": [
    "    Minimum Product that we can obtain is \n",
    "    180 for above graph by choosing edges \n",
    "    0-1, 1-2, 0-3 and 1-4\n",
    "\n",
    "This problem can be solved using standard minimum spanning tree algorithms like Kruskal (https://www.geeksforgeeks.org/kruskals-minimum-spanning-tree-algorithm-greedy-algo-2/)and prim’s algorithm, but we need to modify our graph to use these algorithms. Minimum spanning tree algorithms tries to minimize the total sum of weights, here we need to minimize the total product of weights. We can use the property of logarithms to overcome this problem. \n",
    "\n",
    "As we know, \n",
    "\n",
    "    log(w1* w2 * w3 * …. * wN) = \n",
    "        log(w1) + log(w2) + log(w3) ….. + log(wN)\n",
    "\n",
    "We can replace each weight of the graph by its log value, then we apply any minimum spanning tree algorithm which will try to minimize the sum of log(wi) which in turn minimizes the weight product. \n",
    "\n",
    "For example graph, the steps are shown below diagram, "
   ]
  },
  {
   "cell_type": "code",
   "execution_count": 2,
   "metadata": {},
   "outputs": [
    {
     "data": {
      "image/png": "[encoded data removed]",
      "text/plain": [
       "<IPython.core.display.Image object>"
      ]
     },
     "execution_count": 2,
     "metadata": {},
     "output_type": "execute_result"
    }
   ],
   "source": [
    "from IPython import display\n",
    "display.Image(\"/Users/joeljoseph26/Documents/Education/DSA/Graphs/Minimum Spanning Tree/img/mps2.png\")"
   ]
  },
  {
   "cell_type": "markdown",
   "metadata": {},
   "source": [
    "In the below code first, we have constructed the log graph from the given input graph, then that graph is given as input to prim’s MST algorithm, which will minimize the total sum of weights of the tree. Since weights of the modified graph are logarithms of the actual input graph, we actually minimize the product of weights of the spanning tree."
   ]
  },
  {
   "cell_type": "code",
   "execution_count": 1,
   "metadata": {},
   "outputs": [
    {
     "name": "stdout",
     "output_type": "stream",
     "text": [
      "Edge Weight\n",
      "0 - 1 2 \n",
      "1 - 2 3 \n",
      "0 - 3 6 \n",
      "1 - 4 5 \n",
      "Minimum Obtainable product is 180\n"
     ]
    }
   ],
   "source": [
    "import math\n",
    "\n",
    "V = 5\n",
    "def minKey(key, mstSet):\n",
    "\tmin = 10000000\n",
    "\tmin_index = 0\n",
    "\tfor v in range(V):\n",
    "\t\tif (mstSet[v] == False and\n",
    "\t\t\tkey[v] < min): \n",
    "\t\t\tmin = key[v]\n",
    "\t\t\tmin_index = v\n",
    "\treturn min_index\n",
    "\n",
    "def printMST(parent, n, graph):\n",
    "\tprint(\"Edge Weight\")\n",
    "\tminProduct = 1\n",
    "\tfor i in range(1, V):\n",
    "\t\tprint(\"{} - {} {} \".format(parent[i], i,graph[i][parent[i]]))\n",
    "\t\tminProduct *= graph[i][parent[i]] \n",
    "\tprint(\"Minimum Obtainable product is {}\".format(\n",
    "\t\tminProduct)) \n",
    " \n",
    "def primMST(inputGraph, logGraph):\n",
    "\tparent = [0 for i in range(V)]\n",
    "\tkey = [10000000 for i in range(V)]\n",
    "\tmstSet = [False for i in range(V)]\n",
    "\tkey[0] = 0\n",
    "\tparent[0] = -1\n",
    "\tfor count in range(0, V - 1):\n",
    "\t\tu = minKey(key, mstSet)\n",
    "\t\tmstSet[u] = True\n",
    "\t\tfor v in range(V):\n",
    "\t\t\tif (logGraph[u][v] > 0 and\n",
    "\t\t\t\tmstSet[v] == False and\n",
    "\t\t\t\tlogGraph[u][v] < key[v]):\n",
    "\t\t\t\tparent[v] = u\n",
    "\t\t\t\tkey[v] = logGraph[u][v] \n",
    "\tprintMST(parent, V, inputGraph)\n",
    "\n",
    "def minimumProductMST(graph):\n",
    "\tlogGraph = [[0 for j in range(V)] for i in range(V)]\n",
    "\n",
    "\tfor i in range(V):\n",
    "\t\tfor j in range(V):\n",
    "\t\t\tif (graph[i][j] > 0):\n",
    "\t\t\t\tlogGraph[i][j] = math.log(graph[i][j])\n",
    "\t\t\telse:\n",
    "\t\t\t\tlogGraph[i][j] = 0 \n",
    "\tprimMST(graph, logGraph)\n",
    "\n",
    "if __name__=='__main__':\n",
    "\t\n",
    "\t''' Let us create the following graph \n",
    "\t\t2 3 \n",
    "\t(0)--(1)--(2) \n",
    "\t\t| / \\ | \n",
    "\t6| 8/ \\5 |7 \n",
    "\t\t| /\t \\ | \n",
    "\t(3)-------(4) \n",
    "\t\t\t9\t\t '''\n",
    "\tgraph = [ [ 0, 2, 0, 6, 0 ], \n",
    "\t\t\t[ 2, 0, 3, 8, 5 ], \n",
    "\t\t\t[ 0, 3, 0, 0, 7 ], \n",
    "\t\t\t[ 6, 8, 0, 0, 9 ], \n",
    "\t\t\t[ 0, 5, 7, 9, 0 ], ]\n",
    "\n",
    "\tminimumProductMST(graph)"
   ]
  },
  {
   "cell_type": "markdown",
   "metadata": {},
   "source": [
    "The time complexity of this algorithm is O(V2) as there are two nested for loops which iterate over all the vertices. \n",
    "\n",
    "The space complexity of this algorithm is O(V2), as we are using a 2-D array of size V x V to store the input graph."
   ]
  },
  {
   "cell_type": "markdown",
   "metadata": {},
   "source": []
  }
 ],
 "metadata": {
  "kernelspec": {
   "display_name": "Python 3",
   "language": "python",
   "name": "python3"
  },
  "language_info": {
   "codemirror_mode": {
    "name": "ipython",
    "version": 3
   },
   "file_extension": ".py",
   "mimetype": "text/x-python",
   "name": "python",
   "nbconvert_exporter": "python",
   "pygments_lexer": "ipython3",
   "version": "3.11.6"
  }
 },
 "nbformat": 4,
 "nbformat_minor": 2
}
