{
 "cells": [
  {
   "cell_type": "code",
   "execution_count": 1,
   "metadata": {},
   "outputs": [
    {
     "name": "stdout",
     "output_type": "stream",
     "text": [
      "The number of maximum packets sent in the time slot is 3\n",
      "T 3 -> R 1\n",
      "T 1 -> R 2\n",
      "T 2 -> R 3\n"
     ]
    }
   ],
   "source": [
    "# A Depth First Search based recursive \n",
    "# function that returns true if a matching\n",
    "# for vertex u is possible \n",
    "def bpm(table, u, seen, matchR):\n",
    "\tglobal M, N\n",
    "\t\n",
    "\t# Try every receiver one by one \n",
    "\tfor v in range(N):\n",
    "\t\t\n",
    "\t\t# If sender u has packets to send to \n",
    "\t\t# receiver v and receiver v is not \n",
    "\t\t# already mapped to any other sender \n",
    "\t\t# just check if the number of packets \n",
    "\t\t# is greater than '0' because only one\n",
    "\t\t# packet can be sent in a time frame anyways \n",
    "\t\tif (table[u][v] > 0 and not seen[v]):\n",
    "\t\t\tseen[v] = True # Mark v as visited \n",
    "\n",
    "\t\t\t# If receiver 'v' is not assigned to any \n",
    "\t\t\t# sender OR previously assigned sender \n",
    "\t\t\t# for receiver v (which is matchR[v]) has \n",
    "\t\t\t# an alternate receiver available. Since \n",
    "\t\t\t# v is marked as visited in the above line, \n",
    "\t\t\t# matchR[v] in the following recursive call\n",
    "\t\t\t# will not get receiver 'v' again \n",
    "\t\t\tif (matchR[v] < 0 or bpm(table, matchR[v], \n",
    "\t\t\t\t\t\t\t\t\tseen, matchR)):\n",
    "\t\t\t\tmatchR[v] = u \n",
    "\t\t\t\treturn True\n",
    "\treturn False\n",
    "\n",
    "# Returns maximum number of packets \n",
    "# that can be sent parallelly in 1 \n",
    "# time slot from sender to receiver \n",
    "def maxBPM(table):\n",
    "\tglobal M, N\n",
    "\t\n",
    "\t# An array to keep track of the receivers \n",
    "\t# assigned to the senders. The value of \n",
    "\t# matchR[i] is the sender ID assigned to \n",
    "\t# receiver i. The value -1 indicates nobody \n",
    "\t# is assigned.\n",
    "\n",
    "\t# Initially all receivers are not mapped\n",
    "\t# to any senders \n",
    "\tmatchR = [-1] * N\n",
    "\n",
    "\tresult = 0 # Count of receivers assigned to senders\n",
    "\tfor u in range(M):\n",
    "\t\t\n",
    "\t\t# Mark all receivers as not seen \n",
    "\t\t# for next sender \n",
    "\t\tseen = [0] * N\n",
    "\n",
    "\t\t# Find if the sender 'u' can be assigned\n",
    "\t\t# to the receiver \n",
    "\t\tif (bpm(table, u, seen, matchR)): \n",
    "\t\t\tresult += 1\n",
    "\n",
    "\tprint(\"The number of maximum packets sent\", \n",
    "\t\t\"in the time slot is\", result)\n",
    "\n",
    "\tfor x in range(N):\n",
    "\t\tif (matchR[x] + 1 != 0): \n",
    "\t\t\tprint(\"T\", matchR[x] + 1, \"-> R\", x + 1) \n",
    "\treturn result\n",
    "\n",
    "# Driver Code\n",
    "M = 3\n",
    "N = 4\n",
    "\n",
    "table = [[0, 2, 0], [3, 0, 1], [2, 4, 0]]\n",
    "max_flow = maxBPM(table)"
   ]
  },
  {
   "cell_type": "code",
   "execution_count": null,
   "metadata": {},
   "outputs": [],
   "source": []
  }
 ],
 "metadata": {
  "kernelspec": {
   "display_name": "base",
   "language": "python",
   "name": "python3"
  },
  "language_info": {
   "codemirror_mode": {
    "name": "ipython",
    "version": 3
   },
   "file_extension": ".py",
   "mimetype": "text/x-python",
   "name": "python",
   "nbconvert_exporter": "python",
   "pygments_lexer": "ipython3",
   "version": "3.11.5"
  }
 },
 "nbformat": 4,
 "nbformat_minor": 2
}
