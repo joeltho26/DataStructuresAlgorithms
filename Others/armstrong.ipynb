{
 "cells": [
  {
   "cell_type": "code",
   "execution_count": 1,
   "metadata": {},
   "outputs": [
    {
     "name": "stdout",
     "output_type": "stream",
     "text": [
      "Armstrong number\n"
     ]
    }
   ],
   "source": [
    "def armstrong(number):\n",
    "    data = str(number)\n",
    "    val = 0\n",
    "    for i in range(len(data)):\n",
    "        val += int(data[i]) ** 3\n",
    "    \n",
    "    if val == number:\n",
    "        print(\"Armstrong number\")\n",
    "    else:\n",
    "        print(\"Not an armstrong number\")\n",
    "        \n",
    "\n",
    "if __name__ == \"__main__\":\n",
    "    number = 370\n",
    "    armstrong(number)"
   ]
  },
  {
   "cell_type": "code",
   "execution_count": null,
   "metadata": {},
   "outputs": [],
   "source": []
  }
 ],
 "metadata": {
  "kernelspec": {
   "display_name": "base",
   "language": "python",
   "name": "python3"
  },
  "language_info": {
   "codemirror_mode": {
    "name": "ipython",
    "version": 3
   },
   "file_extension": ".py",
   "mimetype": "text/x-python",
   "name": "python",
   "nbconvert_exporter": "python",
   "pygments_lexer": "ipython3",
   "version": "3.1.-1"
  }
 },
 "nbformat": 4,
 "nbformat_minor": 2
}
