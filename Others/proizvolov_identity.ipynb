{
 "cells": [
  {
   "cell_type": "markdown",
   "metadata": {},
   "source": [
    "Given two arrays A and B of size N. Array A is in increasing order and B is in decreasing order. Both arrays are the subsequences of the numbers from 1 to 2N. The task is to find the sum of the absolute difference of two arrays.\n",
    "\n",
    "Sum = |A1 – B1| + |A2 – B2| + |A3 – B3| + …. + |AN – BN| \n"
   ]
  },
  {
   "cell_type": "markdown",
   "metadata": {},
   "source": [
    "- Naive Approach: \n",
    "\n",
    "A naive approach is to run a loop and find the sum of the absolute differences.\n",
    "\n",
    "\n",
    "- Efficient Approach: \n",
    "\n",
    "Proizvolov’s identity is an identity concerning sums of the differences of positive integers. It states that if we take first 2N integers and partition them into two subsets of N numbers each. \n",
    "\n",
    "Arrange one subset in increasing order : A1 < A2 < A3 < …. < AN\n",
    "\n",
    "Arrange another subset in decreasing order : B1 > B2 > B3 > …. > BN\n",
    "\n",
    "Then the sum |A1 – B1| + |A2 – B2| + |A3 – B3| + …. + |AN – BN| is always equals to N2"
   ]
  },
  {
   "cell_type": "code",
   "execution_count": 1,
   "metadata": {},
   "outputs": [
    {
     "name": "stdout",
     "output_type": "stream",
     "text": [
      "25\n"
     ]
    }
   ],
   "source": [
    "def proizvolov(a, b, n): \n",
    "\treturn n * n\n",
    "\n",
    "a = [ 1, 5, 6, 8, 10 ] \n",
    "b = [ 9, 7, 4, 3, 2 ] \n",
    "n = len(a) \n",
    "\n",
    "print(proizvolov(a, b, n, )) \n"
   ]
  },
  {
   "cell_type": "code",
   "execution_count": null,
   "metadata": {},
   "outputs": [],
   "source": []
  }
 ],
 "metadata": {
  "kernelspec": {
   "display_name": "base",
   "language": "python",
   "name": "python3"
  },
  "language_info": {
   "codemirror_mode": {
    "name": "ipython",
    "version": 3
   },
   "file_extension": ".py",
   "mimetype": "text/x-python",
   "name": "python",
   "nbconvert_exporter": "python",
   "pygments_lexer": "ipython3",
   "version": "3.11.5"
  }
 },
 "nbformat": 4,
 "nbformat_minor": 2
}
