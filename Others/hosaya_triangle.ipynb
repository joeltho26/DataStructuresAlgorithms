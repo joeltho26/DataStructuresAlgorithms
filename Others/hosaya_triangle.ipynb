{
 "cells": [
  {
   "cell_type": "code",
   "execution_count": 1,
   "metadata": {},
   "outputs": [
    {
     "name": "stdout",
     "output_type": "stream",
     "text": [
      "1 \n",
      "1 1 \n",
      "2 1 2 \n",
      "3 2 2 3 \n",
      "5 3 4 3 5 \n"
     ]
    }
   ],
   "source": [
    "def Hosoya(n,m):\n",
    "\n",
    "\tif ((n == 0 and m == 0) or\n",
    "\t\t(n == 1 and m == 0) or\n",
    "\t\t(n == 1 and m == 1) or\n",
    "\t\t(n == 2 and m == 1)):\n",
    "\t\t\t\treturn 1\n",
    "\tif n > m:\n",
    "\t\treturn Hosoya(n - 1, m) + Hosoya(n - 2, m)\n",
    "\telif m == n:\n",
    "\t\treturn Hosoya(n - 1, m - 1) + Hosoya(n - 2, m - 2)\n",
    "\telse:\n",
    "\t\treturn 0\n",
    "\t\t\n",
    "def printHosoya( n ):\n",
    "\tfor i in range(n):\n",
    "\t\tfor j in range(i + 1):\n",
    "\t\t\tprint(Hosoya(i, j) , end = \" \")\n",
    "\t\tprint(\"\\n\", end = \"\")\n",
    "\t\t\n",
    "if __name__ == \"__main__\":\n",
    "    n = 5\n",
    "    printHosoya(n)"
   ]
  },
  {
   "cell_type": "code",
   "execution_count": null,
   "metadata": {},
   "outputs": [],
   "source": []
  }
 ],
 "metadata": {
  "kernelspec": {
   "display_name": "base",
   "language": "python",
   "name": "python3"
  },
  "language_info": {
   "codemirror_mode": {
    "name": "ipython",
    "version": 3
   },
   "file_extension": ".py",
   "mimetype": "text/x-python",
   "name": "python",
   "nbconvert_exporter": "python",
   "pygments_lexer": "ipython3",
   "version": "3.11.5"
  }
 },
 "nbformat": 4,
 "nbformat_minor": 2
}
