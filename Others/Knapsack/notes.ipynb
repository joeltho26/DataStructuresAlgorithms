{
 "cells": [
  {
   "cell_type": "markdown",
   "metadata": {},
   "source": [
    "##### 0/1 Knapsack Problem:\n",
    "\n",
    "- The 0/1 Knapsack Problem states that you have a backpack with a weight limit, and you are in a room full of treasures, each treasure with a value and a weight.\n",
    "\n",
    "- To solve the 0/1 Knapsack Problem you must figure out which treasures to pack to maximize the total value, and at the same time keeping below the backpack's weight limit.\n",
    "\n",
    "Rules:\n",
    "- Every item has a weight and value.\n",
    "- Your knapsack has a weight limit.\n",
    "- Choose which items you want to bring with you in the knapsack.\n",
    "- You can either take an item or not, you cannot take half of an item for example.\n",
    "\n",
    "Goal:\n",
    "- Maximize the total value of the items in the knapsack."
   ]
  },
  {
   "cell_type": "markdown",
   "metadata": {},
   "source": [
    "Ways of solving:\n",
    "- Brute Force Approach\n",
    "- Using Memoization\n",
    "- Using Tabulation"
   ]
  },
  {
   "cell_type": "markdown",
   "metadata": {},
   "source": [
    "The three approaches to solving the 0/1 Knapsack Problem run differently, and with different time complexities.\n",
    "\n",
    "- Brute Force Approach: This is the slowest of the three approaches. The possibilities are checked recursively, with the time complexity O(2n), where n is the number of potential items we can pack. This means the number of computations double for each extra item that needs to be considered.\n",
    "\n",
    "- Memoization Approach: Saves computations by remembering previous results, which results in a better time complexity O(n⋅C), where n is the number of items, and C is the knapsack capacity. This approach runs otherwise in the same recursive way as the brute force approach.\n",
    "\n",
    "- Tabulation Approach: Has the same time complexity as the memoization approach O(n⋅C), where n is the number of items, and \n",
    "C is the knapsack capacity, but memory usage and the way it runs is more predictable, which normally makes the tabulation approach the most favorable."
   ]
  },
  {
   "cell_type": "markdown",
   "metadata": {},
   "source": []
  }
 ],
 "metadata": {
  "language_info": {
   "name": "python"
  }
 },
 "nbformat": 4,
 "nbformat_minor": 2
}
