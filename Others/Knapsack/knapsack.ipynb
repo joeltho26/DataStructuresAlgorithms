{
 "cells": [
  {
   "cell_type": "markdown",
   "metadata": {},
   "source": [
    "##### Using  recursion & brute force:"
   ]
  },
  {
   "cell_type": "code",
   "execution_count": 2,
   "metadata": {},
   "outputs": [
    {
     "name": "stdout",
     "output_type": "stream",
     "text": [
      "knapsack_brute_force(10,4)\n",
      "knapsack_brute_force(7,3)\n",
      "knapsack_brute_force(2,2)\n",
      "knapsack_brute_force(1,1)\n",
      "knapsack_brute_force(1,0)\n",
      "knapsack_brute_force(2,1)\n",
      "knapsack_brute_force(0,0)\n",
      "knapsack_brute_force(2,0)\n",
      "knapsack_brute_force(7,2)\n",
      "knapsack_brute_force(6,1)\n",
      "knapsack_brute_force(4,0)\n",
      "knapsack_brute_force(6,0)\n",
      "knapsack_brute_force(7,1)\n",
      "knapsack_brute_force(5,0)\n",
      "knapsack_brute_force(7,0)\n",
      "knapsack_brute_force(10,3)\n",
      "knapsack_brute_force(5,2)\n",
      "knapsack_brute_force(4,1)\n",
      "knapsack_brute_force(2,0)\n",
      "knapsack_brute_force(4,0)\n",
      "knapsack_brute_force(5,1)\n",
      "knapsack_brute_force(3,0)\n",
      "knapsack_brute_force(5,0)\n",
      "knapsack_brute_force(10,2)\n",
      "knapsack_brute_force(9,1)\n",
      "knapsack_brute_force(7,0)\n",
      "knapsack_brute_force(9,0)\n",
      "knapsack_brute_force(10,1)\n",
      "knapsack_brute_force(8,0)\n",
      "knapsack_brute_force(10,0)\n",
      "\n",
      "Maximum value in Knapsack = 1200\n"
     ]
    }
   ],
   "source": [
    "def knapsack_brute_force(capacity, size):\n",
    "    print(f\"knapsack_brute_force({capacity},{size})\")\n",
    "    if size == 0 or capacity == 0:\n",
    "        return 0\n",
    "\n",
    "    elif weights[size-1] > capacity:\n",
    "        return knapsack_brute_force(capacity, size-1)\n",
    "\n",
    "    else:\n",
    "        include_item = values[size-1] + knapsack_brute_force(capacity-weights[size-1], size-1)\n",
    "        exclude_item = knapsack_brute_force(capacity, size-1)\n",
    "        return max(include_item, exclude_item)\n",
    "\n",
    "if __name__ == \"__main__\":\n",
    "    values = [300, 200, 400, 500]\n",
    "    weights = [2, 1, 5, 3]\n",
    "    capacity = 10\n",
    "    size = len(values)\n",
    "    print(\"\\nMaximum value in Knapsack =\", knapsack_brute_force(capacity, size))"
   ]
  },
  {
   "cell_type": "markdown",
   "metadata": {},
   "source": [
    "##### Using  memoization (top-bottom):"
   ]
  },
  {
   "cell_type": "code",
   "execution_count": 4,
   "metadata": {},
   "outputs": [
    {
     "name": "stdout",
     "output_type": "stream",
     "text": [
      "knapsack_memoization(4,10)\n",
      "knapsack_memoization(3,7)\n",
      "knapsack_memoization(2,2)\n",
      "knapsack_memoization(1,1)\n",
      "knapsack_memoization(0,1)\n",
      "knapsack_memoization(1,2)\n",
      "knapsack_memoization(0,0)\n",
      "knapsack_memoization(0,2)\n",
      "knapsack_memoization(2,7)\n",
      "knapsack_memoization(1,6)\n",
      "knapsack_memoization(0,4)\n",
      "knapsack_memoization(0,6)\n",
      "knapsack_memoization(1,7)\n",
      "knapsack_memoization(0,5)\n",
      "knapsack_memoization(0,7)\n",
      "knapsack_memoization(3,10)\n",
      "knapsack_memoization(2,5)\n",
      "knapsack_memoization(1,4)\n",
      "knapsack_memoization(0,2)\n",
      "Using memo for (0,2)\n",
      "knapsack_memoization(0,4)\n",
      "Using memo for (0,4)\n",
      "knapsack_memoization(1,5)\n",
      "knapsack_memoization(0,3)\n",
      "knapsack_memoization(0,5)\n",
      "Using memo for (0,5)\n",
      "knapsack_memoization(2,10)\n",
      "knapsack_memoization(1,9)\n",
      "knapsack_memoization(0,7)\n",
      "Using memo for (0,7)\n",
      "knapsack_memoization(0,9)\n",
      "knapsack_memoization(1,10)\n",
      "knapsack_memoization(0,8)\n",
      "knapsack_memoization(0,10)\n",
      "\n",
      "Maximum value in Knapsack = 1200\n"
     ]
    }
   ],
   "source": [
    "def knapsack_memoization(capacity, size):\n",
    "    print(f\"knapsack_memoization({size},{capacity})\")\n",
    "    if memo[size][capacity] is not None:\n",
    "        print(f\"Using memo for ({size},{capacity})\")\n",
    "        return memo[size][capacity]\n",
    "    \n",
    "    if size == 0 or capacity == 0:\n",
    "        result = 0\n",
    "    elif weights[size-1] > capacity:\n",
    "        result = knapsack_memoization(capacity, size-1)\n",
    "    else:\n",
    "        include_item = values[size-1] + knapsack_memoization(capacity-weights[size-1], size-1)\n",
    "        exclude_item = knapsack_memoization(capacity, size-1)\n",
    "        result = max(include_item, exclude_item)\n",
    "\n",
    "    memo[size][capacity] = result\n",
    "    return result\n",
    "\n",
    "if __name__ == \"__main__\":\n",
    "    values = [300, 200, 400, 500]\n",
    "    weights = [2, 1, 5, 3]\n",
    "    capacity = 10\n",
    "    size = len(values)\n",
    "    memo = [[None]*(capacity + 1) for _ in range(size + 1)]\n",
    "    print(\"\\nMaximum value in Knapsack =\", knapsack_memoization(capacity, size))"
   ]
  },
  {
   "cell_type": "markdown",
   "metadata": {},
   "source": [
    "##### Using tabulation (bottom-top):"
   ]
  },
  {
   "cell_type": "code",
   "execution_count": 1,
   "metadata": {},
   "outputs": [
    {
     "name": "stdout",
     "output_type": "stream",
     "text": [
      "[0, 0, 0, 0, 0, 0, 0, 0, 0, 0, 0]\n",
      "[0, 0, 300, 300, 300, 300, 300, 300, 300, 300, 300]\n",
      "[0, 200, 300, 500, 500, 500, 500, 500, 500, 500, 500]\n",
      "[0, 200, 300, 500, 500, 500, 600, 700, 900, 900, 900]\n",
      "[0, 200, 300, 500, 700, 800, 1000, 1000, 1000, 1100, 1200]\n",
      "\n",
      "Maximum value in Knapsack = 1200\n"
     ]
    }
   ],
   "source": [
    "def knapsack_tabulation():\n",
    "    n = len(values)\n",
    "    tab = [[0]*(capacity + 1) for y in range(n + 1)]\n",
    "\n",
    "    for i in range(1, n+1):\n",
    "        for w in range(1, capacity+1):\n",
    "            if weights[i-1] <= w:\n",
    "                include_item = values[i-1] + tab[i-1][w-weights[i-1]]\n",
    "                exclude_item = tab[i-1][w]\n",
    "                tab[i][w] = max(include_item, exclude_item)\n",
    "            else:\n",
    "                tab[i][w] = tab[i-1][w]\n",
    "    \n",
    "    for row in tab:\n",
    "    \t  print(row)\n",
    "    return tab[n][capacity]\n",
    "\n",
    "values = [300, 200, 400, 500]\n",
    "weights = [2, 1, 5, 3]\n",
    "capacity = 10\n",
    "print(\"\\nMaximum value in Knapsack =\", knapsack_tabulation())"
   ]
  },
  {
   "cell_type": "markdown",
   "metadata": {},
   "source": [
    "##### Using manual run through:"
   ]
  },
  {
   "cell_type": "code",
   "execution_count": 4,
   "metadata": {},
   "outputs": [
    {
     "name": "stdout",
     "output_type": "stream",
     "text": [
      "[0, 0, 0, 0, 0, 0, 0, 0, 0, 0, 0]\n",
      "[0, 0, 300, 300, 300, 300, 300, 300, 300, 300, 300]\n",
      "[0, 200, 300, 500, 500, 500, 500, 500, 500, 500, 500]\n",
      "[0, 200, 300, 500, 500, 500, 600, 700, 900, 900, 900]\n",
      "[0, 200, 300, 500, 700, 800, 1000, 1000, 1000, 1100, 1200]\n",
      "\n",
      "Items included: [3, 2, 0]\n",
      "\n",
      "Maximum value in Knapsack = 1200\n"
     ]
    }
   ],
   "source": [
    "def knapsack_tabulation():\n",
    "    n = len(values)\n",
    "    tab = [[0] * (capacity + 1) for _ in range(n + 1)]\n",
    "\n",
    "    for i in range(1, n + 1):\n",
    "        for w in range(1, capacity + 1):\n",
    "            if weights[i-1] <= w:\n",
    "                include_item = values[i-1] + tab[i-1][w - weights[i-1]]\n",
    "                exclude_item = tab[i-1][w]\n",
    "                tab[i][w] = max(include_item, exclude_item)\n",
    "            else:\n",
    "                tab[i][w] = tab[i-1][w]\n",
    "\n",
    "    for row in tab:\n",
    "        print(row)\n",
    "\n",
    "    items_included = []\n",
    "    w = capacity\n",
    "    for i in range(n, 0, -1):\n",
    "        if tab[i][w] != tab[i-1][w]:\n",
    "            items_included.append(i-1)\n",
    "            w -= weights[i-1]\n",
    "\n",
    "    print(\"\\nItems included:\", items_included)\n",
    "\n",
    "    return tab[n][capacity]\n",
    "\n",
    "values = [300, 200, 400, 500]\n",
    "weights = [2, 1, 5, 3]\n",
    "capacity = 10\n",
    "print(\"\\nMaximum value in Knapsack =\", knapsack_tabulation())"
   ]
  }
 ],
 "metadata": {
  "kernelspec": {
   "display_name": "base",
   "language": "python",
   "name": "python3"
  },
  "language_info": {
   "codemirror_mode": {
    "name": "ipython",
    "version": 3
   },
   "file_extension": ".py",
   "mimetype": "text/x-python",
   "name": "python",
   "nbconvert_exporter": "python",
   "pygments_lexer": "ipython3",
   "version": "3.11.5"
  }
 },
 "nbformat": 4,
 "nbformat_minor": 2
}
