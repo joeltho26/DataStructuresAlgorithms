{
 "cells": [
  {
   "cell_type": "markdown",
   "metadata": {},
   "source": [
    "##### Using Brute Force:"
   ]
  },
  {
   "cell_type": "code",
   "execution_count": 1,
   "metadata": {},
   "outputs": [
    {
     "name": "stdout",
     "output_type": "stream",
     "text": [
      "Shortest Path: [0, 1, 3, 4, 2, 5, 0]\n",
      "Minimum Distance: 24\n"
     ]
    }
   ],
   "source": [
    "from itertools import permutations\n",
    "def calculate_distance(route,distances):\n",
    "    total_distance = 0\n",
    "    for i in range(len(route)-1):\n",
    "        total_distance += distances[route[i]][route[i+1]]\n",
    "    total_distance += distances[route[-1]][route[0]]\n",
    "    return total_distance\n",
    "\n",
    "def traveling_salesman_brute_force(distances):\n",
    "    size = len(distances)\n",
    "    cities = list(range(1,size))\n",
    "    shortest_path = None\n",
    "    min_distance = float('inf')\n",
    "    for perm in permutations(cities):\n",
    "        current_route = [0] + list(perm)\n",
    "        current_distance = calculate_distance(current_route,distances)\n",
    "        if current_distance < min_distance:\n",
    "            shortest_path = current_route\n",
    "            min_distance = current_distance\n",
    "    shortest_path.append(0)\n",
    "    return shortest_path,min_distance\n",
    "\n",
    "if __name__ == \"__main__\":\n",
    "    distances = [\n",
    "        [0, 2, 2, 5, 9, 3],\n",
    "        [2, 0, 4, 6, 7, 8],\n",
    "        [2, 4, 0, 8, 6, 3],\n",
    "        [5, 6, 8, 0, 4, 9],\n",
    "        [9, 7, 6, 4, 0, 10],\n",
    "        [3, 8, 3, 9, 10, 0]\n",
    "        ]\n",
    "    shortest_path, min_distance = traveling_salesman_brute_force(distances)\n",
    "    print(\"Shortest Path:\", shortest_path)\n",
    "    print(\"Minimum Distance:\", min_distance)\n",
    "    "
   ]
  },
  {
   "cell_type": "markdown",
   "metadata": {},
   "source": [
    "##### Using Greedy Algorithm:"
   ]
  },
  {
   "cell_type": "code",
   "execution_count": 2,
   "metadata": {},
   "outputs": [
    {
     "name": "stdout",
     "output_type": "stream",
     "text": [
      "Shortest Path: [0, 1, 2, 5, 3, 4]\n",
      "Minimum Distance: 31\n"
     ]
    }
   ],
   "source": [
    "def traveling_salesman_greedy_algo(distances):\n",
    "    size = len(distances)\n",
    "    visited = [False] * size\n",
    "    route = [0]\n",
    "    visited[0] = True\n",
    "    total_distance = 0\n",
    "    for i in range(1,size):\n",
    "        last = route[-1]\n",
    "        nearest = None\n",
    "        min_distance = float('inf')\n",
    "        for i in range(size):\n",
    "            if not visited[i] and distances[last][i] < min_distance:\n",
    "                nearest = i\n",
    "                min_distance = distances[last][i]\n",
    "        route.append(nearest)\n",
    "        visited[nearest] = True\n",
    "        total_distance += min_distance\n",
    "    total_distance += distances[route[-1]][0]\n",
    "    return route, total_distance\n",
    "\n",
    "if __name__ == \"__main__\":\n",
    "    distances = [\n",
    "        [0, 2, 2, 5, 9, 3],\n",
    "        [2, 0, 4, 6, 7, 8],\n",
    "        [2, 4, 0, 8, 6, 3],\n",
    "        [5, 6, 8, 0, 4, 9],\n",
    "        [9, 7, 6, 4, 0, 10],\n",
    "        [3, 8, 3, 9, 10, 0]\n",
    "        ]\n",
    "    shortest_path, min_distance = traveling_salesman_greedy_algo(distances)\n",
    "    print(\"Shortest Path:\", shortest_path)\n",
    "    print(\"Minimum Distance:\", min_distance)"
   ]
  },
  {
   "cell_type": "code",
   "execution_count": null,
   "metadata": {},
   "outputs": [],
   "source": []
  }
 ],
 "metadata": {
  "kernelspec": {
   "display_name": "base",
   "language": "python",
   "name": "python3"
  },
  "language_info": {
   "codemirror_mode": {
    "name": "ipython",
    "version": 3
   },
   "file_extension": ".py",
   "mimetype": "text/x-python",
   "name": "python",
   "nbconvert_exporter": "python",
   "pygments_lexer": "ipython3",
   "version": "3.11.5"
  }
 },
 "nbformat": 4,
 "nbformat_minor": 2
}
