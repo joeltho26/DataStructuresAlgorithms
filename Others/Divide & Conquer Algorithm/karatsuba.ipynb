{
 "cells": [
  {
   "cell_type": "code",
   "execution_count": 1,
   "metadata": {},
   "outputs": [
    {
     "name": "stdout",
     "output_type": "stream",
     "text": [
      "120\n",
      "60\n",
      "30\n",
      "10\n",
      "0\n",
      "49\n",
      "9\n"
     ]
    }
   ],
   "source": [
    "def make_equal_length(str1, str2):\n",
    "\tlen1 = len(str1)\n",
    "\tlen2 = len(str2)\n",
    "\tif len1 < len2:\n",
    "\t\tfor i in range(len2 - len1):\n",
    "\t\t\tstr1 = '0' + str1\n",
    "\t\treturn len2\n",
    "\telif len1 > len2:\n",
    "\t\tfor i in range(len1 - len2):\n",
    "\t\t\tstr2 = '0' + str2\n",
    "\treturn len1\n",
    "\n",
    "def add_bit_strings(first, second):\n",
    "\tresult = \"\"\n",
    "\tlength = make_equal_length(first, second)\n",
    "\tcarry = 0 \n",
    "\tfor i in range(length-1, -1, -1):\n",
    "\t\tfirst_bit = int(first[i])\n",
    "\t\tsecond_bit = int(second[i])\n",
    "\t\tsum = (first_bit ^ second_bit ^ carry) + ord('0')\n",
    "\t\tresult = chr(sum) + result\n",
    "\t\tcarry = (first_bit & second_bit) | (second_bit & carry) | (first_bit & carry)\n",
    "\tif carry:\n",
    "\t\tresult = '1' + result\n",
    "\treturn result\n",
    "\n",
    "def multiply_single_bit(a, b):\n",
    "\treturn int(a[0]) * int(b[0])\n",
    "\n",
    "def multiply(X, Y):\n",
    "\tn = max(len(X), len(Y))\n",
    "\tX = X.zfill(n)\n",
    "\tY = Y.zfill(n)\n",
    "\n",
    "\tif n == 0: return 0\n",
    "\tif n == 1: return int(X[0])*int(Y[0])\n",
    "\n",
    "\tfh = n//2\n",
    "\tsh = n - fh\n",
    "\n",
    "\tXl = X[:fh]\n",
    "\tXr = X[fh:]\n",
    "\n",
    "\tYl = Y[:fh]\n",
    "\tYr = Y[fh:]\n",
    "\n",
    "\tP1 = multiply(Xl, Yl)\n",
    "\tP2 = multiply(Xr, Yr)\n",
    "\tP3 = multiply(str(int(Xl, 2) + int(Xr, 2)), str(int(Yl, 2) + int(Yr, 2)))\n",
    "\n",
    "\treturn P1*(1<<(2*sh)) + (P3 - P1 - P2)*(1<<sh) + P2\n",
    "\n",
    "if __name__ == '__main__':\n",
    "\tprint(multiply(\"1100\", \"1010\"))\n",
    "\tprint(multiply(\"110\", \"1010\"))\n",
    "\tprint(multiply(\"11\", \"1010\"))\n",
    "\tprint(multiply(\"1\", \"1010\"))\n",
    "\tprint(multiply(\"0\", \"1010\"))\n",
    "\tprint(multiply(\"111\", \"111\"))\n",
    "\tprint(multiply(\"11\", \"11\"))\n"
   ]
  }
 ],
 "metadata": {
  "kernelspec": {
   "display_name": "base",
   "language": "python",
   "name": "python3"
  },
  "language_info": {
   "codemirror_mode": {
    "name": "ipython",
    "version": 3
   },
   "file_extension": ".py",
   "mimetype": "text/x-python",
   "name": "python",
   "nbconvert_exporter": "python",
   "pygments_lexer": "ipython3",
   "version": "3.11.5"
  }
 },
 "nbformat": 4,
 "nbformat_minor": 2
}
