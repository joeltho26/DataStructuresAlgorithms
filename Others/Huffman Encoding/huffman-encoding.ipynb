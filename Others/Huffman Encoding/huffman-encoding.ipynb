{
 "cells": [
  {
   "cell_type": "code",
   "execution_count": 1,
   "metadata": {},
   "outputs": [
    {
     "name": "stdout",
     "output_type": "stream",
     "text": [
      "Initial word: lossless\n",
      "Huffman code: 10110001011100\n",
      "Conversion table: {'s': '0', 'l': '10', 'o': '110', 'e': '111'}\n",
      "Decoded word: lossless\n"
     ]
    }
   ],
   "source": [
    "class Node:\n",
    "    def __init__(self,char=None,freq=0):\n",
    "        self.char = char\n",
    "        self.freq = freq\n",
    "        self.left = None\n",
    "        self.right = None\n",
    "        \n",
    "nodes = []\n",
    "\n",
    "def calculate_frequencies(word):\n",
    "    frequencies = {}\n",
    "    for char in word:\n",
    "        if char not in frequencies:\n",
    "            freq = word.count(char)\n",
    "            frequencies[char] = freq\n",
    "            nodes.append(Node(char,freq))\n",
    "\n",
    "def build_huffman_tree():\n",
    "    while len(nodes) > 1:\n",
    "        nodes.sort(key=lambda x: x.freq)\n",
    "        left = nodes.pop(0)\n",
    "        right = nodes.pop(0)\n",
    "        merged = Node(freq=left.freq+right.freq)\n",
    "        merged.left = left\n",
    "        merged.right = right\n",
    "        nodes.append(merged)\n",
    "    return nodes[0]\n",
    "\n",
    "def generate_huffman_codes(node,current_code,codes):\n",
    "    if not node:\n",
    "        return\n",
    "    \n",
    "    if node.char:\n",
    "        codes[node.char] = current_code\n",
    "    \n",
    "    generate_huffman_codes(node.left,current_code+'0',codes)\n",
    "    generate_huffman_codes(node.right,current_code+'1',codes)\n",
    "\n",
    "def huffman_encoding(word):\n",
    "    global nodes\n",
    "    nodes = []\n",
    "    calculate_frequencies(word)\n",
    "    root = build_huffman_tree()\n",
    "    codes = {}\n",
    "    generate_huffman_codes(root,'',codes)\n",
    "    return codes\n",
    "\n",
    "def huffman_decoding(encoded_word,codes):\n",
    "    current_code = ''\n",
    "    decoded_char = []\n",
    "\n",
    "    code_to_char = {v:k for k,v in codes.items()}\n",
    "    for bit in encoded_word:\n",
    "        current_code += bit\n",
    "        if current_code in code_to_char:\n",
    "            decoded_char.append(code_to_char[current_code])\n",
    "            current_code = ''\n",
    "    return \"\".join(decoded_char)\n",
    "        \n",
    "        \n",
    "if __name__ == \"__main__\":\n",
    "    word = \"lossless\"\n",
    "    codes = huffman_encoding(word)\n",
    "    encoded_word = \"\".join(codes[char] for char in word)\n",
    "    decoded_word = huffman_decoding(encoded_word,codes)\n",
    "    \n",
    "    print(\"Initial word:\", word)\n",
    "    print(\"Huffman code:\", encoded_word)\n",
    "    print(\"Conversion table:\", codes)\n",
    "    print(\"Decoded word:\", decoded_word)\n",
    "    "
   ]
  },
  {
   "cell_type": "code",
   "execution_count": null,
   "metadata": {},
   "outputs": [],
   "source": []
  }
 ],
 "metadata": {
  "kernelspec": {
   "display_name": "base",
   "language": "python",
   "name": "python3"
  },
  "language_info": {
   "codemirror_mode": {
    "name": "ipython",
    "version": 3
   },
   "file_extension": ".py",
   "mimetype": "text/x-python",
   "name": "python",
   "nbconvert_exporter": "python",
   "pygments_lexer": "ipython3",
   "version": "3.11.5"
  }
 },
 "nbformat": 4,
 "nbformat_minor": 2
}
