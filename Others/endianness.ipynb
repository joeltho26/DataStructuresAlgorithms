{
 "cells": [
  {
   "cell_type": "markdown",
   "metadata": {},
   "source": [
    "What is Endianness? Big-Endian & Little-Endian:\n",
    "\n",
    "Computers operate using binary code, a language made up of 0s and 1s. This binary code forms the foundation of all computer operations, enabling everything from rendering videos to processing complex algorithms. A single bit is a 0 or a 1, and eight bits make up a byte. While some data, such as certain English characters, can be represented by a single byte, other data types require multiple bytes. The concept of endianness is crucial in understanding how these bytes are read and interpreted by computers."
   ]
  },
  {
   "cell_type": "markdown",
   "metadata": {},
   "source": [
    "What is Endianness?\n",
    "Endianness refers to the order in which bytes are arranged in memory. Different languages read their text in different orders. for example, English reads from left to right, while Arabic reads from right to left. Endianness works similarly for computers. If one computer reads bytes from left to right and another reads them from right to left, issues arise when these computers need to communicate.\n",
    "\n",
    "Endianness ensures that bytes in computer memory are read in a specific order. Each computer system is internally consistent with its own data, but the advent of the internet has led to more data sharing than ever before, and not all systems read data in the same order.\n",
    "\n",
    "Endianness comes in two primary forms: Big-endian (BE) and Little-endian (LE).\n",
    "\n",
    "- Big-endian (BE): Stores the most significant byte (the “big end”) first. This means that the first byte (at the lowest memory address) is the largest, which makes the most sense to people who read left to right.\n",
    "- Little-endian (LE): Stores the least significant byte (the “little end”) first. This means that the first byte (at the lowest memory address) is the smallest, which makes the most sense to people who read right to left."
   ]
  },
  {
   "cell_type": "markdown",
   "metadata": {},
   "source": [
    "What is Big-endian?\n",
    "\n",
    "In a big-endian system, the most significant byte (MSB) is stored at the lowest memory address. This means the “big end” (the most significant part of the data) comes first. For instance, a 32-bit integer 0x12345678 would be stored in memory as follows in a big-endian system:"
   ]
  },
  {
   "cell_type": "code",
   "execution_count": 1,
   "metadata": {},
   "outputs": [
    {
     "data": {
      "text/plain": [
       "'\\nAddress:   00   01   02   03\\nData:      12   34   56   78\\n'"
      ]
     },
     "execution_count": 1,
     "metadata": {},
     "output_type": "execute_result"
    }
   ],
   "source": [
    "\"\"\"\n",
    "Address:   00   01   02   03\n",
    "Data:      12   34   56   78\n",
    "\"\"\""
   ]
  },
  {
   "cell_type": "markdown",
   "metadata": {},
   "source": [
    "Here, 0x12 is the most significant byte, placed at the lowest address (00), followed by 0x34, 0x56, and 0x78 at the highest address (03)."
   ]
  },
  {
   "cell_type": "markdown",
   "metadata": {},
   "source": [
    "What is Little-endian?\n",
    "\n",
    "A little-endian system stores the least significant byte (LSB) at the lowest memory address. The “little end” (the least significant part of the data) comes first. For the same 32-bit integer 0x12345678, a little-endian system would store it as:"
   ]
  },
  {
   "cell_type": "code",
   "execution_count": 2,
   "metadata": {},
   "outputs": [
    {
     "data": {
      "text/plain": [
       "'\\nAddress:   00   01   02   03\\nData:      78   56   34   12\\n'"
      ]
     },
     "execution_count": 2,
     "metadata": {},
     "output_type": "execute_result"
    }
   ],
   "source": [
    "\"\"\"\n",
    "Address:   00   01   02   03\n",
    "Data:      78   56   34   12\n",
    "\"\"\""
   ]
  },
  {
   "cell_type": "markdown",
   "metadata": {},
   "source": [
    "Here, 0x78 is the least significant byte, placed at the lowest address (00), followed by 0x56, 0x34, and 0x12 at the highest address (03)."
   ]
  },
  {
   "cell_type": "markdown",
   "metadata": {},
   "source": [
    "Significance of Most Significant Byte (MSbyte) in Little and Big Endian:\n",
    "Understanding the concept of the Most Significant Byte (MSbyte) helps clarify endianness further. Let’s use a decimal number to illustrate.\n",
    "\n",
    "Consider the decimal number 2,984. Changing the digit 4 to 5 increases the number by 1, while changing the digit 2 to 3 increases the number by 1,000. This concept applies to bytes and bits as well.\n",
    "\n",
    "- Most Significant Byte (MSbyte): \n",
    "\n",
    "The byte that holds the highest position value.\n",
    "\n",
    "- Least Significant Byte (LSbyte): \n",
    "\n",
    "The byte that holds the lowest position value.\n",
    "In big-endian format, the MSbyte is stored first. In little-endian format, the MSbyte is stored last"
   ]
  },
  {
   "cell_type": "markdown",
   "metadata": {},
   "source": [
    "When Might Endianness Be an Issue?\n",
    "\n",
    "Endianness must be considered in various computing scenarios, particularly when systems with different byte orders need to communicate or share data.\n",
    "\n",
    "- Unicode Characters: Unicode, the character set used universally across devices, uses a special character byte sequence called the Byte Order Mark (BOM). The BOM informs the system that the incoming stream is Unicode, specifies which Unicode character encoding is used, and indicates the endian order of the incoming stream.\n",
    "\n",
    "- Programming Languages: Some programming languages require specifying the byte order sequence. For instance, in Swift, used for iOS development, you can define whether data is stored in big-endian or little-endian format.\n",
    "\n",
    "- Network Protocols: Different protocols have emerged historically, leading to the need for interaction. Big-endian is the dominant order in network protocols and is referred to as network order. Conversely, most PCs use little-endian format. Ensuring interoperability between these formats is critical in network communication.\n",
    "\n",
    "- Processor Design: Processors can be designed to be either little-endian, big-endian, or bi-endian (capable of handling both). Consumer choice and the resulting market trends have influenced what is considered “normal” in computer systems today."
   ]
  },
  {
   "cell_type": "markdown",
   "metadata": {},
   "source": [
    "Why is Endianness an Issue?\n",
    "\n",
    "Endianness becomes an issue primarily due to the interaction between different systems and protocols. Historical protocol development led to varying byte order conventions, necessitating data conversion for compatibility. In higher-level languages and abstracted environments, endianness is often managed behind the scenes, reducing the need for developer concern. However, understanding endianness remains crucial for low-level programming, network protocol design, and data interoperability."
   ]
  },
  {
   "cell_type": "markdown",
   "metadata": {},
   "source": []
  }
 ],
 "metadata": {
  "kernelspec": {
   "display_name": "base",
   "language": "python",
   "name": "python3"
  },
  "language_info": {
   "codemirror_mode": {
    "name": "ipython",
    "version": 3
   },
   "file_extension": ".py",
   "mimetype": "text/x-python",
   "name": "python",
   "nbconvert_exporter": "python",
   "pygments_lexer": "ipython3",
   "version": "3.11.5"
  }
 },
 "nbformat": 4,
 "nbformat_minor": 2
}
