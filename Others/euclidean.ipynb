{
 "cells": [
  {
   "cell_type": "code",
   "execution_count": 3,
   "metadata": {},
   "outputs": [
    {
     "name": "stdout",
     "output_type": "stream",
     "text": [
      "The Euclidean algorithm using division:\n",
      "\n",
      "120 = 4 * 25 + 20\n",
      "25 = 1 * 20 + 5\n",
      "20 = 4 * 5 + 0\n",
      "The GCD of 120 and 25 is: 5\n"
     ]
    }
   ],
   "source": [
    "def gcd_division(a, b):\n",
    "    while b != 0:\n",
    "        remainder = a % b\n",
    "        print(f\"{a} = {a//b} * {b} + {remainder}\")\n",
    "        a = b\n",
    "        b = remainder\n",
    "    return a\n",
    "\n",
    "a = 120\n",
    "b = 25\n",
    "print(\"The Euclidean algorithm using division:\\n\")\n",
    "print(f\"The GCD of {a} and {b} is: {gcd_division(a, b)}\")"
   ]
  },
  {
   "cell_type": "code",
   "execution_count": null,
   "metadata": {},
   "outputs": [],
   "source": [
    "\n",
    "\n",
    "    "
   ]
  },
  {
   "cell_type": "code",
   "execution_count": null,
   "metadata": {},
   "outputs": [],
   "source": []
  }
 ],
 "metadata": {
  "kernelspec": {
   "display_name": "base",
   "language": "python",
   "name": "python3"
  },
  "language_info": {
   "codemirror_mode": {
    "name": "ipython",
    "version": 3
   },
   "file_extension": ".py",
   "mimetype": "text/x-python",
   "name": "python",
   "nbconvert_exporter": "python",
   "pygments_lexer": "ipython3",
   "version": "3.11.5"
  }
 },
 "nbformat": 4,
 "nbformat_minor": 2
}
