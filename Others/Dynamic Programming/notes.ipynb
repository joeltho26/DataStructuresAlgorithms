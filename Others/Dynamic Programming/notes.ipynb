{
 "cells": [
  {
   "cell_type": "markdown",
   "metadata": {},
   "source": [
    "##### Dynamic Programming:\n",
    "\n",
    "Dynamic Programming is a method for designing algorithms.\n",
    "\n",
    "An algorithm designed with Dynamic Programming divides the problem into subproblems, finds solutions to the subproblems, and puts them together to form a complete solution to the problem we want to solve.\n",
    "\n",
    "To design an algorithm for a problem using Dynamic Programming, the problem we want to solve must have these two properties:\n",
    "\n",
    "- Overlapping Subproblems: \n",
    "    - Means that the problem can be broken down into smaller subproblems, where the solutions to the subproblems are overlapping. Having subproblems that are overlapping means that the solution to one subproblem is part of the solution to another subproblem.\n",
    "\n",
    "-   Optimal Substructure: \n",
    "    - Means that the complete solution to a problem can be constructed from the solutions of its smaller subproblems. So not only must the problem have overlapping subproblems, the substructure must also be optimal so that there is a way to piece the solutions to the subproblems together to form the complete solution."
   ]
  },
  {
   "cell_type": "markdown",
   "metadata": {},
   "source": [
    "Techniques Used in Dynamic Programming\n",
    "- Memoization\n",
    "- Tabulation\n"
   ]
  },
  {
   "cell_type": "markdown",
   "metadata": {},
   "source": []
  }
 ],
 "metadata": {
  "language_info": {
   "name": "python"
  }
 },
 "nbformat": 4,
 "nbformat_minor": 2
}
