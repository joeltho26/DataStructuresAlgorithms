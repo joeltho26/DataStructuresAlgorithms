{
 "cells": [
  {
   "cell_type": "markdown",
   "metadata": {},
   "source": [
    "##### Greedy Algorithm:\n",
    "\n",
    "A greedy algorithm decides what to do in each step, only based on the current situation, without a thought of how the total problem looks like.\n",
    "\n",
    "In other words, a greedy algorithm makes the locally optimal choice in each step, hoping to find the global optimum solution in the end.\n",
    "\n",
    "Two properties must be true for a problem for a greedy algorithm to work:\n",
    "- Greedy Choice Property: \n",
    "    - Means that the problem is so that the solution (the global optimum) can be reached by making greedy choices in each step (locally optimal choices).\n",
    "- Optimal Substructure: \n",
    "    - Means that the optimal solution to a problem, is a collection of optimal solutions to sub-problems. So solving smaller parts of the problem locally (by making greedy choices) contributes to the overall solution."
   ]
  },
  {
   "cell_type": "markdown",
   "metadata": {},
   "source": [
    "Algorithms That Are Not Greedy:\n",
    "- Merge Sort\n",
    "- Quick Sort\n",
    "- Knapsack\n",
    "- BFS & DFS\n",
    "- Nth fibonacci using memoization\n",
    "- Travelling salesman\n"
   ]
  },
  {
   "cell_type": "markdown",
   "metadata": {},
   "source": []
  }
 ],
 "metadata": {
  "language_info": {
   "name": "python"
  }
 },
 "nbformat": 4,
 "nbformat_minor": 2
}
