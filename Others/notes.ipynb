{
 "cells": [
  {
   "cell_type": "code",
   "execution_count": 99,
   "metadata": {},
   "outputs": [
    {
     "name": "stdout",
     "output_type": "stream",
     "text": [
      "[-34, -1, 2, 12.3, 23.9, 24, 45, 66, 75, 90, 170, 802]\n"
     ]
    }
   ],
   "source": [
    "def merge_sort(arr):\n",
    "    if len(arr) <= 1:\n",
    "        return arr\n",
    "    \n",
    "    mid_index = len(arr) // 2\n",
    "    left = arr[:mid_index]\n",
    "    right = arr[mid_index:]\n",
    "    \n",
    "    sorted_left = merge_sort(left)\n",
    "    sorted_right = merge_sort(right)\n",
    "    \n",
    "    return merge(sorted_left,sorted_right)\n",
    "\n",
    "def merge(left,right):\n",
    "    i = j = 0\n",
    "    result = []\n",
    "    while i < len(left) and j < len(right):\n",
    "        if left[i] < right[j]:\n",
    "            result.append(left[i])\n",
    "            i += 1\n",
    "        else:\n",
    "            result.append(right[j])\n",
    "            j += 1\n",
    "            \n",
    "    result.extend(left[i:])\n",
    "    result.extend(right[j:])\n",
    "    return result\n",
    "    \n",
    "if __name__ == \"__main__\":\n",
    "    arr = [170, 45, 75, 90, 802, 24, 2, 66, -1, -34, 23.9, 12.3]\n",
    "    result = merge_sort(arr)\n",
    "    print(result)\n",
    "    "
   ]
  },
  {
   "cell_type": "code",
   "execution_count": null,
   "metadata": {},
   "outputs": [],
   "source": []
  }
 ],
 "metadata": {
  "kernelspec": {
   "display_name": "Python 3",
   "language": "python",
   "name": "python3"
  },
  "language_info": {
   "codemirror_mode": {
    "name": "ipython",
    "version": 3
   },
   "file_extension": ".py",
   "mimetype": "text/x-python",
   "name": "python",
   "nbconvert_exporter": "python",
   "pygments_lexer": "ipython3",
   "version": "3.11.5"
  }
 },
 "nbformat": 4,
 "nbformat_minor": 2
}
