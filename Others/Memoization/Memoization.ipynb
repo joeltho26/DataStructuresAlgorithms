{
 "cells": [
  {
   "cell_type": "markdown",
   "metadata": {},
   "source": [
    "##### Find The nth Fibonacci Number: (unnecessary recursion performed)"
   ]
  },
  {
   "cell_type": "code",
   "execution_count": 1,
   "metadata": {},
   "outputs": [
    {
     "name": "stdout",
     "output_type": "stream",
     "text": [
      "Computing F(6)\n",
      "Computing F(5)\n",
      "Computing F(4)\n",
      "Computing F(3)\n",
      "Computing F(2)\n",
      "Computing F(1)\n",
      "Computing F(0)\n",
      "Computing F(1)\n",
      "Computing F(2)\n",
      "Computing F(1)\n",
      "Computing F(0)\n",
      "Computing F(3)\n",
      "Computing F(2)\n",
      "Computing F(1)\n",
      "Computing F(0)\n",
      "Computing F(1)\n",
      "Computing F(4)\n",
      "Computing F(3)\n",
      "Computing F(2)\n",
      "Computing F(1)\n",
      "Computing F(0)\n",
      "Computing F(1)\n",
      "Computing F(2)\n",
      "Computing F(1)\n",
      "Computing F(0)\n",
      "F(6) =  8\n"
     ]
    }
   ],
   "source": [
    "def F(n):\n",
    "    print('Computing F('+str(n)+')')\n",
    "    if n <= 1:\n",
    "        return n\n",
    "    else:\n",
    "        return F(n - 1) + F(n - 2)\n",
    "\n",
    "print('F(6) = ',F(6))"
   ]
  },
  {
   "cell_type": "markdown",
   "metadata": {},
   "source": [
    "##### Using Memoization To Find The nth Fibonacci Number: (unnecessary recursion avoided)"
   ]
  },
  {
   "cell_type": "code",
   "execution_count": 2,
   "metadata": {},
   "outputs": [
    {
     "name": "stdout",
     "output_type": "stream",
     "text": [
      "Computing F(10)\n",
      "Computing F(9)\n",
      "Computing F(8)\n",
      "Computing F(7)\n",
      "Computing F(6)\n",
      "Computing F(5)\n",
      "Computing F(4)\n",
      "Computing F(3)\n",
      "Computing F(2)\n",
      "Computing F(1)\n",
      "Computing F(0)\n",
      "Computing F(1)\n",
      "Computing F(2)\n",
      "Computing F(3)\n",
      "Computing F(4)\n",
      "Computing F(5)\n",
      "Computing F(6)\n",
      "Computing F(7)\n",
      "Computing F(8)\n",
      "F(10) = 55\n",
      "[0, 1, 1, 2, 3, 5, 8, 13, 21, 34, 55]\n"
     ]
    }
   ],
   "source": [
    "def nth_fibonacci_memoization(n):\n",
    "    print('Computing F('+str(n)+')')\n",
    "    if memo[n]:\n",
    "        return memo[n]\n",
    "    if n <= 1:\n",
    "        results = n\n",
    "        memo[n] = results\n",
    "    else:\n",
    "        results = nth_fibonacci_memoization(n-1) + nth_fibonacci_memoization(n-2)\n",
    "        memo[n] = results\n",
    "    return results\n",
    "        \n",
    "if __name__ == \"__main__\":\n",
    "    n = 10\n",
    "    memo = [None] * (n+1)\n",
    "    result = nth_fibonacci_memoization(n)\n",
    "    print(f\"F({n}) = {result}\")\n",
    "    print(memo)"
   ]
  },
  {
   "cell_type": "code",
   "execution_count": 3,
   "metadata": {},
   "outputs": [
    {
     "name": "stdout",
     "output_type": "stream",
     "text": [
      "F(30) =  832040\n",
      "Number of computations: 2692537\n",
      "\n",
      "Using memoization:\n",
      "F(30) =  832040\n",
      "Number of computations with memoization: 31\n"
     ]
    }
   ],
   "source": [
    "def nth_fibonacci_recursion_only(n):\n",
    "    global recursion_computation_count\n",
    "    recursion_computation_count += 1\n",
    "    if n <= 1:\n",
    "        return n\n",
    "    else:\n",
    "        return nth_fibonacci_recursion_only(n-1) + nth_fibonacci_recursion_only(n-2)\n",
    "    \n",
    "def nth_fibonacci_recursion_memoization(n):\n",
    "    if memo[n]:\n",
    "        return memo[n]\n",
    "    else:\n",
    "        global memoization_computation_count\n",
    "        memoization_computation_count += 1\n",
    "        if n <= 1:\n",
    "            memo[n] = n\n",
    "            result = memo[n]\n",
    "        else:\n",
    "            memo[n] = nth_fibonacci_recursion_memoization(n-1) + nth_fibonacci_recursion_memoization(n-2)\n",
    "            result = memo[n]\n",
    "        return result\n",
    "\n",
    "if __name__ == \"__main__\":\n",
    "    n = 30\n",
    "    recursion_computation_count = 0\n",
    "    print(nth_fibonacci_recursion_only(n))\n",
    "    print(f\"Computation taken: {recursion_computation_count}\")\n",
    "    \n",
    "    memoization_computation_count = 0\n",
    "    memo = [None] * (n+1)\n",
    "    result = nth_fibonacci_recursion_memoization(n)\n",
    "    print(result)\n",
    "    print(f\"Computation taken: {memoization_computation_count}\")\n"
   ]
  },
  {
   "cell_type": "code",
   "execution_count": null,
   "metadata": {},
   "outputs": [],
   "source": []
  }
 ],
 "metadata": {
  "kernelspec": {
   "display_name": "base",
   "language": "python",
   "name": "python3"
  },
  "language_info": {
   "codemirror_mode": {
    "name": "ipython",
    "version": 3
   },
   "file_extension": ".py",
   "mimetype": "text/x-python",
   "name": "python",
   "nbconvert_exporter": "python",
   "pygments_lexer": "ipython3",
   "version": "3.11.5"
  }
 },
 "nbformat": 4,
 "nbformat_minor": 2
}
