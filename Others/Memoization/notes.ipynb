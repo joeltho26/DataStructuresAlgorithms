{
 "cells": [
  {
   "cell_type": "markdown",
   "metadata": {},
   "source": [
    "##### Memoization:\n",
    "- Memoization is a technique where results are stored to avoid doing the same computations many times.\n",
    "\n",
    "- When Memoization is used to improve recursive algorithms, it is called a \"top-down\" approach because of how it starts with the main problem and breaks it down into smaller subproblems.\n",
    "\n",
    "- Memoization is used in Dynamic Programming."
   ]
  }
 ],
 "metadata": {
  "kernelspec": {
   "display_name": "base",
   "language": "python",
   "name": "python3"
  },
  "language_info": {
   "codemirror_mode": {
    "name": "ipython",
    "version": 3
   },
   "file_extension": ".py",
   "mimetype": "text/x-python",
   "name": "python",
   "nbconvert_exporter": "python",
   "pygments_lexer": "ipython3",
   "version": "3.11.5"
  }
 },
 "nbformat": 4,
 "nbformat_minor": 2
}
