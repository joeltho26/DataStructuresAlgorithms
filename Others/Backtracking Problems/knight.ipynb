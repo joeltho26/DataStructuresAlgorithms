{
 "cells": [
  {
   "cell_type": "markdown",
   "metadata": {},
   "source": [
    "Problem Statement:\n",
    "\n",
    "Given a N*N board with the Knight placed on the first block of an empty board. Moving according to the rules of chess knight must visit each square exactly once. Print the order of each cell in which they are visited."
   ]
  },
  {
   "cell_type": "markdown",
   "metadata": {},
   "source": [
    "- Algorithm:\n",
    "\n",
    "    If all squares are visited:\n",
    "\n",
    "    - print the solution\n",
    "\n",
    "    Else\n",
    "    \n",
    "    - Add one of the next moves to solution vector and recursively \n",
    "    check if this move leads to a solution. (A Knight can make maximum \n",
    "    eight moves. We choose one of the 8 moves in this step).\n",
    "    - If the move chosen in the above step doesn't lead to a solution\n",
    "    then remove this move from the solution vector and try other \n",
    "    alternative moves.\n",
    "    - If none of the alternatives work then return false (Returning false \n",
    "    will remove the previously added item in recursion and if false is \n",
    "    returned by the initial call of recursion then \"no solution exists\" )"
   ]
  },
  {
   "cell_type": "code",
   "execution_count": 3,
   "metadata": {},
   "outputs": [
    {
     "data": {
      "image/png": "[encoded data removed]",
      "text/plain": [
       "<IPython.core.display.Image object>"
      ]
     },
     "execution_count": 3,
     "metadata": {},
     "output_type": "execute_result"
    }
   ],
   "source": [
    "from IPython import display\n",
    "display.Image(\"/Users/joeljoseph26/Documents/Education/Rough work/Others/Backtracking Algorithm/img/knight-tour.png\")"
   ]
  },
  {
   "cell_type": "code",
   "execution_count": 2,
   "metadata": {},
   "outputs": [
    {
     "name": "stdout",
     "output_type": "stream",
     "text": [
      "0 59 38 33 30 17 8 63 \n",
      "37 34 31 60 9 62 29 16 \n",
      "58 1 36 39 32 27 18 7 \n",
      "35 48 41 26 61 10 15 28 \n",
      "42 57 2 49 40 23 6 19 \n",
      "47 50 45 54 25 20 11 14 \n",
      "56 43 52 3 22 13 24 5 \n",
      "51 46 55 44 53 4 21 12 \n"
     ]
    }
   ],
   "source": [
    "n = 8\n",
    "def isSafe(x, y, board):\n",
    "    if(x >= 0 and y >= 0 and x < n and y < n and board[x][y] == -1):\n",
    "        return True\n",
    "    return False\n",
    "\n",
    "\n",
    "def printSolution(n, board):\n",
    "    for i in range(n):\n",
    "        for j in range(n):\n",
    "            print(board[i][j], end=' ')\n",
    "        print()\n",
    "\n",
    "\n",
    "def solveKT(n):\n",
    "    board = [[-1 for i in range(n)]for i in range(n)]\n",
    "    move_x = [2, 1, -1, -2, -2, -1, 1, 2]\n",
    "    move_y = [1, 2, 2, 1, -1, -2, -2, -1]\n",
    "    board[0][0] = 0\n",
    "    pos = 1\n",
    "    if(not solveKTUtil(n, board, 0, 0, move_x, move_y, pos)):\n",
    "        print(\"Solution does not exist\")\n",
    "    else:\n",
    "        printSolution(n, board)\n",
    "\n",
    "\n",
    "def solveKTUtil(n, board, curr_x, curr_y, move_x, move_y, pos):\n",
    "    if(pos == n**2):\n",
    "        return True\n",
    "    \n",
    "    for i in range(8):\n",
    "        new_x = curr_x + move_x[i]\n",
    "        new_y = curr_y + move_y[i]\n",
    "        if(isSafe(new_x, new_y, board)):\n",
    "            board[new_x][new_y] = pos\n",
    "            if(solveKTUtil(n, board, new_x, new_y, move_x, move_y, pos+1)):\n",
    "                return True\n",
    "            board[new_x][new_y] = -1\n",
    "    return False\n",
    "\n",
    "if __name__ == \"__main__\":\n",
    "    solveKT(n)\n"
   ]
  },
  {
   "cell_type": "markdown",
   "metadata": {},
   "source": []
  }
 ],
 "metadata": {
  "kernelspec": {
   "display_name": "base",
   "language": "python",
   "name": "python3"
  },
  "language_info": {
   "codemirror_mode": {
    "name": "ipython",
    "version": 3
   },
   "file_extension": ".py",
   "mimetype": "text/x-python",
   "name": "python",
   "nbconvert_exporter": "python",
   "pygments_lexer": "ipython3",
   "version": "3.11.5"
  }
 },
 "nbformat": 4,
 "nbformat_minor": 2
}
