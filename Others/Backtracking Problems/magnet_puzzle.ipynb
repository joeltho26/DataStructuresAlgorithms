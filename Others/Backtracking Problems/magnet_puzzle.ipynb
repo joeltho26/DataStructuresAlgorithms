{
 "cells": [
  {
   "cell_type": "markdown",
   "metadata": {},
   "source": [
    "Problem Statement:\n",
    "\n",
    "The puzzle game Magnets involves placing a set of domino-shaped magnets (or electrets or other polarized objects) in a subset of slots on a board so as to satisfy a set of constraints. For example, the puzzle on the left has the solution shown on the right:"
   ]
  },
  {
   "cell_type": "code",
   "execution_count": 2,
   "metadata": {},
   "outputs": [
    {
     "data": {
      "image/png": "[encoded data removed]",
      "text/plain": [
       "<IPython.core.display.Image object>"
      ]
     },
     "execution_count": 2,
     "metadata": {},
     "output_type": "execute_result"
    }
   ],
   "source": [
    "from IPython import display\n",
    "display.Image(\"/Users/joeljoseph26/Documents/Education/Rough work/Others/Backtracking Algorithm/img/magnet.png\")"
   ]
  },
  {
   "cell_type": "markdown",
   "metadata": {},
   "source": [
    "Each slot contains either a blank entry (indicated by ‘x’s), or a “magnet” with a positive and negative end. The numbers along the left and top sides show the numbers of ‘+’ squares in particular rows or columns. Those along the right and bottom show the number of ‘-’ signs in particular rows or columns. Rows and columns without a number at one or both ends are unconstrained as to the number of ‘+’ or ‘-’ signs, depending on which number is not present. In addition to fulfilling these numerical constraints, a puzzle solution must also satisfy the constraint that no two orthogonally touching squares may have the same sign (diagonally joined squares are not constrained). You are given top[], bottom[], left[], right[] arrays indicates the count of + or – along the top(+), bottom(-), left(+) and right(-) edges respectively. Values of -1 indicate any number of + and – signs. Also given matrix rules[][] contain any one T, B, L or R characters. For a vertical slot in the board, T indicates its top end and B indicates the bottom end. For a horizontal slot in the board, L indicates left end and R indicates the right end."
   ]
  },
  {
   "cell_type": "code",
   "execution_count": 1,
   "metadata": {},
   "outputs": [
    {
     "name": "stdout",
     "output_type": "stream",
     "text": [
      "[['+', '-', '+', '-', 'x', '-'], ['-', '+', '-', '+', 'x', '+'], ['x', 'x', '+', '-', '+', '-'], ['x', 'x', '-', '+', 'x', '+'], ['-', '+', 'x', 'x', 'x', '-']]\n"
     ]
    }
   ],
   "source": [
    "M = 5\n",
    "N = 6\n",
    "top = [ 1, -1, -1, 2, 1, -1 ]\n",
    "bottom = [ 2, -1, -1, 2, -1, 3 ]\n",
    "left = [ 2, 3, -1, -1, -1 ]\n",
    "right = [ -1, -1, -1, 1, -1 ]\n",
    "rules = [[\"L\",\"R\",\"L\",\"R\",\"T\",\"T\" ],\n",
    "\t\t\t\t\t[ \"L\",\"R\",\"L\",\"R\",\"B\",\"B\" ],\n",
    "\t\t\t\t\t[ \"T\",\"T\",\"T\",\"T\",\"L\",\"R\" ],\n",
    "\t\t\t\t\t[ \"B\",\"B\",\"B\",\"B\",\"T\",\"T\" ],\n",
    "\t\t\t\t\t[ \"L\",\"R\",\"L\",\"R\",\"B\",\"B\" ]]\n",
    "\n",
    "def canPutPatternHorizontally(rules,i,j,pat):\n",
    "\tif j-1>=0 and rules[i][j-1] == pat[0]:\n",
    "\t\treturn False\n",
    "\telif i-1>=0 and rules[i-1][j] == pat[0]:\n",
    "\t\treturn False\n",
    "\telif i-1>=0 and rules[i-1][j+1] == pat[1]:\n",
    "\t\treturn False\n",
    "\telif j+2 < len(rules[0]) and rules[i][j+2] == pat[1]:\n",
    "\t\treturn False\n",
    "\treturn True\n",
    "\t\n",
    "\n",
    "def canPutPatternVertically(rules,i,j,pat):\n",
    "\tif j-1>=0 and rules[i][j-1] == pat[0]:\n",
    "\t\treturn False\n",
    "\telif i-1>=0 and rules[i-1][j] == pat[0]:\n",
    "\t\treturn False\n",
    "\telif j+1 < len(rules[0]) and rules[i][j+1] == pat[0]:\n",
    "\t\treturn False\n",
    "\treturn True\n",
    "\t\n",
    "def doTheStuff(rules,i,j):\n",
    "\tif rules[i][j] == \"L\" or rules[i][j] == \"R\":\n",
    "\t\tif canPutPatternHorizontally(rules,i,j,\"+-\"):\n",
    "\t\t\trules[i][j] = \"+\"\n",
    "\t\t\trules[i][j+1] = \"-\"\n",
    "\t\t\tsolveMagnets(rules,i,j)\n",
    "\t\t\t\n",
    "def checkConstraints(rules):\n",
    "\tpCountH = [0 for i in range(len(rules))]\n",
    "\tnCountH = [0 for i in range(len(rules))]\n",
    "\tfor row in range(len(rules)):\n",
    "\t\tfor col in range(len(rules[0])):\n",
    "\t\t\tch = rules[row][col]\n",
    "\t\t\tif ch == \"+\":\n",
    "\t\t\t\tpCountH[row] += 1\n",
    "\t\t\telif ch == \"-\":\n",
    "\t\t\t\tnCountH[row] += 1\n",
    "\tpCountV = [0 for i in range(len(rules[0]))]\n",
    "\tnCountV = [0 for i in range(len(rules[0]))]\n",
    "\tfor col in range(len(rules[0])):\n",
    "\t\tfor row in range(len(rules)):\n",
    "\t\t\tch = rules[row][col]\n",
    "\t\t\tif ch == \"+\":\n",
    "\t\t\t\tpCountV[col] += 1\n",
    "\t\t\telif ch == \"-\":\n",
    "\t\t\t\tnCountV[col] += 1\n",
    "\t\n",
    "\tfor row in range(len(rules)):\n",
    "\t\tif left[row] != -1:\n",
    "\t\t\tif pCountH[row] != left[row]:\n",
    "\t\t\t\treturn False\n",
    "\t\tif right[row] != -1:\n",
    "\t\t\tif nCountH[row] != right[row]:\n",
    "\t\t\t\treturn False\n",
    "\tfor col in range(len(rules[0])):\n",
    "\t\tif top[col] != -1:\n",
    "\t\t\tif pCountV[col] != top[col]:\n",
    "\t\t\t\treturn False\n",
    "\t\tif bottom[col] != -1:\n",
    "\t\t\tif nCountV[col] != bottom[col]:\n",
    "\t\t\t\treturn False\n",
    "\treturn True\n",
    "\t\n",
    "def solveMagnets(rules,i,j):\n",
    "\tif i == len(rules) and j == 0:\n",
    "\t\tif checkConstraints(rules):\n",
    "\t\t\tprint(rules)\n",
    "\telif j >= len(rules[0]):\n",
    "\t\tsolveMagnets(rules,i+1,0)\n",
    "\telse:\n",
    "\t\t\n",
    "\t\tif rules[i][j] == \"L\":\n",
    "\t\t\tif canPutPatternHorizontally(rules,i,j,\"+-\"):\n",
    "\t\t\t\trules[i][j] = \"+\"\n",
    "\t\t\t\trules[i][j+1] = \"-\"\n",
    "\t\t\t\tsolveMagnets(rules,i,j+2)\n",
    "\t\t\t\trules[i][j] = \"L\"\n",
    "\t\t\t\trules[i][j+1] = \"R\"\n",
    "\t\t\tif canPutPatternHorizontally(rules,i,j,\"-+\"):\n",
    "\t\t\t\trules[i][j] = \"-\"\n",
    "\t\t\t\trules[i][j+1] = \"+\"\n",
    "\t\t\t\tsolveMagnets(rules,i,j+2)\n",
    "\t\t\t\trules[i][j] = \"L\"\n",
    "\t\t\t\trules[i][j+1] = \"R\"\n",
    "\t\t\tif True or canPutPatternHorizontally(rules,i,j,\"xx\"):\n",
    "\t\t\t\trules[i][j] = \"x\"\n",
    "\t\t\t\trules[i][j+1] = \"x\"\n",
    "\t\t\t\tsolveMagnets(rules,i,j+2)\n",
    "\t\t\t\trules[i][j] = \"L\"\n",
    "\t\t\t\trules[i][j+1] = \"R\"\n",
    "\t\telif rules[i][j] == \"T\":\n",
    "\t\t\tif canPutPatternVertically(rules,i,j,\"+-\"):\n",
    "\t\t\t\trules[i][j] = \"+\"\n",
    "\t\t\t\trules[i+1][j] = \"-\"\n",
    "\t\t\t\tsolveMagnets(rules,i,j+1)\n",
    "\t\t\t\trules[i][j] = \"T\"\n",
    "\t\t\t\trules[i+1][j] = \"B\"\n",
    "\t\t\tif canPutPatternVertically(rules,i,j,\"-+\"):\n",
    "\t\t\t\trules[i][j] = \"-\"\n",
    "\t\t\t\trules[i+1][j] = \"+\"\n",
    "\t\t\t\tsolveMagnets(rules,i,j+1)\n",
    "\t\t\t\trules[i][j] = \"T\"\n",
    "\t\t\t\trules[i+1][j] = \"B\"\n",
    "\t\t\tif True or canPutPatternVertically(rules,i,j,\"xx\"):\n",
    "\t\t\t\trules[i][j] = \"x\"\n",
    "\t\t\t\trules[i+1][j] = \"x\"\n",
    "\t\t\t\tsolveMagnets(rules,i,j+1)\n",
    "\t\t\t\trules[i][j] = \"T\"\n",
    "\t\t\t\trules[i+1][j] = \"B\"\n",
    "\t\telse:\n",
    "\t\t\tsolveMagnets(rules,i,j+1)\n",
    "\n",
    "solveMagnets(rules,0,0)\n"
   ]
  }
 ],
 "metadata": {
  "kernelspec": {
   "display_name": "base",
   "language": "python",
   "name": "python3"
  },
  "language_info": {
   "codemirror_mode": {
    "name": "ipython",
    "version": 3
   },
   "file_extension": ".py",
   "mimetype": "text/x-python",
   "name": "python",
   "nbconvert_exporter": "python",
   "pygments_lexer": "ipython3",
   "version": "3.11.5"
  }
 },
 "nbformat": 4,
 "nbformat_minor": 2
}
