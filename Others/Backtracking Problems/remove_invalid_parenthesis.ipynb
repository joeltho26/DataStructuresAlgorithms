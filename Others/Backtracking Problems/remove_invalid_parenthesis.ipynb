{
 "cells": [
  {
   "cell_type": "markdown",
   "metadata": {},
   "source": [
    "An expression will be given which can contain open and close parentheses and optionally some characters, No other operator will be there in string. We need to remove minimum number of parentheses to make the input string valid. If more than one valid output are possible removing same number of parentheses then print all such output. \n",
    "\n",
    "Input  : str = “()())()” -\n",
    "\n",
    "Output : ()()() (())()\n",
    "\n",
    "There are two possible solutions\n",
    "\n",
    "\"()()()\" and \"(())()\"\n",
    "\n",
    "Input  : str = (v)())()\n",
    "\n",
    "Output : (v)()()  (v())()"
   ]
  },
  {
   "cell_type": "markdown",
   "metadata": {},
   "source": [
    "As we need to generate all possible output we will backtrack among all states by removing one opening or closing bracket and check if they are valid if invalid then add the removed bracket back and go for next state. We will use BFS for moving through states, use of BFS will assure removal of minimal number of brackets because we traverse into states level by level and each level corresponds to one extra bracket removal. Other than this BFS involve no recursion so overhead of passing parameters is also saved. \n",
    "\n",
    "Below code has a method isValidString to check validity of string, it counts open and closed parenthesis at each index ignoring non-parenthesis character. If at any instant count of close parenthesis becomes more than open then we return false else we keep update the count variable. "
   ]
  },
  {
   "cell_type": "code",
   "execution_count": 1,
   "metadata": {},
   "outputs": [
    {
     "name": "stdout",
     "output_type": "stream",
     "text": [
      "(())()\n",
      "()()()\n",
      "(v)\n",
      "()v\n"
     ]
    }
   ],
   "source": [
    "def isParenthesis(c):\n",
    "\treturn ((c == '(') or (c == ')')) \n",
    "\n",
    "def isValidString(str):\n",
    "\tcnt = 0\n",
    "\tfor i in range(len(str)):\n",
    "\t\tif (str[i] == '('):\n",
    "\t\t\tcnt += 1\n",
    "\t\telif (str[i] == ')'):\n",
    "\t\t\tcnt -= 1\n",
    "\t\tif (cnt < 0):\n",
    "\t\t\treturn False\n",
    "\treturn (cnt == 0)\n",
    "\t\n",
    "def removeInvalidParenthesis(str):\n",
    "\tif (len(str) == 0):\n",
    "\t\treturn\n",
    "\tvisit = set()\n",
    "\tq = []\n",
    "\ttemp = 0\n",
    "\tlevel = 0\n",
    "\tq.append(str)\n",
    "\tvisit.add(str)\n",
    "\twhile(len(q)):\n",
    "\t\tstr = q[0]\n",
    "\t\tq.pop(0)\n",
    "\t\tif (isValidString(str)):\n",
    "\t\t\tprint(str)\n",
    "\t\t\tlevel = True\n",
    "\t\tif (level):\n",
    "\t\t\tcontinue\n",
    "\t\tfor i in range(len(str)):\n",
    "\t\t\tif (not isParenthesis(str[i])):\n",
    "\t\t\t\tcontinue\n",
    "\t\t\ttemp = str[0:i] + str[i + 1:] \n",
    "\t\t\tif temp not in visit:\n",
    "\t\t\t\tq.append(temp)\n",
    "\t\t\t\tvisit.add(temp)\n",
    "\n",
    "expression = \"()())()\"\n",
    "removeInvalidParenthesis(expression)\n",
    "expression = \"()v)\"\n",
    "removeInvalidParenthesis(expression)\n"
   ]
  },
  {
   "cell_type": "markdown",
   "metadata": {},
   "source": [
    "Time complexity:\n",
    "\n",
    "The program uses a BFS (breadth-first search) approach to traverse all possible combinations of removing invalid parentheses from the input string. The worst-case time complexity of BFS is exponential, O(b^d), where b is the branching factor (the average number of child nodes per node) and d is the depth of the search tree. In the given program, the branching factor is at most 2 (either remove or keep a parenthesis at each position), and the depth can be up to the length of the input string. Therefore, the worst-case time complexity of the program is O(2^n), where n is the length of the input string.\n",
    "\n",
    "Space complexity:\n",
    "\n",
    "The program uses a queue to store the intermediate strings during the BFS traversal. The maximum size of the queue can be at most O(2^n), as there can be up to 2^n valid combinations of parentheses. Additionally, the program uses an unordered set to keep track of the visited strings and avoid duplicates. The size of the set can also be up to O(2^n), as each valid combination can potentially be a unique string. Therefore, the space complexity of the program is O(2^n)."
   ]
  },
  {
   "cell_type": "markdown",
   "metadata": {},
   "source": []
  }
 ],
 "metadata": {
  "kernelspec": {
   "display_name": "base",
   "language": "python",
   "name": "python3"
  },
  "language_info": {
   "codemirror_mode": {
    "name": "ipython",
    "version": 3
   },
   "file_extension": ".py",
   "mimetype": "text/x-python",
   "name": "python",
   "nbconvert_exporter": "python",
   "pygments_lexer": "ipython3",
   "version": "3.11.5"
  }
 },
 "nbformat": 4,
 "nbformat_minor": 2
}
