{
 "cells": [
  {
   "cell_type": "markdown",
   "metadata": {},
   "source": [
    "Problem Statement:\n",
    "\n",
    "Consider a rat placed at (0, 0) in a square matrix of order N * N. It has to reach the destination at (N – 1, N – 1). Find all possible paths that the rat can take to reach from source to destination. The directions in which the rat can move are ‘U'(up), ‘D'(down), ‘L’ (left), ‘R’ (right). Value 0 at a cell in the matrix represents that it is blocked and rat cannot move to it while value 1 at a cell in the matrix represents that rat can be travel through it. Return the list of paths in lexicographically increasing order.\n",
    "\n",
    "Note: In a path, no cell can be visited more than one time. If the source cell is 0, the rat cannot move to any other cell."
   ]
  },
  {
   "cell_type": "code",
   "execution_count": 1,
   "metadata": {},
   "outputs": [
    {
     "data": {
      "image/png": "[encoded data removed]",
      "text/plain": [
       "<IPython.core.display.Image object>"
      ]
     },
     "execution_count": 1,
     "metadata": {},
     "output_type": "execute_result"
    }
   ],
   "source": [
    "from IPython import display\n",
    "display.Image(\"/Users/joeljoseph26/Documents/Education/Rough work/Others/Backtracking Algorithm/img/ratinmaze.png\")"
   ]
  },
  {
   "cell_type": "code",
   "execution_count": 2,
   "metadata": {},
   "outputs": [
    {
     "data": {
      "image/png": "[encoded data removed]",
      "text/plain": [
       "<IPython.core.display.Image object>"
      ]
     },
     "execution_count": 2,
     "metadata": {},
     "output_type": "execute_result"
    }
   ],
   "source": [
    "from IPython import display\n",
    "display.Image(\"/Users/joeljoseph26/Documents/Education/Rough work/Others/Backtracking Algorithm/img/ratinmaze_filled_path.png\")"
   ]
  },
  {
   "cell_type": "markdown",
   "metadata": {},
   "source": [
    "- Step-by-step approach:\n",
    "\n",
    "1. Create isValid() function to check if a cell at position (row, col) is inside the maze and unblocked.\n",
    "2. Create findPath() to get all valid paths:\n",
    "    - Base case: If the current position is the bottom-right cell, add the current path to the result and return.\n",
    "    - Mark the current cell as blocked.\n",
    "    - Iterate through all possible directions.\n",
    "        - Calculate the next position based on the current direction.\n",
    "        - If the next position is valid (i.e, if isValid() return true), append the direction to the current path and recursively call the findPath() function for the next cell.\n",
    "        - Backtrack by removing the last direction from the current path.\n",
    "3. Mark the current cell as unblocked before returning."
   ]
  },
  {
   "cell_type": "code",
   "execution_count": 4,
   "metadata": {},
   "outputs": [
    {
     "name": "stdout",
     "output_type": "stream",
     "text": [
      "DDRDRR DRDDRR\n"
     ]
    }
   ],
   "source": [
    "direction = \"DLRU\"\n",
    "dr = [1, 0, 0, -1]\n",
    "dc = [0, -1, 1, 0]\n",
    "\n",
    "def is_valid(row, col, n, maze):\n",
    "    return 0 <= row < n and 0 <= col < n and maze[row][col] == 1\n",
    "\n",
    "def find_path(row, col, maze, n, ans, current_path):\n",
    "    if row == n - 1 and col == n - 1:\n",
    "        ans.append(current_path)\n",
    "        return\n",
    "    maze[row][col] = 0\n",
    "    for i in range(4):\n",
    "        next_row = row + dr[i]\n",
    "        next_col = col + dc[i]\n",
    "        if is_valid(next_row, next_col, n, maze):\n",
    "            current_path += direction[i]\n",
    "            find_path(next_row, next_col, maze, n, ans, current_path)\n",
    "            current_path = current_path[:-1]\n",
    "    maze[row][col] = 1\n",
    "\n",
    "maze = [\n",
    "    [1, 0, 0, 0],\n",
    "    [1, 1, 0, 1],\n",
    "    [1, 1, 0, 0],\n",
    "    [0, 1, 1, 1]\n",
    "]\n",
    "n = len(maze)\n",
    "result = []\n",
    "current_path = \"\"\n",
    "if maze[0][0] != 0 and maze[n - 1][n - 1] != 0:\n",
    "    find_path(0, 0, maze, n, result, current_path)\n",
    "\n",
    "if not result:\n",
    "    print(-1)\n",
    "else:\n",
    "    print(\" \".join(result))\n"
   ]
  }
 ],
 "metadata": {
  "kernelspec": {
   "display_name": "base",
   "language": "python",
   "name": "python3"
  },
  "language_info": {
   "codemirror_mode": {
    "name": "ipython",
    "version": 3
   },
   "file_extension": ".py",
   "mimetype": "text/x-python",
   "name": "python",
   "nbconvert_exporter": "python",
   "pygments_lexer": "ipython3",
   "version": "3.11.5"
  }
 },
 "nbformat": 4,
 "nbformat_minor": 2
}
