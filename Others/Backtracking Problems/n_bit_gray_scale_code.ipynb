{
 "cells": [
  {
   "cell_type": "markdown",
   "metadata": {},
   "source": [
    "Problem Statement:\n",
    "\n",
    "Given a number n, the task is to generate n bit Gray codes (generate bit patterns from 0 to 2^n-1 such that successive patterns differ by one bit) "
   ]
  },
  {
   "cell_type": "markdown",
   "metadata": {},
   "source": [
    "Method 1:\n",
    "\n",
    "n-bit Gray Codes can be generated from list of (n-1)-bit Gray codes using following steps.\n",
    "\n",
    "- Let the list of (n-1)-bit Gray codes be L1. Create another list L2 which is reverse of L1.\n",
    "- Modify the list L1 by prefixing a ‘0’ in all codes of L1.\n",
    "- Modify the list L2 by prefixing a ‘1’ in all codes of L2.\n",
    "- Concatenate L1 and L2. The concatenated list is required list of n-bit Gray codes"
   ]
  },
  {
   "cell_type": "code",
   "execution_count": 2,
   "metadata": {},
   "outputs": [
    {
     "name": "stdout",
     "output_type": "stream",
     "text": [
      "000\n",
      "001\n",
      "011\n",
      "010\n",
      "110\n",
      "111\n",
      "101\n",
      "100\n"
     ]
    }
   ],
   "source": [
    "import math as mt\n",
    "def generateGrayarr(n):\n",
    "\tif (n <= 0):\n",
    "\t\treturn\n",
    "\n",
    "\tarr = list()\n",
    "\n",
    "\tarr.append(\"0\")\n",
    "\tarr.append(\"1\")\n",
    "\ti = 2\n",
    "\tj = 0\n",
    "\twhile(True):\n",
    "\t\tif i >= 1 << n:\n",
    "\t\t\tbreak\n",
    "\t\n",
    "\t\tfor j in range(i - 1, -1, -1):\n",
    "\t\t\tarr.append(arr[j])\n",
    "\n",
    "\t\tfor j in range(i):\n",
    "\t\t\tarr[j] = \"0\" + arr[j]\n",
    "\n",
    "\t\tfor j in range(i, 2 * i):\n",
    "\t\t\tarr[j] = \"1\" + arr[j]\n",
    "   \n",
    "\t\ti = i << 1\n",
    "  \n",
    "\tfor i in range(len(arr)):\n",
    "\t\tprint(arr[i])\n",
    "\n",
    "generateGrayarr(3)\n"
   ]
  },
  {
   "cell_type": "markdown",
   "metadata": {},
   "source": [
    "Method 2 - Recursive Approach:\n",
    "\n",
    "The idea is to recursively append the bit 0 and 1 each time until the number of bits is not equal to N.\n",
    "\n",
    "Base Condition: \n",
    "\n",
    "The base case for this problem will be when the value of N = 0 or 1."
   ]
  },
  {
   "cell_type": "code",
   "execution_count": 1,
   "metadata": {},
   "outputs": [
    {
     "data": {
      "text/plain": [
       "'If (N == 0)\\nreturn {“0”}\\nif (N == 1)\\nreturn {“0”, “1”}\\n    '"
      ]
     },
     "execution_count": 1,
     "metadata": {},
     "output_type": "execute_result"
    }
   ],
   "source": [
    "\"\"\"If (N == 0)\n",
    "return {“0”}\n",
    "if (N == 1)\n",
    "return {“0”, “1”}\n",
    "    \"\"\""
   ]
  },
  {
   "cell_type": "markdown",
   "metadata": {},
   "source": [
    "Recursive Condition: \n",
    "\n",
    "Otherwise, for any value greater than 1, recursively generate the gray codes of the N – 1 bits and then for each of the gray code generated add the prefix 0 and 1."
   ]
  },
  {
   "cell_type": "code",
   "execution_count": 3,
   "metadata": {},
   "outputs": [
    {
     "name": "stdout",
     "output_type": "stream",
     "text": [
      "000\n",
      "001\n",
      "011\n",
      "010\n",
      "110\n",
      "111\n",
      "101\n",
      "100\n"
     ]
    }
   ],
   "source": [
    "def generateGray(n):\n",
    "\tif (n <= 0):\n",
    "\t\treturn [\"0\"]\n",
    "\tif (n == 1):\n",
    "\t\treturn [ \"0\", \"1\" ]\n",
    "\n",
    "\trecAns = generateGray(n - 1)\n",
    "\tmainAns = []\n",
    "\tfor i in range(len(recAns)):\n",
    "\t\ts = recAns[i]\n",
    "\t\tmainAns.append(\"0\" + s)\n",
    "\n",
    "\tfor i in range(len(recAns) - 1, -1, -1):\n",
    "\t\ts = recAns[i]\n",
    "\t\tmainAns.append(\"1\" + s)\n",
    "\treturn mainAns\n",
    "\n",
    "def generateGrayarr(n):\n",
    "\tarr = generateGray(n)\n",
    "\tprint(*arr, sep = \"\\n\")\n",
    "\n",
    "generateGrayarr(3)"
   ]
  },
  {
   "cell_type": "markdown",
   "metadata": {},
   "source": [
    "Method 3 - Using bitset\n",
    "\n",
    "We should first find binary no from 1 to n and then convert it into string and then print it using substring function of string."
   ]
  },
  {
   "cell_type": "code",
   "execution_count": 4,
   "metadata": {},
   "outputs": [
    {
     "name": "stdout",
     "output_type": "stream",
     "text": [
      "0000 0001 0011 0010 0110 0111 0101 0100 1100 1101 1111 1110 1010 1011 1001 1000 "
     ]
    }
   ],
   "source": [
    "def GreyCode(n):\n",
    "\n",
    "\tfor i in range(1 << n):\n",
    "\t\tval = (i ^ (i >> 1))\n",
    "\t\ts = bin(val)[2::]\n",
    "\t\tprint(s.zfill(n), end = \" \")\n",
    "\n",
    "n = 4\n",
    "GreyCode(n)\n"
   ]
  },
  {
   "cell_type": "markdown",
   "metadata": {},
   "source": [
    "This article provides a backtracking approach to the same problem. Idea is that for each bit out of n bit we have a choice either we can ignore it or we can invert the bit so this means our gray sequence goes upto 2 ^ n for n bits. So we make two recursive calls for either inverting the bit or leaving the bit as it is. "
   ]
  },
  {
   "cell_type": "code",
   "execution_count": 5,
   "metadata": {},
   "outputs": [
    {
     "name": "stdout",
     "output_type": "stream",
     "text": [
      "0\n",
      "1\n",
      "3\n",
      "2\n",
      "6\n",
      "7\n",
      "5\n",
      "4\n"
     ]
    }
   ],
   "source": [
    "\n",
    "def grayCodeUtil(res, n, num): \n",
    "\tif (n == 0):\n",
    "\t\tres.append(num[0])\n",
    "\t\treturn\n",
    "\t\t\n",
    "\tgrayCodeUtil(res, n - 1, num)\n",
    "\tnum[0] = num[0] ^ (1 << (n - 1)) \n",
    "\tgrayCodeUtil(res, n - 1, num) \n",
    "\n",
    "def grayCodes(n):\n",
    "\tres = []\n",
    "\tnum = [0]\n",
    "\tgrayCodeUtil(res, n, num) \n",
    "\treturn res \n",
    "\n",
    "n = 3\n",
    "code = grayCodes(n) \n",
    "for i in range(len(code)):\n",
    "\tprint(code[i])"
   ]
  }
 ],
 "metadata": {
  "kernelspec": {
   "display_name": "base",
   "language": "python",
   "name": "python3"
  },
  "language_info": {
   "codemirror_mode": {
    "name": "ipython",
    "version": 3
   },
   "file_extension": ".py",
   "mimetype": "text/x-python",
   "name": "python",
   "nbconvert_exporter": "python",
   "pygments_lexer": "ipython3",
   "version": "3.11.5"
  }
 },
 "nbformat": 4,
 "nbformat_minor": 2
}
