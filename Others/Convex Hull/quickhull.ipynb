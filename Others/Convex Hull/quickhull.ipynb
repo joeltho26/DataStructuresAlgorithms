{
 "cells": [
  {
   "cell_type": "markdown",
   "metadata": {},
   "source": [
    "1. Find the point with minimum x-coordinate lets say, min_x and similarly the point with maximum x-coordinate, max_x.\n",
    "2. Make a line joining these two points, say L. This line will divide the whole set into two parts. Take both the parts one by one and proceed further.\n",
    "3. For a part, find the point P with maximum distance from the line L. P forms a triangle with the points min_x, max_x. It is clear that the points residing inside this triangle can never be the part of convex hull.\n",
    "4. The above step divides the problem into two sub-problems (solved recursively). Now the line joining the points P and min_x and the line joining the points P and max_x are new lines and the points residing outside the triangle is the set of points. Repeat point no. 3 till there no point left with the line. Add the end points of this point to the convex hull."
   ]
  },
  {
   "cell_type": "code",
   "execution_count": null,
   "metadata": {},
   "outputs": [],
   "source": [
    "hull = set()\n",
    "def findSide(p1, p2, p):\n",
    "\tval = (p[1] - p1[1]) * (p2[0] - p1[0]) - (p2[1] - p1[1]) * (p[0] - p1[0])\n",
    "\tif val > 0:\n",
    "\t\treturn 1\n",
    "\tif val < 0:\n",
    "\t\treturn -1\n",
    "\treturn 0\n",
    "\n",
    "def lineDist(p1, p2, p):\n",
    "\treturn abs((p[1] - p1[1]) * (p2[0] - p1[0]) -\n",
    "\t\t\t(p2[1] - p1[1]) * (p[0] - p1[0]))\n",
    "\n",
    "def quickHull(a, n, p1, p2, side):\n",
    "\tind = -1\n",
    "\tmax_dist = 0\n",
    "\tfor i in range(n):\n",
    "\t\ttemp = lineDist(p1, p2, a[i])\n",
    "\t\t\n",
    "\t\tif (findSide(p1, p2, a[i]) == side) and (temp > max_dist):\n",
    "\t\t\tind = i\n",
    "\t\t\tmax_dist = temp\n",
    "\n",
    "\tif ind == -1:\n",
    "\t\thull.add(\"$\".join(map(str, p1)))\n",
    "\t\thull.add(\"$\".join(map(str, p2)))\n",
    "\t\treturn\n",
    "\n",
    "\tquickHull(a, n, a[ind], p1, -findSide(a[ind], p1, p2))\n",
    "\tquickHull(a, n, a[ind], p2, -findSide(a[ind], p2, p1))\n",
    "\n",
    "def printHull(a, n):\n",
    "\tif (n < 3):\n",
    "\t\tprint(\"Convex hull not possible\")\n",
    "\t\treturn\n",
    "\n",
    "\tmin_x = 0\n",
    "\tmax_x = 0\n",
    "\tfor i in range(1, n):\n",
    "\t\tif a[i][0] < a[min_x][0]:\n",
    "\t\t\tmin_x = i\n",
    "\t\tif a[i][0] > a[max_x][0]:\n",
    "\t\t\tmax_x = i\n",
    "   \n",
    "\tquickHull(a, n, a[min_x], a[max_x], 1)\n",
    "\tquickHull(a, n, a[min_x], a[max_x], -1)\n",
    "\n",
    "\tprint(\"The points in Convex Hull are:\")\n",
    "\t\n",
    "\tfor element in hull:\n",
    "\t\tx = element.split(\"$\")\n",
    "\t\tprint(\"(\", x[0], \",\", x[1], \") \", end = \" \")\n",
    "  \n",
    "a = [[0, 3], [1, 1], [2, 2], [4, 4],\n",
    "\t[0, 0], [1, 2], [3, 1], [3, 3]]\n",
    "n = len(a)\n",
    "printHull(a, n)"
   ]
  }
 ],
 "metadata": {
  "language_info": {
   "name": "python"
  }
 },
 "nbformat": 4,
 "nbformat_minor": 2
}
