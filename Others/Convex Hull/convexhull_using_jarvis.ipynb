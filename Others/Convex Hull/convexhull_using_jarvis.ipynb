{
 "cells": [
  {
   "cell_type": "code",
   "execution_count": 1,
   "metadata": {},
   "outputs": [
    {
     "name": "stdout",
     "output_type": "stream",
     "text": [
      "0 3\n",
      "0 0\n",
      "3 0\n",
      "3 3\n"
     ]
    }
   ],
   "source": [
    "class Point:\n",
    "\tdef __init__(self, x, y):\n",
    "\t\tself.x = x\n",
    "\t\tself.y = y\n",
    "\n",
    "def Left_index(points):\n",
    "\tminn = 0\n",
    "\tfor i in range(1,len(points)):\n",
    "\t\tif points[i].x < points[minn].x:\n",
    "\t\t\tminn = i\n",
    "\t\telif points[i].x == points[minn].x:\n",
    "\t\t\tif points[i].y > points[minn].y:\n",
    "\t\t\t\tminn = i\n",
    "\treturn minn\n",
    "\n",
    "def orientation(p, q, r):\n",
    "\tval = (q.y - p.y) * (r.x - q.x) - \\\n",
    "\t\t(q.x - p.x) * (r.y - q.y)\n",
    "\n",
    "\tif val == 0:\n",
    "\t\treturn 0\n",
    "\telif val > 0:\n",
    "\t\treturn 1\n",
    "\telse:\n",
    "\t\treturn 2\n",
    "\n",
    "def convexHull(points, n):\n",
    "\tif n < 3:\n",
    "\t\treturn\n",
    "\n",
    "\tl = Left_index(points)\n",
    "\thull = []\n",
    "\tp = l\n",
    "\tq = 0\n",
    "\twhile(True):\n",
    "\t\thull.append(p)\n",
    "\t\tq = (p + 1) % n\n",
    "\t\tfor i in range(n):\n",
    "\t\t\tif(orientation(points[p],points[i], points[q]) == 2):\n",
    "\t\t\t\tq = i\n",
    "\t\tp = q\n",
    "\t\tif(p == l):\n",
    "\t\t\tbreak\n",
    "\n",
    "\tfor each in hull:\n",
    "\t\tprint(points[each].x, points[each].y)\n",
    "\n",
    "points = []\n",
    "points.append(Point(0, 3))\n",
    "points.append(Point(2, 2))\n",
    "points.append(Point(1, 1))\n",
    "points.append(Point(2, 1))\n",
    "points.append(Point(3, 0))\n",
    "points.append(Point(0, 0))\n",
    "points.append(Point(3, 3))\n",
    "convexHull(points, len(points))"
   ]
  }
 ],
 "metadata": {
  "kernelspec": {
   "display_name": "base",
   "language": "python",
   "name": "python3"
  },
  "language_info": {
   "codemirror_mode": {
    "name": "ipython",
    "version": 3
   },
   "file_extension": ".py",
   "mimetype": "text/x-python",
   "name": "python",
   "nbconvert_exporter": "python",
   "pygments_lexer": "ipython3",
   "version": "3.11.5"
  }
 },
 "nbformat": 4,
 "nbformat_minor": 2
}
