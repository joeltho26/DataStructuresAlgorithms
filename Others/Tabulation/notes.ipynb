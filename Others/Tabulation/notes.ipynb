{
 "cells": [
  {
   "cell_type": "markdown",
   "metadata": {},
   "source": [
    "##### Tabulation: (Bottom Up Approach)"
   ]
  },
  {
   "cell_type": "markdown",
   "metadata": {},
   "source": [
    "- Tabulation is a technique used to solve problems.\n",
    "\n",
    "- Tabulation uses a table where the results to the most basic subproblems are stored first. The table then gets filled with more and more subproblem results until we find the result to the complete problem that we are looking for.\n",
    "\n",
    "- The tabulation technique is said to solve problems \"bottom-up\" because of how it solves the most basic subproblems first.\n",
    "\n",
    "- Tabulation is a technique used in Dynamic Programming"
   ]
  },
  {
   "cell_type": "markdown",
   "metadata": {},
   "source": [
    "Problems That Are Solved with Tabulation:\n",
    "- The 0/1 Knapsack Problem\n",
    "- The Shortest Path Problem (Bellman-Ford algorithm)\n",
    "- The Traveling Salesman Problem (Held-Karp algorithm)"
   ]
  },
  {
   "cell_type": "markdown",
   "metadata": {},
   "source": []
  }
 ],
 "metadata": {
  "language_info": {
   "name": "python"
  }
 },
 "nbformat": 4,
 "nbformat_minor": 2
}
