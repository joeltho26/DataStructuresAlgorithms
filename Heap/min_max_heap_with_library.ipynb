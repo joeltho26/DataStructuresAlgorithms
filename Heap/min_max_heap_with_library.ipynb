{
 "cells": [
  {
   "cell_type": "code",
   "execution_count": 4,
   "metadata": {},
   "outputs": [
    {
     "name": "stdout",
     "output_type": "stream",
     "text": [
      "2\n",
      "4\n",
      "1\n"
     ]
    }
   ],
   "source": [
    "from heapq import heappush, heappop, heapify \n",
    "\n",
    "class MinHeap: \n",
    "\tdef __init__(self): \n",
    "\t\tself.heap = [] \n",
    "\n",
    "\tdef parent(self, i): \n",
    "\t\treturn (i-1)//2\n",
    "\t\n",
    "\tdef insertKey(self, k): \n",
    "\t\theappush(self.heap, k)\t\t \n",
    "\n",
    "\tdef decreaseKey(self, i, new_val): \n",
    "\t\tself.heap[i] = new_val \n",
    "\t\twhile(i != 0 and self.heap[self.parent(i)] > self.heap[i]): \n",
    "\t\t\tself.heap[i] , self.heap[self.parent(i)] = (self.heap[self.parent(i)], self.heap[i]) \n",
    "\t\t\t\n",
    "\tdef extractMin(self): \n",
    "\t\treturn heappop(self.heap) \n",
    "\n",
    "\tdef deleteKey(self, i): \n",
    "\t\tself.decreaseKey(i, float(\"-inf\")) \n",
    "\t\tself.extractMin() \n",
    "\n",
    "\tdef getMin(self): \n",
    "\t\treturn self.heap[0] \n",
    "\n",
    "if __name__ == \"__main__\":\n",
    "\theap = MinHeap() \n",
    "\theap.insertKey(3) \n",
    "\theap.insertKey(2) \n",
    "\theap.deleteKey(1) \n",
    "\theap.insertKey(15) \n",
    "\theap.insertKey(5) \n",
    "\theap.insertKey(4) \n",
    "\theap.insertKey(45) \n",
    "\n",
    "\tprint(heap.extractMin()) \n",
    "\tprint(heap.getMin()) \n",
    "\theap.decreaseKey(2, 1) \n",
    "\tprint(heap.getMin())"
   ]
  },
  {
   "cell_type": "code",
   "execution_count": null,
   "metadata": {},
   "outputs": [],
   "source": []
  }
 ],
 "metadata": {
  "kernelspec": {
   "display_name": "base",
   "language": "python",
   "name": "python3"
  },
  "language_info": {
   "codemirror_mode": {
    "name": "ipython",
    "version": 3
   },
   "file_extension": ".py",
   "mimetype": "text/x-python",
   "name": "python",
   "nbconvert_exporter": "python",
   "pygments_lexer": "ipython3",
   "version": "3.11.5"
  }
 },
 "nbformat": 4,
 "nbformat_minor": 2
}
