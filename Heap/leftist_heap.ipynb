{
 "cells": [
  {
   "cell_type": "markdown",
   "metadata": {},
   "source": [
    "##### Leftist Tree:\n",
    "\n",
    "- Leftist tree is a type of binary heap data structure used for implementing priority queues. Its key features include the leftist property, which ensures that the left subtree of a node is always larger than the right subtree, and the calculation and maintenance of the null path length, which is used to maintain the efficiency of operations such as extract-min and merge.\n",
    "\n",
    "- Every node has an s-value (or rank or distance) which is the distance to the nearest leaf. In contrast to a binary heap (Which is always a complete binary tree), a leftist tree may be very unbalanced."
   ]
  },
  {
   "cell_type": "code",
   "execution_count": 1,
   "metadata": {},
   "outputs": [
    {
     "name": "stdout",
     "output_type": "stream",
     "text": [
      "1\n",
      "22\n",
      "5\n"
     ]
    }
   ],
   "source": [
    "class LeftistNode:\n",
    "\tdef __init__(self, element, lt=None, rt=None, dist=0):\n",
    "\t\tself.element = element\n",
    "\t\tself.left = lt\n",
    "\t\tself.right = rt\n",
    "\t\tself.dist = dist\n",
    "\n",
    "class LeftistHeap:\n",
    "\tdef __init__(self):\n",
    "\t\tself.root = None\n",
    "\n",
    "\tdef merge(self, h1, h2):\n",
    "\t\tif not h1:\n",
    "\t\t\treturn h2\n",
    "\t\tif not h2:\n",
    "\t\t\treturn h1\n",
    "\t\tif h1.element < h2.element:\n",
    "\t\t\treturn self.merge1(h1, h2)\n",
    "\t\telse:\n",
    "\t\t\treturn self.merge1(h2, h1)\n",
    "\n",
    "\tdef merge1(self, h1, h2):\n",
    "\t\tif not h1.left:\n",
    "\t\t\th1.left = h2\n",
    "\t\telse:\n",
    "\t\t\th1.right = self.merge(h1.right, h2)\n",
    "\t\t\tif h1.left.dist < h1.right.dist:\n",
    "\t\t\t\tself.swap_children(h1)\n",
    "\t\t\th1.dist = h1.right.dist + 1\n",
    "\t\treturn h1\n",
    "\n",
    "\tdef swap_children(self, t):\n",
    "\t\tt.left, t.right = t.right, t.left\n",
    "\n",
    "\tdef insert(self, x):\n",
    "\t\tself.root = self.merge(LeftistNode(x), self.root)\n",
    "\n",
    "\tdef find_min(self):\n",
    "\t\tif self.root:\n",
    "\t\t\treturn self.root.element\n",
    "\t\telse:\n",
    "\t\t\traise Exception(\"Heap is empty\")\n",
    "\n",
    "\tdef delete_min(self):\n",
    "\t\tif self.root:\n",
    "\t\t\told_root = self.root\n",
    "\t\t\tself.root = self.merge(self.root.left, self.root.right)\n",
    "\t\t\treturn old_root.element\n",
    "\t\telse:\n",
    "\t\t\traise Exception(\"Heap is empty\")\n",
    "\n",
    "\tdef is_empty(self):\n",
    "\t\treturn self.root is None\n",
    "\n",
    "\tdef make_empty(self):\n",
    "\t\tself.root = None\n",
    "\n",
    "def main():\n",
    "\th = LeftistHeap()\n",
    "\th1 = LeftistHeap()\n",
    "\th2 = LeftistHeap()\n",
    "\tarr = [1, 5, 7, 10, 15]\n",
    "\tarr1 = [22, 75]\n",
    "\n",
    "\tfor item in arr:\n",
    "\t\th.insert(item)\n",
    "\n",
    "\tfor item in arr1:\n",
    "\t\th1.insert(item)\n",
    "\n",
    "\tx = h.delete_min()\n",
    "\tprint(x)\n",
    "\n",
    "\tx = h1.delete_min()\n",
    "\tprint(x)\n",
    "\n",
    "\th2.root = h.merge(h.root, h1.root)\n",
    "\tx = h2.delete_min()\n",
    "\tprint(x)\n",
    "\n",
    "if __name__ == \"__main__\":\n",
    "\tmain()\n"
   ]
  },
  {
   "cell_type": "code",
   "execution_count": null,
   "metadata": {},
   "outputs": [],
   "source": []
  }
 ],
 "metadata": {
  "kernelspec": {
   "display_name": "base",
   "language": "python",
   "name": "python3"
  },
  "language_info": {
   "codemirror_mode": {
    "name": "ipython",
    "version": 3
   },
   "file_extension": ".py",
   "mimetype": "text/x-python",
   "name": "python",
   "nbconvert_exporter": "python",
   "pygments_lexer": "ipython3",
   "version": "3.11.5"
  }
 },
 "nbformat": 4,
 "nbformat_minor": 2
}
