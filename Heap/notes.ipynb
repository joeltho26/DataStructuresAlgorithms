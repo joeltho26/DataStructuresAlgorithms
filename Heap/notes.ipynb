{
 "cells": [
  {
   "cell_type": "markdown",
   "metadata": {},
   "source": [
    "#### Heap:\n",
    "A Heap is a special Tree-based Data Structure in which the tree is a complete binary tree."
   ]
  },
  {
   "cell_type": "markdown",
   "metadata": {},
   "source": [
    "Types of heaps:\n",
    "- Max-Heap:\n",
    "    - the value of the root node must be the greatest among all its child nodes and the same thing must be done for its left and right sub-tree also.\n",
    "\n",
    "    - The total number of comparisons required in the max heap is according to the height of the tree. The height of the complete binary tree is always logn; therefore, the time complexity would also be O(logn).\n",
    "    \n",
    "- Min-Heap:\n",
    "    - the value of the root node must be the smallest among all its child nodes and the same thing must be done for its left and right sub-tree also.\n",
    "\n",
    "    - The total number of comparisons required in the min heap is according to the height of the tree. The height of the complete binary tree is always logn; therefore, the time complexity would also be O(logn)."
   ]
  },
  {
   "cell_type": "markdown",
   "metadata": {},
   "source": [
    "Properties of Heap:\n",
    "- Heap has the following Properties:\n",
    "    - Complete Binary Tree: A heap tree is a complete binary tree, meaning all levels of the tree are fully filled except possibly the last level, which is filled from left to right. This property ensures that the tree is efficiently represented using an array.\n",
    "    - Heap Property: This property ensures that the minimum (or maximum) element is always at the root of the tree according to the heap type.\n",
    "    - Parent-Child Relationship: The relationship between a parent node at index ‘i’ and its children is given by the formulas: left child at index 2i+1 and right child at index 2i+2 for 0-based indexing of node numbers.\n",
    "    - Efficient Insertion and Removal: Insertion and removal operations in heap trees are efficient. New elements are inserted at the next available position in the bottom-rightmost level, and the heap property is restored by comparing the element with its parent and swapping if necessary. Removal of the root element involves replacing it with the last element and heapifying down.\n",
    "    - Efficient Access to Extremal Elements: The minimum or maximum element is always at the root of the heap, allowing constant-time access."
   ]
  },
  {
   "cell_type": "markdown",
   "metadata": {},
   "source": [
    "Heapify:\n",
    "\n",
    "- It is the process to rearrange the elements to maintain the property of heap data structure. It is done when a certain node creates an imbalance in the heap due to some operations on that node. It takes O(log N) to balance the tree. \n",
    "    - For max-heap, it balances in such a way that the maximum element is the root of that binary tree and \n",
    "    - For min-heap, it balances in such a way that the minimum element is the root of that binary tree."
   ]
  },
  {
   "cell_type": "markdown",
   "metadata": {},
   "source": [
    "Operations:\n",
    "- Insertion\n",
    "- Deletion\n",
    "- getMax\n",
    "- getMin\n",
    "- removeMin\n",
    "- removeMax"
   ]
  },
  {
   "cell_type": "markdown",
   "metadata": {},
   "source": [
    "Applications:\n",
    "- Priority Queues\n",
    "- Binomial Heap and Fibonacci Heap are variations of Binary Heap\n",
    "\n",
    "Advantages:\n",
    "- Fast access to maximum/minimum element (O(1))\n",
    "- Efficient Insertion and Deletion operations (O(log n)) Flexible size\n",
    "- Can be efficiently implemented as an array\n",
    "- Suitable for real-time applications\n",
    "\n",
    "Disadvantages:\n",
    "- Not suitable for searching for an element other than maximum/minimum (O(n) in worst case)\n",
    "- Extra memory overhead to maintain heap structure\n",
    "- Slower than other data structures like arrays and linked lists for non-priority queue operations.\n"
   ]
  },
  {
   "cell_type": "markdown",
   "metadata": {},
   "source": []
  }
 ],
 "metadata": {
  "language_info": {
   "name": "python"
  }
 },
 "nbformat": 4,
 "nbformat_minor": 2
}
