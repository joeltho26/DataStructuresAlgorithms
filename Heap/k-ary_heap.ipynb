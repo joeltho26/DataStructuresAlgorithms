{
 "cells": [
  {
   "cell_type": "code",
   "execution_count": 1,
   "metadata": {},
   "outputs": [
    {
     "name": "stdout",
     "output_type": "stream",
     "text": [
      "Built Heap:\n",
      "[10, 9, 6, 7, 8, 4, 5]\n",
      "\n",
      "Heap after insertion of 3 :\n",
      "[10, 9, 6, 7, 8, 4, 5]\n",
      "\n",
      "Extracted max is 10\n",
      "Heap after extract max:\n",
      "[9, 8, 6, 7, 5, 4, 5]\n"
     ]
    }
   ],
   "source": [
    "def restore_down(arr, length, index, k):\n",
    "\tchild = [0] * (k + 1)\n",
    "\twhile True:\n",
    "\t\tfor i in range(1, k + 1):\n",
    "\t\t\tchild[i] = k * index + i if k * index + i < length else -1\n",
    "\n",
    "\t\tmax_child, max_child_index = -1, 0\n",
    "\t\tfor i in range(1, k + 1):\n",
    "\t\t\tif child[i] != -1 and arr[child[i]] > max_child:\n",
    "\t\t\t\tmax_child_index = child[i]\n",
    "\t\t\t\tmax_child = arr[child[i]]\n",
    "\n",
    "\t\tif max_child == -1:\n",
    "\t\t\tbreak\n",
    "\n",
    "\t\tif arr[index] < arr[max_child_index]:\n",
    "\t\t\tarr[index], arr[max_child_index] = arr[max_child_index], arr[index]\n",
    "\n",
    "\t\tindex = max_child_index\n",
    "\n",
    "def restore_up(arr, index, k):\n",
    "\tparent = (index - 1) // k\n",
    "\twhile parent >= 0:\n",
    "\t\tif arr[index] > arr[parent]:\n",
    "\t\t\tarr[index], arr[parent] = arr[parent], arr[index]\n",
    "\t\t\tindex = parent\n",
    "\t\t\tparent = (index - 1) // k\n",
    "\t\telse:\n",
    "\t\t\tbreak\n",
    "\n",
    "def build_heap(arr, n, k):\n",
    "\tfor i in range((n - 1) // k, -1, -1):\n",
    "\t\trestore_down(arr, n, i, k)\n",
    "\n",
    "def insert(arr, n, k, elem):\n",
    "\tarr.append(elem)\n",
    "\tn += 1\n",
    "\trestore_up(arr, n - 1, k)\n",
    "\n",
    "\n",
    "def extract_max(arr, n, k):\n",
    "\tmax_elem = arr[0]\n",
    "\tarr[0] = arr[n - 1]\n",
    "\tn -= 1\n",
    "\trestore_down(arr, n, 0, k)\n",
    "\treturn max_elem\n",
    "\n",
    "arr = [4, 5, 6, 7, 8, 9, 10]\n",
    "n = 7\n",
    "k = 3\n",
    "\n",
    "build_heap(arr, n, k)\n",
    "print(\"Built Heap:\")\n",
    "print(arr[:n])\n",
    "\n",
    "elem = 3\n",
    "insert(arr, n, k, elem)\n",
    "print(\"\\nHeap after insertion of\", elem, \":\")\n",
    "print(arr[:n])\n",
    "\n",
    "max_elem = extract_max(arr, n, k)\n",
    "print(\"\\nExtracted max is\", max_elem)\n",
    "print(\"Heap after extract max:\")\n",
    "print(arr[:n])\n"
   ]
  }
 ],
 "metadata": {
  "kernelspec": {
   "display_name": "base",
   "language": "python",
   "name": "python3"
  },
  "language_info": {
   "codemirror_mode": {
    "name": "ipython",
    "version": 3
   },
   "file_extension": ".py",
   "mimetype": "text/x-python",
   "name": "python",
   "nbconvert_exporter": "python",
   "pygments_lexer": "ipython3",
   "version": "3.11.5"
  }
 },
 "nbformat": 4,
 "nbformat_minor": 2
}
